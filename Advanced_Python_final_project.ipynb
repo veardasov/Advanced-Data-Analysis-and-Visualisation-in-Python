{
 "cells": [
  {
   "cell_type": "markdown",
   "id": "1403a137",
   "metadata": {},
   "source": [
    "## Проект по анализу данных"
   ]
  },
  {
   "cell_type": "code",
   "execution_count": 1,
   "id": "014a62b4",
   "metadata": {},
   "outputs": [],
   "source": [
    "import numpy as np  # для матричных вычислений\n",
    "import pandas as pd # для анализа и предобработки данных\n",
    "import matplotlib.pyplot as plt # для визуализации\n",
    "import seaborn as sns # для визуализации\n",
    "from sklearn.preprocessing import StandardScaler # шкалирование данных\n",
    "from sklearn.model_selection import train_test_split # разделение выборки\n",
    "from sklearn.linear_model import LogisticRegression # логистическая регрессия\n",
    "from sklearn import metrics # метрики\n",
    "from sklearn.metrics import f1_score # метрика f1_score\n",
    "from sklearn.metrics import accuracy_score # метрика accuracy_score\n",
    "from sklearn.metrics import make_scorer # метрика make_scorer\n",
    "from sklearn import ensemble # ансамбли\n",
    "from sklearn.neighbors import KNeighborsClassifier # knn\n",
    "from xgboost import XGBClassifier # xgboost\n",
    "from catboost import CatBoostClassifier # catboost\n",
    "from sklearn.ensemble import StackingClassifier # стекинг\n",
    "from sklearn.ensemble import RandomForestClassifier # \n",
    "from sklearn.ensemble import GradientBoostingClassifier\n",
    "from sklearn.ensemble import AdaBoostClassifier # adaboost\n",
    "from sklearn.tree import DecisionTreeClassifier # дерево решений\n",
    "from sklearn.ensemble import GradientBoostingClassifier # градиентный бустинг\n",
    "from sklearn.model_selection import GridSearchCV # gridsearchcv\n",
    "# Загружаем библиотеки, которыми будем пользоваться в ходе исследования\n",
    "import warnings\n",
    "warnings.filterwarnings(\"ignore\")"
   ]
  },
  {
   "cell_type": "markdown",
   "id": "0a06fb4f",
   "metadata": {},
   "source": [
    "# Данные и пропуски \n",
    "\n",
    "Рассмотрим данные про титаник. Данные взяты с сайта https://www.kaggle.com/c/titanic/data.\n",
    "\n",
    "Данные:\n",
    "* train.csv - обучающий набор данных с предоставленным результатом\n",
    "* test.csv - набор тестовых данных без предоставления исхода \n",
    "* gender_submission.csv - пример, как должен выглядеть файл с нашими предсказаниями\n",
    "\n",
    "\n",
    "Признаки:\n",
    "* survived - выживание 0 = нет, 1 = да\n",
    "* pclass - класс билета 1 = 1-й, 2 = 2-й, 3 = 3-й\n",
    "* sex - пол\n",
    "* age - возраст в годах\n",
    "* sibsp - количество братьев и сестер/супругов на борту Титаника\n",
    "* parch - количество родителей/детей на борту Титаника\n",
    "* ticket -  номер билета\n",
    "* fare - стоимость билета\n",
    "* cabin - номер каюты\n",
    "* embarked - прибыл в порт посадки C = Шербур, Q = Квинстаун, S = Саутгемптон\n",
    "\n",
    "Целевая переменная survived определяет, выжил ли человек после крушения Титаника. Именно survived мы будем пытаться предсказать в данном кейсе.\n",
    "\n",
    "### Загрузка данных"
   ]
  },
  {
   "cell_type": "code",
   "execution_count": 2,
   "id": "764d8305",
   "metadata": {},
   "outputs": [
    {
     "data": {
      "text/html": [
       "<div>\n",
       "<style scoped>\n",
       "    .dataframe tbody tr th:only-of-type {\n",
       "        vertical-align: middle;\n",
       "    }\n",
       "\n",
       "    .dataframe tbody tr th {\n",
       "        vertical-align: top;\n",
       "    }\n",
       "\n",
       "    .dataframe thead th {\n",
       "        text-align: right;\n",
       "    }\n",
       "</style>\n",
       "<table border=\"1\" class=\"dataframe\">\n",
       "  <thead>\n",
       "    <tr style=\"text-align: right;\">\n",
       "      <th></th>\n",
       "      <th>PassengerId</th>\n",
       "      <th>Survived</th>\n",
       "      <th>Pclass</th>\n",
       "      <th>Name</th>\n",
       "      <th>Sex</th>\n",
       "      <th>Age</th>\n",
       "      <th>SibSp</th>\n",
       "      <th>Parch</th>\n",
       "      <th>Ticket</th>\n",
       "      <th>Fare</th>\n",
       "      <th>Cabin</th>\n",
       "      <th>Embarked</th>\n",
       "    </tr>\n",
       "  </thead>\n",
       "  <tbody>\n",
       "    <tr>\n",
       "      <th>0</th>\n",
       "      <td>1</td>\n",
       "      <td>0</td>\n",
       "      <td>3</td>\n",
       "      <td>Braund, Mr. Owen Harris</td>\n",
       "      <td>male</td>\n",
       "      <td>22.0</td>\n",
       "      <td>1</td>\n",
       "      <td>0</td>\n",
       "      <td>A/5 21171</td>\n",
       "      <td>7.25</td>\n",
       "      <td>NaN</td>\n",
       "      <td>S</td>\n",
       "    </tr>\n",
       "  </tbody>\n",
       "</table>\n",
       "</div>"
      ],
      "text/plain": [
       "   PassengerId  Survived  Pclass                     Name   Sex   Age  SibSp  \\\n",
       "0            1         0       3  Braund, Mr. Owen Harris  male  22.0      1   \n",
       "\n",
       "   Parch     Ticket  Fare Cabin Embarked  \n",
       "0      0  A/5 21171  7.25   NaN        S  "
      ]
     },
     "execution_count": 2,
     "metadata": {},
     "output_type": "execute_result"
    }
   ],
   "source": [
    "train = pd.read_csv('train.csv')\n",
    "train.head(1)"
   ]
  },
  {
   "cell_type": "code",
   "execution_count": 3,
   "id": "c2c47c1e",
   "metadata": {},
   "outputs": [
    {
     "data": {
      "text/html": [
       "<div>\n",
       "<style scoped>\n",
       "    .dataframe tbody tr th:only-of-type {\n",
       "        vertical-align: middle;\n",
       "    }\n",
       "\n",
       "    .dataframe tbody tr th {\n",
       "        vertical-align: top;\n",
       "    }\n",
       "\n",
       "    .dataframe thead th {\n",
       "        text-align: right;\n",
       "    }\n",
       "</style>\n",
       "<table border=\"1\" class=\"dataframe\">\n",
       "  <thead>\n",
       "    <tr style=\"text-align: right;\">\n",
       "      <th></th>\n",
       "      <th>PassengerId</th>\n",
       "      <th>Pclass</th>\n",
       "      <th>Name</th>\n",
       "      <th>Sex</th>\n",
       "      <th>Age</th>\n",
       "      <th>SibSp</th>\n",
       "      <th>Parch</th>\n",
       "      <th>Ticket</th>\n",
       "      <th>Fare</th>\n",
       "      <th>Cabin</th>\n",
       "      <th>Embarked</th>\n",
       "    </tr>\n",
       "  </thead>\n",
       "  <tbody>\n",
       "    <tr>\n",
       "      <th>0</th>\n",
       "      <td>892</td>\n",
       "      <td>3</td>\n",
       "      <td>Kelly, Mr. James</td>\n",
       "      <td>male</td>\n",
       "      <td>34.5</td>\n",
       "      <td>0</td>\n",
       "      <td>0</td>\n",
       "      <td>330911</td>\n",
       "      <td>7.8292</td>\n",
       "      <td>NaN</td>\n",
       "      <td>Q</td>\n",
       "    </tr>\n",
       "  </tbody>\n",
       "</table>\n",
       "</div>"
      ],
      "text/plain": [
       "   PassengerId  Pclass              Name   Sex   Age  SibSp  Parch  Ticket  \\\n",
       "0          892       3  Kelly, Mr. James  male  34.5      0      0  330911   \n",
       "\n",
       "     Fare Cabin Embarked  \n",
       "0  7.8292   NaN        Q  "
      ]
     },
     "execution_count": 3,
     "metadata": {},
     "output_type": "execute_result"
    }
   ],
   "source": [
    "test = pd.read_csv('test.csv')\n",
    "test.head(1)"
   ]
  },
  {
   "cell_type": "markdown",
   "id": "5c456620",
   "metadata": {},
   "source": [
    "## Первичная обработка данных\n",
    "\n",
    "Выясним, есть ли в данных пропущенные значения (пустые, незаполненные ячейки) в train."
   ]
  },
  {
   "cell_type": "code",
   "execution_count": 4,
   "id": "3355a18c",
   "metadata": {},
   "outputs": [
    {
     "data": {
      "text/plain": [
       "PassengerId      0\n",
       "Survived         0\n",
       "Pclass           0\n",
       "Name             0\n",
       "Sex              0\n",
       "Age            177\n",
       "SibSp            0\n",
       "Parch            0\n",
       "Ticket           0\n",
       "Fare             0\n",
       "Cabin          687\n",
       "Embarked         2\n",
       "dtype: int64"
      ]
     },
     "execution_count": 4,
     "metadata": {},
     "output_type": "execute_result"
    }
   ],
   "source": [
    "# Смотрим на количество пропусков в колонках train\n",
    "train.isnull().sum()"
   ]
  },
  {
   "cell_type": "markdown",
   "id": "728b5d1e",
   "metadata": {},
   "source": [
    "Заменим пропуски в train. В колонке с названием порта прибытия вставим показатель моды."
   ]
  },
  {
   "cell_type": "code",
   "execution_count": 5,
   "id": "bb18da74",
   "metadata": {},
   "outputs": [],
   "source": [
    "# Заменим пропущенные значения в embarked на моду по всему столбцу\n",
    "train.Embarked = train.Embarked.fillna(train.Embarked.mode()[0])"
   ]
  },
  {
   "cell_type": "markdown",
   "id": "738c3fa8",
   "metadata": {},
   "source": [
    "Посмотрим, какой процент пропущенных значений составляет столбик cabin."
   ]
  },
  {
   "cell_type": "code",
   "execution_count": 6,
   "id": "68225115",
   "metadata": {},
   "outputs": [
    {
     "name": "stdout",
     "output_type": "stream",
     "text": [
      "Процент пропущенных значений cabin в train: 77.1\n"
     ]
    }
   ],
   "source": [
    "print(f'Процент пропущенных значений cabin в train: {round(train.Cabin.isnull().sum()*100/train.shape[0], 2)}')\n",
    "# Показатель 77.1% настолько высокий, что имеет смысл удалить всю колонку Cabin"
   ]
  },
  {
   "cell_type": "code",
   "execution_count": 7,
   "id": "a4b2424c",
   "metadata": {},
   "outputs": [
    {
     "name": "stdout",
     "output_type": "stream",
     "text": [
      "Процент пропущенных значений cabin в test: 36.7\n"
     ]
    }
   ],
   "source": [
    "# Посмотрим на процент пропущенных значений cabin на test\n",
    "print(f'Процент пропущенных значений cabin в test: {round(test.Cabin.isnull().sum()*100/train.shape[0], 2)}')\n",
    "# Показатель 36.7% также сравнительно высокий, удаляем всю колонку Cabin"
   ]
  },
  {
   "cell_type": "code",
   "execution_count": 8,
   "id": "240981b1",
   "metadata": {},
   "outputs": [],
   "source": [
    "# Удаляем колонку cabin для train и test\n",
    "train = train.drop(['Cabin'], axis=1)\n",
    "test = test.drop(['Cabin'], axis=1)"
   ]
  },
  {
   "cell_type": "markdown",
   "id": "e74d1222",
   "metadata": {},
   "source": [
    "Заменим пропущенные значения возраста медианными показателями для людей соотвествующего пола."
   ]
  },
  {
   "cell_type": "code",
   "execution_count": 9,
   "id": "b3d33649",
   "metadata": {},
   "outputs": [],
   "source": [
    "train[train.Sex == 'female'] = train[train.Sex == 'female'].fillna(train.groupby('Sex')['Age'].median()[0])\n",
    "train[train.Sex == 'male'] = train[train.Sex == 'male'].fillna(train.groupby('Sex')['Age'].median()[1])"
   ]
  },
  {
   "cell_type": "markdown",
   "id": "43d580c7",
   "metadata": {},
   "source": [
    "Рассмотрим пропуски в test."
   ]
  },
  {
   "cell_type": "code",
   "execution_count": 10,
   "id": "f717a0b6",
   "metadata": {},
   "outputs": [
    {
     "data": {
      "text/plain": [
       "PassengerId     0\n",
       "Pclass          0\n",
       "Name            0\n",
       "Sex             0\n",
       "Age            86\n",
       "SibSp           0\n",
       "Parch           0\n",
       "Ticket          0\n",
       "Fare            1\n",
       "Embarked        0\n",
       "dtype: int64"
      ]
     },
     "execution_count": 10,
     "metadata": {},
     "output_type": "execute_result"
    }
   ],
   "source": [
    "test.isnull().sum()"
   ]
  },
  {
   "cell_type": "markdown",
   "id": "c65e2d0c",
   "metadata": {},
   "source": [
    "Заменим пропущенное значение стоимости билета медианным показателем по классу соотвесвующего билета."
   ]
  },
  {
   "cell_type": "code",
   "execution_count": 11,
   "id": "9631bf58",
   "metadata": {},
   "outputs": [],
   "source": [
    "test.Fare = test.Fare.fillna(test[test.Pclass == test[test.Fare.isnull()].Pclass.values[0]].Fare.median())"
   ]
  },
  {
   "cell_type": "code",
   "execution_count": 12,
   "id": "1507a446",
   "metadata": {},
   "outputs": [],
   "source": [
    "test[test.Sex == 'female'] = test[test.Sex == 'female'].fillna(test.groupby('Sex')['Age'].median()[0])\n",
    "test[test.Sex == 'male'] = test[test.Sex == 'male'].fillna(test.groupby('Sex')['Age'].median()[1])"
   ]
  },
  {
   "cell_type": "markdown",
   "id": "05edf4c8",
   "metadata": {},
   "source": [
    "Удалим столбцы, которые не будут способствовать увеличиванию пердсказательный силы модели."
   ]
  },
  {
   "cell_type": "code",
   "execution_count": 13,
   "id": "2d970e15",
   "metadata": {},
   "outputs": [],
   "source": [
    "train = train.drop(['PassengerId', 'Name', 'Ticket'], axis=1)\n",
    "test = test.drop(['PassengerId', 'Name', 'Ticket'], axis=1)"
   ]
  },
  {
   "cell_type": "markdown",
   "id": "ee8e52c8",
   "metadata": {},
   "source": [
    "Обратим внимание, что показатель пола задан как male/female. Перекодируем стобец так, что 1 - женщины, 0 - мужчины."
   ]
  },
  {
   "cell_type": "code",
   "execution_count": 14,
   "id": "ac58f8a7",
   "metadata": {},
   "outputs": [],
   "source": [
    "train['Sex'] = train['Sex'].apply(lambda x: 1 if x == 'female' else 0)\n",
    "test['Sex'] = test['Sex'].apply(lambda x: 1 if x == 'female' else 0)"
   ]
  },
  {
   "cell_type": "markdown",
   "id": "b30d1f82",
   "metadata": {},
   "source": [
    "Создадим для показателя прибытия в порт бинарные переменны."
   ]
  },
  {
   "cell_type": "code",
   "execution_count": 15,
   "id": "6186fa99",
   "metadata": {},
   "outputs": [],
   "source": [
    "train = pd.get_dummies(train)\n",
    "test = pd.get_dummies(test)"
   ]
  },
  {
   "cell_type": "markdown",
   "id": "4f00062f",
   "metadata": {},
   "source": [
    "Проверим, не были ли пропущены важные этапы предобработки данных, еще раз посмотрев на данные."
   ]
  },
  {
   "cell_type": "code",
   "execution_count": 16,
   "id": "7ebf23b8",
   "metadata": {},
   "outputs": [
    {
     "data": {
      "text/html": [
       "<div>\n",
       "<style scoped>\n",
       "    .dataframe tbody tr th:only-of-type {\n",
       "        vertical-align: middle;\n",
       "    }\n",
       "\n",
       "    .dataframe tbody tr th {\n",
       "        vertical-align: top;\n",
       "    }\n",
       "\n",
       "    .dataframe thead th {\n",
       "        text-align: right;\n",
       "    }\n",
       "</style>\n",
       "<table border=\"1\" class=\"dataframe\">\n",
       "  <thead>\n",
       "    <tr style=\"text-align: right;\">\n",
       "      <th></th>\n",
       "      <th>Survived</th>\n",
       "      <th>Pclass</th>\n",
       "      <th>Sex</th>\n",
       "      <th>Age</th>\n",
       "      <th>SibSp</th>\n",
       "      <th>Parch</th>\n",
       "      <th>Fare</th>\n",
       "      <th>Embarked_C</th>\n",
       "      <th>Embarked_Q</th>\n",
       "      <th>Embarked_S</th>\n",
       "    </tr>\n",
       "  </thead>\n",
       "  <tbody>\n",
       "    <tr>\n",
       "      <th>0</th>\n",
       "      <td>0</td>\n",
       "      <td>3</td>\n",
       "      <td>0</td>\n",
       "      <td>22.0</td>\n",
       "      <td>1</td>\n",
       "      <td>0</td>\n",
       "      <td>7.25</td>\n",
       "      <td>False</td>\n",
       "      <td>False</td>\n",
       "      <td>True</td>\n",
       "    </tr>\n",
       "  </tbody>\n",
       "</table>\n",
       "</div>"
      ],
      "text/plain": [
       "   Survived  Pclass  Sex   Age  SibSp  Parch  Fare  Embarked_C  Embarked_Q  \\\n",
       "0         0       3    0  22.0      1      0  7.25       False       False   \n",
       "\n",
       "   Embarked_S  \n",
       "0        True  "
      ]
     },
     "execution_count": 16,
     "metadata": {},
     "output_type": "execute_result"
    }
   ],
   "source": [
    "train.head(1)"
   ]
  },
  {
   "cell_type": "code",
   "execution_count": 17,
   "id": "5d0d5afc",
   "metadata": {},
   "outputs": [
    {
     "data": {
      "text/html": [
       "<div>\n",
       "<style scoped>\n",
       "    .dataframe tbody tr th:only-of-type {\n",
       "        vertical-align: middle;\n",
       "    }\n",
       "\n",
       "    .dataframe tbody tr th {\n",
       "        vertical-align: top;\n",
       "    }\n",
       "\n",
       "    .dataframe thead th {\n",
       "        text-align: right;\n",
       "    }\n",
       "</style>\n",
       "<table border=\"1\" class=\"dataframe\">\n",
       "  <thead>\n",
       "    <tr style=\"text-align: right;\">\n",
       "      <th></th>\n",
       "      <th>Pclass</th>\n",
       "      <th>Sex</th>\n",
       "      <th>Age</th>\n",
       "      <th>SibSp</th>\n",
       "      <th>Parch</th>\n",
       "      <th>Fare</th>\n",
       "      <th>Embarked_C</th>\n",
       "      <th>Embarked_Q</th>\n",
       "      <th>Embarked_S</th>\n",
       "    </tr>\n",
       "  </thead>\n",
       "  <tbody>\n",
       "    <tr>\n",
       "      <th>0</th>\n",
       "      <td>3</td>\n",
       "      <td>0</td>\n",
       "      <td>34.5</td>\n",
       "      <td>0</td>\n",
       "      <td>0</td>\n",
       "      <td>7.8292</td>\n",
       "      <td>False</td>\n",
       "      <td>True</td>\n",
       "      <td>False</td>\n",
       "    </tr>\n",
       "  </tbody>\n",
       "</table>\n",
       "</div>"
      ],
      "text/plain": [
       "   Pclass  Sex   Age  SibSp  Parch    Fare  Embarked_C  Embarked_Q  Embarked_S\n",
       "0       3    0  34.5      0      0  7.8292       False        True       False"
      ]
     },
     "execution_count": 17,
     "metadata": {},
     "output_type": "execute_result"
    }
   ],
   "source": [
    "test.head(1)"
   ]
  },
  {
   "cell_type": "markdown",
   "id": "14de4616",
   "metadata": {},
   "source": [
    "Рассмотрим корреляцию данных между собой, включая предсказываемую переменную, выжил ли человек. Для это построим корреляционную матрицу. Это поможет нам:\n",
    "* заметить наличие/отсутствие мультиколлинеарности\n",
    "* рассмотрим корреляцию с зависимой переменной, что позволит сформулировать гипотезы"
   ]
  },
  {
   "cell_type": "code",
   "execution_count": 18,
   "id": "27a8c115",
   "metadata": {},
   "outputs": [
    {
     "data": {
      "image/png": "[encoded data removed]",
      "text/plain": [
       "<Figure size 1000x500 with 2 Axes>"
      ]
     },
     "metadata": {},
     "output_type": "display_data"
    }
   ],
   "source": [
    "plt.figure(figsize = (10, 5))\n",
    "sns.heatmap(train.select_dtypes('number').corr(), annot = True);"
   ]
  },
  {
   "cell_type": "markdown",
   "id": "7f405fba",
   "metadata": {},
   "source": [
    "Самым большим показателем в таблице является 55% корреляция между классом билета и стоимостью билета, что выглядит вполне логично. Данные показатели буду сохранены в таблице, как и те, которые коррелируют меньше: как правило высоким уровнем корреляции мы считаем 70% и больше.\n",
    "\n",
    "Рассмотрим корреляцию показателей с предсказываемой переменной survived. Здесь выделяются два ключевых показателя: класс билета (34%) и стоимостью билета (26%)."
   ]
  },
  {
   "cell_type": "markdown",
   "id": "033c6ad8",
   "metadata": {},
   "source": [
    "Рассмотрим распределение предсказываемой переменной. Это поможет нам узнать, есть ли дисбаланс в данных."
   ]
  },
  {
   "cell_type": "code",
   "execution_count": 19,
   "id": "168cfc84",
   "metadata": {},
   "outputs": [
    {
     "data": {
      "image/png": "[encoded data removed]",
      "text/plain": [
       "<Figure size 640x480 with 1 Axes>"
      ]
     },
     "metadata": {},
     "output_type": "display_data"
    }
   ],
   "source": [
    "plt.hist(train.Survived, color=\"orange\");"
   ]
  },
  {
   "cell_type": "markdown",
   "id": "5a00003a",
   "metadata": {},
   "source": [
    "## Перейдем к разделу построения моделей"
   ]
  },
  {
   "cell_type": "code",
   "execution_count": 20,
   "id": "57b9da1e",
   "metadata": {},
   "outputs": [],
   "source": [
    "# В X запишем все предсказувающие переменные\n",
    "X = train.drop(['Survived'], axis=1)\n",
    "# В y запишем предсказываемую переменную survived\n",
    "y = train['Survived']"
   ]
  },
  {
   "cell_type": "code",
   "execution_count": 21,
   "id": "746933c6",
   "metadata": {},
   "outputs": [],
   "source": [
    "# На 67% наблюдений модель будет обучаться, а на 33% мы будем проверять качество модели\n",
    "X_train, X_test, y_train, y_test = train_test_split(X, y, random_state = 42, test_size = 0.33)"
   ]
  },
  {
   "cell_type": "code",
   "execution_count": 22,
   "id": "8356a0a1",
   "metadata": {},
   "outputs": [],
   "source": [
    "scaler = StandardScaler()\n",
    "scaler.fit(X_train)\n",
    "\n",
    "X_train = scaler.transform(X_train)\n",
    "X_test = scaler.transform(X_test)"
   ]
  },
  {
   "cell_type": "markdown",
   "id": "c61cf68b",
   "metadata": {},
   "source": [
    "## Логистическая регрессия\n",
    "\n",
    "Модель логистической регрессии будет нашим бенчмарком, с которым мы будем сравнивать все остальные модели."
   ]
  },
  {
   "cell_type": "code",
   "execution_count": 23,
   "id": "aa35a66f",
   "metadata": {},
   "outputs": [
    {
     "name": "stdout",
     "output_type": "stream",
     "text": [
      "              precision    recall  f1-score   support\n",
      "\n",
      "           0       0.83      0.87      0.85       175\n",
      "           1       0.80      0.73      0.77       120\n",
      "\n",
      "    accuracy                           0.82       295\n",
      "   macro avg       0.81      0.80      0.81       295\n",
      "weighted avg       0.82      0.82      0.82       295\n",
      "\n"
     ]
    }
   ],
   "source": [
    "model_lr = LogisticRegression()\n",
    "\n",
    "model_lr.fit(X_train, y_train)\n",
    "\n",
    "preds_test = model_lr.predict(X_test)\n",
    "\n",
    "print(metrics.classification_report(y_test, preds_test))"
   ]
  },
  {
   "cell_type": "code",
   "execution_count": 24,
   "id": "f64b7eb2",
   "metadata": {},
   "outputs": [
    {
     "data": {
      "text/html": [
       "<style>#sk-container-id-1 {color: black;}#sk-container-id-1 pre{padding: 0;}#sk-container-id-1 div.sk-toggleable {background-color: white;}#sk-container-id-1 label.sk-toggleable__label {cursor: pointer;display: block;width: 100%;margin-bottom: 0;padding: 0.3em;box-sizing: border-box;text-align: center;}#sk-container-id-1 label.sk-toggleable__label-arrow:before {content: \"▸\";float: left;margin-right: 0.25em;color: #696969;}#sk-container-id-1 label.sk-toggleable__label-arrow:hover:before {color: black;}#sk-container-id-1 div.sk-estimator:hover label.sk-toggleable__label-arrow:before {color: black;}#sk-container-id-1 div.sk-toggleable__content {max-height: 0;max-width: 0;overflow: hidden;text-align: left;background-color: #f0f8ff;}#sk-container-id-1 div.sk-toggleable__content pre {margin: 0.2em;color: black;border-radius: 0.25em;background-color: #f0f8ff;}#sk-container-id-1 input.sk-toggleable__control:checked~div.sk-toggleable__content {max-height: 200px;max-width: 100%;overflow: auto;}#sk-container-id-1 input.sk-toggleable__control:checked~label.sk-toggleable__label-arrow:before {content: \"▾\";}#sk-container-id-1 div.sk-estimator input.sk-toggleable__control:checked~label.sk-toggleable__label {background-color: #d4ebff;}#sk-container-id-1 div.sk-label input.sk-toggleable__control:checked~label.sk-toggleable__label {background-color: #d4ebff;}#sk-container-id-1 input.sk-hidden--visually {border: 0;clip: rect(1px 1px 1px 1px);clip: rect(1px, 1px, 1px, 1px);height: 1px;margin: -1px;overflow: hidden;padding: 0;position: absolute;width: 1px;}#sk-container-id-1 div.sk-estimator {font-family: monospace;background-color: #f0f8ff;border: 1px dotted black;border-radius: 0.25em;box-sizing: border-box;margin-bottom: 0.5em;}#sk-container-id-1 div.sk-estimator:hover {background-color: #d4ebff;}#sk-container-id-1 div.sk-parallel-item::after {content: \"\";width: 100%;border-bottom: 1px solid gray;flex-grow: 1;}#sk-container-id-1 div.sk-label:hover label.sk-toggleable__label {background-color: #d4ebff;}#sk-container-id-1 div.sk-serial::before {content: \"\";position: absolute;border-left: 1px solid gray;box-sizing: border-box;top: 0;bottom: 0;left: 50%;z-index: 0;}#sk-container-id-1 div.sk-serial {display: flex;flex-direction: column;align-items: center;background-color: white;padding-right: 0.2em;padding-left: 0.2em;position: relative;}#sk-container-id-1 div.sk-item {position: relative;z-index: 1;}#sk-container-id-1 div.sk-parallel {display: flex;align-items: stretch;justify-content: center;background-color: white;position: relative;}#sk-container-id-1 div.sk-item::before, #sk-container-id-1 div.sk-parallel-item::before {content: \"\";position: absolute;border-left: 1px solid gray;box-sizing: border-box;top: 0;bottom: 0;left: 50%;z-index: -1;}#sk-container-id-1 div.sk-parallel-item {display: flex;flex-direction: column;z-index: 1;position: relative;background-color: white;}#sk-container-id-1 div.sk-parallel-item:first-child::after {align-self: flex-end;width: 50%;}#sk-container-id-1 div.sk-parallel-item:last-child::after {align-self: flex-start;width: 50%;}#sk-container-id-1 div.sk-parallel-item:only-child::after {width: 0;}#sk-container-id-1 div.sk-dashed-wrapped {border: 1px dashed gray;margin: 0 0.4em 0.5em 0.4em;box-sizing: border-box;padding-bottom: 0.4em;background-color: white;}#sk-container-id-1 div.sk-label label {font-family: monospace;font-weight: bold;display: inline-block;line-height: 1.2em;}#sk-container-id-1 div.sk-label-container {text-align: center;}#sk-container-id-1 div.sk-container {/* jupyter's `normalize.less` sets `[hidden] { display: none; }` but bootstrap.min.css set `[hidden] { display: none !important; }` so we also need the `!important` here to be able to override the default hidden behavior on the sphinx rendered scikit-learn.org. See: https://github.com/scikit-learn/scikit-learn/issues/21755 */display: inline-block !important;position: relative;}#sk-container-id-1 div.sk-text-repr-fallback {display: none;}</style><div id=\"sk-container-id-1\" class=\"sk-top-container\"><div class=\"sk-text-repr-fallback\"><pre>LogisticRegression(max_iter=1000, random_state=1, solver=&#x27;sag&#x27;)</pre><b>In a Jupyter environment, please rerun this cell to show the HTML representation or trust the notebook. <br />On GitHub, the HTML representation is unable to render, please try loading this page with nbviewer.org.</b></div><div class=\"sk-container\" hidden><div class=\"sk-item\"><div class=\"sk-estimator sk-toggleable\"><input class=\"sk-toggleable__control sk-hidden--visually\" id=\"sk-estimator-id-1\" type=\"checkbox\" checked><label for=\"sk-estimator-id-1\" class=\"sk-toggleable__label sk-toggleable__label-arrow\">LogisticRegression</label><div class=\"sk-toggleable__content\"><pre>LogisticRegression(max_iter=1000, random_state=1, solver=&#x27;sag&#x27;)</pre></div></div></div></div></div>"
      ],
      "text/plain": [
       "LogisticRegression(max_iter=1000, random_state=1, solver='sag')"
      ]
     },
     "execution_count": 24,
     "metadata": {},
     "output_type": "execute_result"
    }
   ],
   "source": [
    "log_reg = LogisticRegression(\n",
    "    solver='sag',\n",
    "    random_state=1,\n",
    "    max_iter=1000\n",
    ")\n",
    "\n",
    "log_reg.fit(X_train, y_train)"
   ]
  },
  {
   "cell_type": "code",
   "execution_count": 25,
   "id": "3f6ec5c3",
   "metadata": {},
   "outputs": [
    {
     "name": "stdout",
     "output_type": "stream",
     "text": [
      "              precision    recall  f1-score   support\n",
      "\n",
      "           0       0.82      0.86      0.84       374\n",
      "           1       0.75      0.68      0.72       222\n",
      "\n",
      "    accuracy                           0.80       596\n",
      "   macro avg       0.79      0.77      0.78       596\n",
      "weighted avg       0.79      0.80      0.79       596\n",
      "\n",
      "              precision    recall  f1-score   support\n",
      "\n",
      "           0       0.83      0.87      0.85       175\n",
      "           1       0.80      0.73      0.77       120\n",
      "\n",
      "    accuracy                           0.82       295\n",
      "   macro avg       0.81      0.80      0.81       295\n",
      "weighted avg       0.82      0.82      0.82       295\n",
      "\n"
     ]
    }
   ],
   "source": [
    "y_train_pred = log_reg.predict(X_train)\n",
    "print(metrics.classification_report(y_train, y_train_pred))\n",
    "\n",
    "y_test_pred = log_reg.predict(X_test)\n",
    "print(metrics.classification_report(y_test, y_test_pred))"
   ]
  },
  {
   "cell_type": "code",
   "execution_count": 26,
   "id": "85a62661",
   "metadata": {},
   "outputs": [
    {
     "data": {
      "image/png": "[encoded data removed]",
      "text/plain": [
       "<Figure size 1000x400 with 1 Axes>"
      ]
     },
     "metadata": {},
     "output_type": "display_data"
    }
   ],
   "source": [
    "y_test_proba_pred = log_reg.predict_proba(X_test)[:, 1]\n",
    "y_test_proba_pred = pd.Series(y_test_proba_pred)\n",
    "\n",
    "recall_scores = []\n",
    "precision_scores = []\n",
    "f1_scores = []\n",
    "\n",
    "thresholds = np.arange(0.1, 1, 0.05)\n",
    "\n",
    "for threshold in thresholds:\n",
    "    y_test_pred = y_test_proba_pred.apply(lambda x: 1 if x>threshold else 0)\n",
    "    recall_scores.append(metrics.recall_score(y_test, y_test_pred))\n",
    "    precision_scores.append(metrics.precision_score(y_test, y_test_pred))\n",
    "    f1_scores.append(metrics.f1_score(y_test, y_test_pred))\n",
    "\n",
    "fig, ax = plt.subplots(figsize=(10, 4))\n",
    "ax.plot(thresholds, recall_scores, label='Recall')\n",
    "ax.plot(thresholds, precision_scores, label='Precision')\n",
    "\n",
    "ax.plot(thresholds, f1_scores, label='F1-score')\n",
    "ax.set_title('Recall/Precision dependence on the threshold')\n",
    "ax.set_xlabel('Probability threshold')\n",
    "ax.set_ylabel('Score')\n",
    "ax.legend();"
   ]
  },
  {
   "cell_type": "code",
   "execution_count": 27,
   "id": "9d274f2f",
   "metadata": {},
   "outputs": [
    {
     "name": "stdout",
     "output_type": "stream",
     "text": [
      "              precision    recall  f1-score   support\n",
      "\n",
      "           0       0.82      0.88      0.85       175\n",
      "           1       0.81      0.72      0.76       120\n",
      "\n",
      "    accuracy                           0.82       295\n",
      "   macro avg       0.81      0.80      0.81       295\n",
      "weighted avg       0.82      0.82      0.82       295\n",
      "\n"
     ]
    }
   ],
   "source": [
    "#Задаем оптимальный порог вероятностей\n",
    "threshold_opt = 0.52\n",
    "#Людей, у которых вероятность зарабатывать >50K больше 0.4 относим к классу 1\n",
    "#В противном случае - к классу 0\n",
    "y_test_pred_opt = y_test_proba_pred.apply(lambda x: 1 if x > threshold_opt else 0)\n",
    "#Считаем метрики\n",
    "print(metrics.classification_report(y_test, y_test_pred_opt))"
   ]
  },
  {
   "cell_type": "markdown",
   "id": "1c5815eb",
   "metadata": {},
   "source": [
    "Запомним, что для логистической регрессии наилучшим показателем f1 score было 0.82. Это означает, что наши предсказания оказывались верными в 82% и в 18% случаев мы ошибались. Запомним данный показатель и будет сравнивать с ним другие модели."
   ]
  },
  {
   "cell_type": "markdown",
   "id": "4555d593",
   "metadata": {},
   "source": [
    "## Дерево решений"
   ]
  },
  {
   "cell_type": "code",
   "execution_count": 28,
   "id": "e5c36579",
   "metadata": {},
   "outputs": [
    {
     "name": "stdout",
     "output_type": "stream",
     "text": [
      "Train: 0.97\n",
      "Test: 0.74\n"
     ]
    }
   ],
   "source": [
    "#Создаем объект класса дерево решений\n",
    "# В целом есть DecisionTreeClassifier, а есть DecisionTreeRegressor\n",
    "dt = DecisionTreeClassifier(\n",
    "    criterion='entropy', # это значит, что дерево строится так, чтобы на каждом шаге уменьшалась неопределенность\n",
    "    #min_samples_leaf=5,\n",
    "    #max_depth=8, У нас тут задаются вопросы до тех пор, пока в каждом листочке останется 1 объект, переобученность\n",
    "    random_state=42\n",
    ")\n",
    "#Обучаем дерево по алгоритму CART\n",
    "dt.fit(X_train, y_train)\n",
    "#Выводим значения метрики \n",
    "y_train_pred = dt.predict(X_train)\n",
    "print('Train: {:.2f}'.format(metrics.f1_score(y_train, y_train_pred)))\n",
    "y_test_pred = dt.predict(X_test)\n",
    "print('Test: {:.2f}'.format(metrics.f1_score(y_test, y_test_pred)))"
   ]
  },
  {
   "cell_type": "markdown",
   "id": "45286846",
   "metadata": {},
   "source": [
    "Предсказательная сила для дерева решений относительно невысокая и составляет всего 0.74 на тестовой выборке. Пока сохраняем предпочтение в пользу логистической регрессии."
   ]
  },
  {
   "cell_type": "markdown",
   "id": "f5ca8777",
   "metadata": {},
   "source": [
    "## Случайный лес"
   ]
  },
  {
   "cell_type": "code",
   "execution_count": 29,
   "id": "64f7cab7",
   "metadata": {},
   "outputs": [
    {
     "name": "stdout",
     "output_type": "stream",
     "text": [
      "Train: 0.77\n",
      "Test: 0.74\n"
     ]
    }
   ],
   "source": [
    "rf = ensemble.RandomForestClassifier(\n",
    "    n_estimators=500,\n",
    "    max_depth=15,\n",
    "    criterion='entropy',\n",
    "    min_samples_leaf=10,\n",
    "    random_state=42\n",
    ")\n",
    "\n",
    "\n",
    "rf.fit(X_train, y_train)\n",
    "y_train_pred = rf.predict(X_train)\n",
    "print('Train: {:.2f}'.format(metrics.f1_score(y_train, y_train_pred)))\n",
    "\n",
    "y_test_pred = rf.predict(X_test)\n",
    "print('Test: {:.2f}'.format(metrics.f1_score(y_test, y_test_pred)))"
   ]
  },
  {
   "cell_type": "code",
   "execution_count": 30,
   "id": "6e37dd3c",
   "metadata": {},
   "outputs": [
    {
     "data": {
      "image/png": "[encoded data removed]",
      "text/plain": [
       "<Figure size 1000x400 with 1 Axes>"
      ]
     },
     "metadata": {},
     "output_type": "display_data"
    }
   ],
   "source": [
    "y_test_proba_pred = rf.predict_proba(X_test)[:, 1]\n",
    "\n",
    "y_test_proba_pred = pd.Series(y_test_proba_pred)\n",
    "\n",
    "recall_scores = []\n",
    "precision_scores = []\n",
    "f1_scores = []\n",
    "\n",
    "thresholds = np.arange(0.1, 1, 0.05)\n",
    "\n",
    "for threshold in thresholds:\n",
    "    y_test_pred = y_test_proba_pred.apply(lambda x: 1 if x>threshold else 0)\n",
    "    recall_scores.append(metrics.recall_score(y_test, y_test_pred))\n",
    "    precision_scores.append(metrics.precision_score(y_test, y_test_pred))\n",
    "    f1_scores.append(metrics.f1_score(y_test, y_test_pred))\n",
    "\n",
    "fig, ax = plt.subplots(figsize=(10, 4))\n",
    "ax.plot(thresholds, recall_scores, label='Recall')\n",
    "ax.plot(thresholds, precision_scores, label='Precision')\n",
    "\n",
    "ax.plot(thresholds, f1_scores, label='F1-score')\n",
    "ax.set_title('Recall/Precision dependence on the threshold')\n",
    "ax.set_xlabel('Probability threshold')\n",
    "ax.set_ylabel('Score')\n",
    "ax.set_xticks(thresholds)\n",
    "ax.legend();"
   ]
  },
  {
   "cell_type": "code",
   "execution_count": 31,
   "id": "3852aa35",
   "metadata": {},
   "outputs": [
    {
     "name": "stdout",
     "output_type": "stream",
     "text": [
      "              precision    recall  f1-score   support\n",
      "\n",
      "           0       0.80      0.89      0.85       175\n",
      "           1       0.81      0.68      0.74       120\n",
      "\n",
      "    accuracy                           0.81       295\n",
      "   macro avg       0.81      0.79      0.79       295\n",
      "weighted avg       0.81      0.81      0.80       295\n",
      "\n"
     ]
    }
   ],
   "source": [
    "threshold_opt = 0.5\n",
    "y_test_pred_opt = y_test_proba_pred.apply(lambda x: 1 if x > threshold_opt else 0)\n",
    "print(metrics.classification_report(y_test, y_test_pred_opt))"
   ]
  },
  {
   "cell_type": "markdown",
   "id": "396b83ac",
   "metadata": {},
   "source": [
    "Со случайным лесмо мы получаем аналогичную картину. Пусть показатель точности предсказывания уже выше, чем в дереве решений и accuracy составляет 0.81, но это все еще ниже accuracy логистической регрессии 0.82."
   ]
  },
  {
   "cell_type": "markdown",
   "id": "ad131ff8",
   "metadata": {},
   "source": [
    "## Knn"
   ]
  },
  {
   "cell_type": "code",
   "execution_count": 32,
   "id": "7d8d3197",
   "metadata": {},
   "outputs": [
    {
     "data": {
      "text/plain": [
       "0.8101694915254237"
      ]
     },
     "execution_count": 32,
     "metadata": {},
     "output_type": "execute_result"
    }
   ],
   "source": [
    "# Обычно не ставят четное число в n_neighbors = 10 по причине того, что модель можем не считать, куда отнести точку.\n",
    "# Тем не менее, эмпирически проверив модели с разным количеством n_neighbors, оказалось, что показатель 10,\n",
    "# позволяет предсказывать лучше всего\n",
    "knn = KNeighborsClassifier(n_neighbors = 10)\n",
    "\n",
    "knn.fit(X_train, y_train)\n",
    "\n",
    "y_pred_knn = knn.predict(X_test)\n",
    "\n",
    "p_pred_knn = knn.predict_proba(X_test)\n",
    "\n",
    "accuracy_score(y_test, y_pred_knn)"
   ]
  },
  {
   "cell_type": "markdown",
   "id": "10d6d9bb",
   "metadata": {},
   "source": [
    "Также показатель качества knn модели немного уступает аналогичному показателю для логистической регрессии, которой мы отдаем предпочтение."
   ]
  },
  {
   "cell_type": "markdown",
   "id": "5759b1be",
   "metadata": {},
   "source": [
    "## Градиентный бустинг"
   ]
  },
  {
   "cell_type": "code",
   "execution_count": 33,
   "id": "81c89e05",
   "metadata": {},
   "outputs": [
    {
     "name": "stdout",
     "output_type": "stream",
     "text": [
      "Fitting 3 folds for each of 24 candidates, totalling 72 fits\n",
      "[CV 1/3] END .learning_rate=1.0, n_estimators=1;, score=0.755 total time=   0.0s\n",
      "[CV 2/3] END .learning_rate=1.0, n_estimators=1;, score=0.662 total time=   0.0s\n",
      "[CV 3/3] END .learning_rate=1.0, n_estimators=1;, score=0.757 total time=   0.0s\n",
      "[CV 1/3] END .learning_rate=1.0, n_estimators=2;, score=0.763 total time=   0.0s\n",
      "[CV 2/3] END .learning_rate=1.0, n_estimators=2;, score=0.621 total time=   0.0s\n",
      "[CV 3/3] END .learning_rate=1.0, n_estimators=2;, score=0.632 total time=   0.0s\n",
      "[CV 1/3] END .learning_rate=1.0, n_estimators=4;, score=0.716 total time=   0.0s\n",
      "[CV 2/3] END .learning_rate=1.0, n_estimators=4;, score=0.618 total time=   0.0s\n",
      "[CV 3/3] END .learning_rate=1.0, n_estimators=4;, score=0.694 total time=   0.0s\n",
      "[CV 1/3] END .learning_rate=1.0, n_estimators=8;, score=0.732 total time=   0.0s\n",
      "[CV 2/3] END .learning_rate=1.0, n_estimators=8;, score=0.620 total time=   0.0s\n",
      "[CV 3/3] END .learning_rate=1.0, n_estimators=8;, score=0.738 total time=   0.0s\n",
      "[CV 1/3] END learning_rate=1.0, n_estimators=16;, score=0.679 total time=   0.0s\n",
      "[CV 2/3] END learning_rate=1.0, n_estimators=16;, score=0.644 total time=   0.0s\n",
      "[CV 3/3] END learning_rate=1.0, n_estimators=16;, score=0.689 total time=   0.0s\n",
      "[CV 1/3] END learning_rate=1.0, n_estimators=32;, score=0.675 total time=   0.0s\n",
      "[CV 2/3] END learning_rate=1.0, n_estimators=32;, score=0.667 total time=   0.0s\n",
      "[CV 3/3] END learning_rate=1.0, n_estimators=32;, score=0.745 total time=   0.0s\n",
      "[CV 1/3] END learning_rate=1.0, n_estimators=64;, score=0.712 total time=   0.1s\n",
      "[CV 2/3] END learning_rate=1.0, n_estimators=64;, score=0.667 total time=   0.1s\n",
      "[CV 3/3] END learning_rate=1.0, n_estimators=64;, score=0.711 total time=   0.1s\n",
      "[CV 1/3] END learning_rate=1.0, n_estimators=128;, score=0.707 total time=   0.2s\n",
      "[CV 2/3] END learning_rate=1.0, n_estimators=128;, score=0.636 total time=   0.2s\n",
      "[CV 3/3] END learning_rate=1.0, n_estimators=128;, score=0.733 total time=   0.3s\n",
      "[CV 1/3] END .learning_rate=0.1, n_estimators=1;, score=0.000 total time=   0.0s\n",
      "[CV 2/3] END .learning_rate=0.1, n_estimators=1;, score=0.000 total time=   0.0s\n",
      "[CV 3/3] END .learning_rate=0.1, n_estimators=1;, score=0.000 total time=   0.0s\n",
      "[CV 1/3] END .learning_rate=0.1, n_estimators=2;, score=0.000 total time=   0.0s\n",
      "[CV 2/3] END .learning_rate=0.1, n_estimators=2;, score=0.000 total time=   0.0s\n",
      "[CV 3/3] END .learning_rate=0.1, n_estimators=2;, score=0.000 total time=   0.0s\n",
      "[CV 1/3] END .learning_rate=0.1, n_estimators=4;, score=0.701 total time=   0.0s\n",
      "[CV 2/3] END .learning_rate=0.1, n_estimators=4;, score=0.598 total time=   0.0s\n",
      "[CV 3/3] END .learning_rate=0.1, n_estimators=4;, score=0.649 total time=   0.0s\n",
      "[CV 1/3] END .learning_rate=0.1, n_estimators=8;, score=0.726 total time=   0.0s\n",
      "[CV 2/3] END .learning_rate=0.1, n_estimators=8;, score=0.606 total time=   0.0s\n",
      "[CV 3/3] END .learning_rate=0.1, n_estimators=8;, score=0.672 total time=   0.0s\n",
      "[CV 1/3] END learning_rate=0.1, n_estimators=16;, score=0.754 total time=   0.0s\n",
      "[CV 2/3] END learning_rate=0.1, n_estimators=16;, score=0.706 total time=   0.0s\n",
      "[CV 3/3] END learning_rate=0.1, n_estimators=16;, score=0.700 total time=   0.0s\n",
      "[CV 1/3] END learning_rate=0.1, n_estimators=32;, score=0.771 total time=   0.1s\n",
      "[CV 2/3] END learning_rate=0.1, n_estimators=32;, score=0.698 total time=   0.1s\n",
      "[CV 3/3] END learning_rate=0.1, n_estimators=32;, score=0.704 total time=   0.1s\n",
      "[CV 1/3] END learning_rate=0.1, n_estimators=64;, score=0.763 total time=   0.1s\n",
      "[CV 2/3] END learning_rate=0.1, n_estimators=64;, score=0.672 total time=   0.1s\n",
      "[CV 3/3] END learning_rate=0.1, n_estimators=64;, score=0.718 total time=   0.3s\n",
      "[CV 1/3] END learning_rate=0.1, n_estimators=128;, score=0.726 total time=   0.2s\n",
      "[CV 2/3] END learning_rate=0.1, n_estimators=128;, score=0.667 total time=   0.2s\n",
      "[CV 3/3] END learning_rate=0.1, n_estimators=128;, score=0.743 total time=   0.3s\n",
      "[CV 1/3] END learning_rate=0.010000000000000002, n_estimators=1;, score=0.000 total time=   0.0s\n",
      "[CV 2/3] END learning_rate=0.010000000000000002, n_estimators=1;, score=0.000 total time=   0.0s\n",
      "[CV 3/3] END learning_rate=0.010000000000000002, n_estimators=1;, score=0.000 total time=   0.0s\n",
      "[CV 1/3] END learning_rate=0.010000000000000002, n_estimators=2;, score=0.000 total time=   0.0s\n",
      "[CV 2/3] END learning_rate=0.010000000000000002, n_estimators=2;, score=0.000 total time=   0.0s\n",
      "[CV 3/3] END learning_rate=0.010000000000000002, n_estimators=2;, score=0.000 total time=   0.0s\n",
      "[CV 1/3] END learning_rate=0.010000000000000002, n_estimators=4;, score=0.000 total time=   0.0s\n",
      "[CV 2/3] END learning_rate=0.010000000000000002, n_estimators=4;, score=0.000 total time=   0.0s\n",
      "[CV 3/3] END learning_rate=0.010000000000000002, n_estimators=4;, score=0.000 total time=   0.0s\n",
      "[CV 1/3] END learning_rate=0.010000000000000002, n_estimators=8;, score=0.000 total time=   0.0s\n",
      "[CV 2/3] END learning_rate=0.010000000000000002, n_estimators=8;, score=0.000 total time=   0.0s\n",
      "[CV 3/3] END learning_rate=0.010000000000000002, n_estimators=8;, score=0.000 total time=   0.0s\n",
      "[CV 1/3] END learning_rate=0.010000000000000002, n_estimators=16;, score=0.000 total time=   0.0s\n",
      "[CV 2/3] END learning_rate=0.010000000000000002, n_estimators=16;, score=0.000 total time=   0.0s\n",
      "[CV 3/3] END learning_rate=0.010000000000000002, n_estimators=16;, score=0.000 total time=   0.0s\n",
      "[CV 1/3] END learning_rate=0.010000000000000002, n_estimators=32;, score=0.701 total time=   0.1s\n",
      "[CV 2/3] END learning_rate=0.010000000000000002, n_estimators=32;, score=0.585 total time=   0.1s\n",
      "[CV 3/3] END learning_rate=0.010000000000000002, n_estimators=32;, score=0.649 total time=   0.1s\n",
      "[CV 1/3] END learning_rate=0.010000000000000002, n_estimators=64;, score=0.726 total time=   0.2s\n",
      "[CV 2/3] END learning_rate=0.010000000000000002, n_estimators=64;, score=0.598 total time=   0.3s\n",
      "[CV 3/3] END learning_rate=0.010000000000000002, n_estimators=64;, score=0.649 total time=   0.1s\n",
      "[CV 1/3] END learning_rate=0.010000000000000002, n_estimators=128;, score=0.750 total time=   0.3s\n",
      "[CV 2/3] END learning_rate=0.010000000000000002, n_estimators=128;, score=0.667 total time=   0.3s\n",
      "[CV 3/3] END learning_rate=0.010000000000000002, n_estimators=128;, score=0.700 total time=   0.3s\n"
     ]
    },
    {
     "data": {
      "text/html": [
       "<style>#sk-container-id-2 {color: black;}#sk-container-id-2 pre{padding: 0;}#sk-container-id-2 div.sk-toggleable {background-color: white;}#sk-container-id-2 label.sk-toggleable__label {cursor: pointer;display: block;width: 100%;margin-bottom: 0;padding: 0.3em;box-sizing: border-box;text-align: center;}#sk-container-id-2 label.sk-toggleable__label-arrow:before {content: \"▸\";float: left;margin-right: 0.25em;color: #696969;}#sk-container-id-2 label.sk-toggleable__label-arrow:hover:before {color: black;}#sk-container-id-2 div.sk-estimator:hover label.sk-toggleable__label-arrow:before {color: black;}#sk-container-id-2 div.sk-toggleable__content {max-height: 0;max-width: 0;overflow: hidden;text-align: left;background-color: #f0f8ff;}#sk-container-id-2 div.sk-toggleable__content pre {margin: 0.2em;color: black;border-radius: 0.25em;background-color: #f0f8ff;}#sk-container-id-2 input.sk-toggleable__control:checked~div.sk-toggleable__content {max-height: 200px;max-width: 100%;overflow: auto;}#sk-container-id-2 input.sk-toggleable__control:checked~label.sk-toggleable__label-arrow:before {content: \"▾\";}#sk-container-id-2 div.sk-estimator input.sk-toggleable__control:checked~label.sk-toggleable__label {background-color: #d4ebff;}#sk-container-id-2 div.sk-label input.sk-toggleable__control:checked~label.sk-toggleable__label {background-color: #d4ebff;}#sk-container-id-2 input.sk-hidden--visually {border: 0;clip: rect(1px 1px 1px 1px);clip: rect(1px, 1px, 1px, 1px);height: 1px;margin: -1px;overflow: hidden;padding: 0;position: absolute;width: 1px;}#sk-container-id-2 div.sk-estimator {font-family: monospace;background-color: #f0f8ff;border: 1px dotted black;border-radius: 0.25em;box-sizing: border-box;margin-bottom: 0.5em;}#sk-container-id-2 div.sk-estimator:hover {background-color: #d4ebff;}#sk-container-id-2 div.sk-parallel-item::after {content: \"\";width: 100%;border-bottom: 1px solid gray;flex-grow: 1;}#sk-container-id-2 div.sk-label:hover label.sk-toggleable__label {background-color: #d4ebff;}#sk-container-id-2 div.sk-serial::before {content: \"\";position: absolute;border-left: 1px solid gray;box-sizing: border-box;top: 0;bottom: 0;left: 50%;z-index: 0;}#sk-container-id-2 div.sk-serial {display: flex;flex-direction: column;align-items: center;background-color: white;padding-right: 0.2em;padding-left: 0.2em;position: relative;}#sk-container-id-2 div.sk-item {position: relative;z-index: 1;}#sk-container-id-2 div.sk-parallel {display: flex;align-items: stretch;justify-content: center;background-color: white;position: relative;}#sk-container-id-2 div.sk-item::before, #sk-container-id-2 div.sk-parallel-item::before {content: \"\";position: absolute;border-left: 1px solid gray;box-sizing: border-box;top: 0;bottom: 0;left: 50%;z-index: -1;}#sk-container-id-2 div.sk-parallel-item {display: flex;flex-direction: column;z-index: 1;position: relative;background-color: white;}#sk-container-id-2 div.sk-parallel-item:first-child::after {align-self: flex-end;width: 50%;}#sk-container-id-2 div.sk-parallel-item:last-child::after {align-self: flex-start;width: 50%;}#sk-container-id-2 div.sk-parallel-item:only-child::after {width: 0;}#sk-container-id-2 div.sk-dashed-wrapped {border: 1px dashed gray;margin: 0 0.4em 0.5em 0.4em;box-sizing: border-box;padding-bottom: 0.4em;background-color: white;}#sk-container-id-2 div.sk-label label {font-family: monospace;font-weight: bold;display: inline-block;line-height: 1.2em;}#sk-container-id-2 div.sk-label-container {text-align: center;}#sk-container-id-2 div.sk-container {/* jupyter's `normalize.less` sets `[hidden] { display: none; }` but bootstrap.min.css set `[hidden] { display: none !important; }` so we also need the `!important` here to be able to override the default hidden behavior on the sphinx rendered scikit-learn.org. See: https://github.com/scikit-learn/scikit-learn/issues/21755 */display: inline-block !important;position: relative;}#sk-container-id-2 div.sk-text-repr-fallback {display: none;}</style><div id=\"sk-container-id-2\" class=\"sk-top-container\"><div class=\"sk-text-repr-fallback\"><pre>GridSearchCV(cv=3, estimator=GradientBoostingClassifier(),\n",
       "             param_grid={&#x27;learning_rate&#x27;: array([1.  , 0.1 , 0.01]),\n",
       "                         &#x27;n_estimators&#x27;: array([  1,   2,   4,   8,  16,  32,  64, 128])},\n",
       "             scoring=make_scorer(f1_score), verbose=5)</pre><b>In a Jupyter environment, please rerun this cell to show the HTML representation or trust the notebook. <br />On GitHub, the HTML representation is unable to render, please try loading this page with nbviewer.org.</b></div><div class=\"sk-container\" hidden><div class=\"sk-item sk-dashed-wrapped\"><div class=\"sk-label-container\"><div class=\"sk-label sk-toggleable\"><input class=\"sk-toggleable__control sk-hidden--visually\" id=\"sk-estimator-id-2\" type=\"checkbox\" ><label for=\"sk-estimator-id-2\" class=\"sk-toggleable__label sk-toggleable__label-arrow\">GridSearchCV</label><div class=\"sk-toggleable__content\"><pre>GridSearchCV(cv=3, estimator=GradientBoostingClassifier(),\n",
       "             param_grid={&#x27;learning_rate&#x27;: array([1.  , 0.1 , 0.01]),\n",
       "                         &#x27;n_estimators&#x27;: array([  1,   2,   4,   8,  16,  32,  64, 128])},\n",
       "             scoring=make_scorer(f1_score), verbose=5)</pre></div></div></div><div class=\"sk-parallel\"><div class=\"sk-parallel-item\"><div class=\"sk-item\"><div class=\"sk-label-container\"><div class=\"sk-label sk-toggleable\"><input class=\"sk-toggleable__control sk-hidden--visually\" id=\"sk-estimator-id-3\" type=\"checkbox\" ><label for=\"sk-estimator-id-3\" class=\"sk-toggleable__label sk-toggleable__label-arrow\">estimator: GradientBoostingClassifier</label><div class=\"sk-toggleable__content\"><pre>GradientBoostingClassifier()</pre></div></div></div><div class=\"sk-serial\"><div class=\"sk-item\"><div class=\"sk-estimator sk-toggleable\"><input class=\"sk-toggleable__control sk-hidden--visually\" id=\"sk-estimator-id-4\" type=\"checkbox\" ><label for=\"sk-estimator-id-4\" class=\"sk-toggleable__label sk-toggleable__label-arrow\">GradientBoostingClassifier</label><div class=\"sk-toggleable__content\"><pre>GradientBoostingClassifier()</pre></div></div></div></div></div></div></div></div></div></div>"
      ],
      "text/plain": [
       "GridSearchCV(cv=3, estimator=GradientBoostingClassifier(),\n",
       "             param_grid={'learning_rate': array([1.  , 0.1 , 0.01]),\n",
       "                         'n_estimators': array([  1,   2,   4,   8,  16,  32,  64, 128])},\n",
       "             scoring=make_scorer(f1_score), verbose=5)"
      ]
     },
     "execution_count": 33,
     "metadata": {},
     "output_type": "execute_result"
    }
   ],
   "source": [
    "model_for_gs = GradientBoostingClassifier()\n",
    "params = {\"n_estimators\": 2**np.arange(8), \"learning_rate\": 0.1**np.arange(3)}\n",
    "gs = GridSearchCV(estimator = model_for_gs,\n",
    "                 param_grid = params,\n",
    "                 cv=3,\n",
    "                 scoring = make_scorer(f1_score),\n",
    "                 verbose = 5)\n",
    "\n",
    "gs.fit(X_train, y_train)"
   ]
  },
  {
   "cell_type": "code",
   "execution_count": 34,
   "id": "3c4e7019",
   "metadata": {},
   "outputs": [
    {
     "name": "stdout",
     "output_type": "stream",
     "text": [
      "Лучшие гиперпараметры: {'learning_rate': 1.0, 'n_estimators': 1}\n",
      "Лучшие значения метрики: 0.7247174394233218\n"
     ]
    }
   ],
   "source": [
    "print('Лучшие гиперпараметры:', gs.best_params_)\n",
    "print('Лучшие значения метрики:', gs.best_score_)"
   ]
  },
  {
   "cell_type": "markdown",
   "id": "45acf929",
   "metadata": {},
   "source": [
    "## AdaBoost"
   ]
  },
  {
   "cell_type": "code",
   "execution_count": 35,
   "id": "6a836dbb",
   "metadata": {},
   "outputs": [
    {
     "data": {
      "text/plain": [
       "0.6748971193415637"
      ]
     },
     "execution_count": 35,
     "metadata": {},
     "output_type": "execute_result"
    }
   ],
   "source": [
    "dt = DecisionTreeClassifier(\n",
    "    random_state=26\n",
    ")\n",
    "\n",
    "ada = AdaBoostClassifier(\n",
    "    estimator=dt,\n",
    "    random_state=26,\n",
    "    learning_rate = 0.01\n",
    ")\n",
    "\n",
    "ada.fit(X_train, y_train)\n",
    "\n",
    "ada_pred  = ada.predict(X_test)\n",
    "\n",
    "f1_score(ada_pred, y_test)"
   ]
  },
  {
   "cell_type": "markdown",
   "id": "32f692d2",
   "metadata": {},
   "source": [
    "## Стекинг"
   ]
  },
  {
   "cell_type": "code",
   "execution_count": 36,
   "id": "a033f8d0",
   "metadata": {},
   "outputs": [
    {
     "data": {
      "text/html": [
       "<style>#sk-container-id-3 {color: black;}#sk-container-id-3 pre{padding: 0;}#sk-container-id-3 div.sk-toggleable {background-color: white;}#sk-container-id-3 label.sk-toggleable__label {cursor: pointer;display: block;width: 100%;margin-bottom: 0;padding: 0.3em;box-sizing: border-box;text-align: center;}#sk-container-id-3 label.sk-toggleable__label-arrow:before {content: \"▸\";float: left;margin-right: 0.25em;color: #696969;}#sk-container-id-3 label.sk-toggleable__label-arrow:hover:before {color: black;}#sk-container-id-3 div.sk-estimator:hover label.sk-toggleable__label-arrow:before {color: black;}#sk-container-id-3 div.sk-toggleable__content {max-height: 0;max-width: 0;overflow: hidden;text-align: left;background-color: #f0f8ff;}#sk-container-id-3 div.sk-toggleable__content pre {margin: 0.2em;color: black;border-radius: 0.25em;background-color: #f0f8ff;}#sk-container-id-3 input.sk-toggleable__control:checked~div.sk-toggleable__content {max-height: 200px;max-width: 100%;overflow: auto;}#sk-container-id-3 input.sk-toggleable__control:checked~label.sk-toggleable__label-arrow:before {content: \"▾\";}#sk-container-id-3 div.sk-estimator input.sk-toggleable__control:checked~label.sk-toggleable__label {background-color: #d4ebff;}#sk-container-id-3 div.sk-label input.sk-toggleable__control:checked~label.sk-toggleable__label {background-color: #d4ebff;}#sk-container-id-3 input.sk-hidden--visually {border: 0;clip: rect(1px 1px 1px 1px);clip: rect(1px, 1px, 1px, 1px);height: 1px;margin: -1px;overflow: hidden;padding: 0;position: absolute;width: 1px;}#sk-container-id-3 div.sk-estimator {font-family: monospace;background-color: #f0f8ff;border: 1px dotted black;border-radius: 0.25em;box-sizing: border-box;margin-bottom: 0.5em;}#sk-container-id-3 div.sk-estimator:hover {background-color: #d4ebff;}#sk-container-id-3 div.sk-parallel-item::after {content: \"\";width: 100%;border-bottom: 1px solid gray;flex-grow: 1;}#sk-container-id-3 div.sk-label:hover label.sk-toggleable__label {background-color: #d4ebff;}#sk-container-id-3 div.sk-serial::before {content: \"\";position: absolute;border-left: 1px solid gray;box-sizing: border-box;top: 0;bottom: 0;left: 50%;z-index: 0;}#sk-container-id-3 div.sk-serial {display: flex;flex-direction: column;align-items: center;background-color: white;padding-right: 0.2em;padding-left: 0.2em;position: relative;}#sk-container-id-3 div.sk-item {position: relative;z-index: 1;}#sk-container-id-3 div.sk-parallel {display: flex;align-items: stretch;justify-content: center;background-color: white;position: relative;}#sk-container-id-3 div.sk-item::before, #sk-container-id-3 div.sk-parallel-item::before {content: \"\";position: absolute;border-left: 1px solid gray;box-sizing: border-box;top: 0;bottom: 0;left: 50%;z-index: -1;}#sk-container-id-3 div.sk-parallel-item {display: flex;flex-direction: column;z-index: 1;position: relative;background-color: white;}#sk-container-id-3 div.sk-parallel-item:first-child::after {align-self: flex-end;width: 50%;}#sk-container-id-3 div.sk-parallel-item:last-child::after {align-self: flex-start;width: 50%;}#sk-container-id-3 div.sk-parallel-item:only-child::after {width: 0;}#sk-container-id-3 div.sk-dashed-wrapped {border: 1px dashed gray;margin: 0 0.4em 0.5em 0.4em;box-sizing: border-box;padding-bottom: 0.4em;background-color: white;}#sk-container-id-3 div.sk-label label {font-family: monospace;font-weight: bold;display: inline-block;line-height: 1.2em;}#sk-container-id-3 div.sk-label-container {text-align: center;}#sk-container-id-3 div.sk-container {/* jupyter's `normalize.less` sets `[hidden] { display: none; }` but bootstrap.min.css set `[hidden] { display: none !important; }` so we also need the `!important` here to be able to override the default hidden behavior on the sphinx rendered scikit-learn.org. See: https://github.com/scikit-learn/scikit-learn/issues/21755 */display: inline-block !important;position: relative;}#sk-container-id-3 div.sk-text-repr-fallback {display: none;}</style><div id=\"sk-container-id-3\" class=\"sk-top-container\"><div class=\"sk-text-repr-fallback\"><pre>StackingClassifier(estimators=[(&#x27;lr&#x27;, LogisticRegression()),\n",
       "                               (&#x27;rf&#x27;, RandomForestClassifier(), &#x27;gb&#x27;,\n",
       "                                GradientBoostingClassifier())],\n",
       "                   final_estimator=RandomForestClassifier(n_estimators=10,\n",
       "                                                          random_state=42))</pre><b>In a Jupyter environment, please rerun this cell to show the HTML representation or trust the notebook. <br />On GitHub, the HTML representation is unable to render, please try loading this page with nbviewer.org.</b></div><div class=\"sk-container\" hidden><div class=\"sk-item sk-dashed-wrapped\"><div class=\"sk-label-container\"><div class=\"sk-label sk-toggleable\"><input class=\"sk-toggleable__control sk-hidden--visually\" id=\"sk-estimator-id-5\" type=\"checkbox\" ><label for=\"sk-estimator-id-5\" class=\"sk-toggleable__label sk-toggleable__label-arrow\">StackingClassifier</label><div class=\"sk-toggleable__content\"><pre>StackingClassifier(estimators=[(&#x27;lr&#x27;, LogisticRegression()),\n",
       "                               (&#x27;rf&#x27;, RandomForestClassifier(), &#x27;gb&#x27;,\n",
       "                                GradientBoostingClassifier())],\n",
       "                   final_estimator=RandomForestClassifier(n_estimators=10,\n",
       "                                                          random_state=42))</pre></div></div></div><div class=\"sk-serial\"><div class=\"sk-item\"><div class=\"sk-parallel\"><div class=\"sk-parallel-item\"><div class=\"sk-item\"><div class=\"sk-label-container\"><div class=\"sk-label sk-toggleable\"><label>lr</label></div></div><div class=\"sk-serial\"><div class=\"sk-item\"><div class=\"sk-estimator sk-toggleable\"><input class=\"sk-toggleable__control sk-hidden--visually\" id=\"sk-estimator-id-6\" type=\"checkbox\" ><label for=\"sk-estimator-id-6\" class=\"sk-toggleable__label sk-toggleable__label-arrow\">LogisticRegression</label><div class=\"sk-toggleable__content\"><pre>LogisticRegression()</pre></div></div></div></div></div></div><div class=\"sk-parallel-item\"><div class=\"sk-item\"><div class=\"sk-label-container\"><div class=\"sk-label sk-toggleable\"><label>rf</label></div></div><div class=\"sk-serial\"><div class=\"sk-item\"><div class=\"sk-estimator sk-toggleable\"><input class=\"sk-toggleable__control sk-hidden--visually\" id=\"sk-estimator-id-7\" type=\"checkbox\" ><label for=\"sk-estimator-id-7\" class=\"sk-toggleable__label sk-toggleable__label-arrow\">RandomForestClassifier</label><div class=\"sk-toggleable__content\"><pre>RandomForestClassifier()</pre></div></div></div></div></div></div></div></div><div class=\"sk-item\"><div class=\"sk-parallel\"><div class=\"sk-parallel-item\"><div class=\"sk-item\"><div class=\"sk-label-container\"><div class=\"sk-label sk-toggleable\"><label>final_estimator</label></div></div><div class=\"sk-serial\"><div class=\"sk-item\"><div class=\"sk-estimator sk-toggleable\"><input class=\"sk-toggleable__control sk-hidden--visually\" id=\"sk-estimator-id-8\" type=\"checkbox\" ><label for=\"sk-estimator-id-8\" class=\"sk-toggleable__label sk-toggleable__label-arrow\">RandomForestClassifier</label><div class=\"sk-toggleable__content\"><pre>RandomForestClassifier(n_estimators=10, random_state=42)</pre></div></div></div></div></div></div></div></div></div></div></div></div>"
      ],
      "text/plain": [
       "StackingClassifier(estimators=[('lr', LogisticRegression()),\n",
       "                               ('rf', RandomForestClassifier(), 'gb',\n",
       "                                GradientBoostingClassifier())],\n",
       "                   final_estimator=RandomForestClassifier(n_estimators=10,\n",
       "                                                          random_state=42))"
      ]
     },
     "execution_count": 36,
     "metadata": {},
     "output_type": "execute_result"
    }
   ],
   "source": [
    "estimators = [\n",
    "    ('lr', LogisticRegression()),\n",
    "    ('rf', RandomForestClassifier(),\n",
    "     'gb', GradientBoostingClassifier())\n",
    "]\n",
    "\n",
    "reg = StackingClassifier(\n",
    "    estimators=estimators,\n",
    "    final_estimator=RandomForestClassifier(n_estimators=10,\n",
    "                                          random_state=42) \n",
    ")\n",
    "\n",
    "reg.fit(X_train, y_train)"
   ]
  },
  {
   "cell_type": "code",
   "execution_count": 37,
   "id": "ea2ca313",
   "metadata": {},
   "outputs": [
    {
     "name": "stdout",
     "output_type": "stream",
     "text": [
      "              precision    recall  f1-score   support\n",
      "\n",
      "           0       0.76      0.87      0.81       175\n",
      "           1       0.76      0.60      0.67       120\n",
      "\n",
      "    accuracy                           0.76       295\n",
      "   macro avg       0.76      0.73      0.74       295\n",
      "weighted avg       0.76      0.76      0.75       295\n",
      "\n"
     ]
    }
   ],
   "source": [
    "y_pred_stack = reg.predict(X_test)\n",
    "\n",
    "print(metrics.classification_report(y_test, y_pred_stack))"
   ]
  },
  {
   "cell_type": "code",
   "execution_count": 38,
   "id": "9beabde7",
   "metadata": {},
   "outputs": [
    {
     "name": "stdout",
     "output_type": "stream",
     "text": [
      "  Feature  Importance\n",
      "1     Sex    0.432993\n",
      "5    Fare    0.178510\n",
      "0  Pclass    0.154009\n"
     ]
    }
   ],
   "source": [
    "feature_importances = rf.feature_importances_  # rf - наша обученная модель \n",
    "X_train = pd.DataFrame(X_train, columns = X.columns)\n",
    "feature_names = X_train.columns  # X_train содержит наши факторы\n",
    "\n",
    "importances_df = pd.DataFrame({'Feature': feature_names, 'Importance': feature_importances})\n",
    "importances_df = importances_df.sort_values('Importance', ascending=False) # поставим значимость по убыванию\n",
    "\n",
    "top3_features = importances_df.head(3)\n",
    "print(top3_features)"
   ]
  },
  {
   "cell_type": "markdown",
   "id": "ba2af880",
   "metadata": {},
   "source": [
    "## XGBoost"
   ]
  },
  {
   "cell_type": "code",
   "execution_count": 39,
   "id": "45e0c7ed",
   "metadata": {},
   "outputs": [
    {
     "data": {
      "text/plain": [
       "0.7426160337552742"
      ]
     },
     "execution_count": 39,
     "metadata": {},
     "output_type": "execute_result"
    }
   ],
   "source": [
    "model_xgb = XGBClassifier(random_state = 26)\n",
    "model_xgb.fit(X_train, y_train)\n",
    "preds_test = model_xgb.predict(X_test)\n",
    "\n",
    "f1_score(preds_test, y_test)"
   ]
  },
  {
   "cell_type": "markdown",
   "id": "7da7a718",
   "metadata": {},
   "source": [
    "Мы видим, что показатели точности моделей градиентного бустинга, adaboost, стекинга моделей логистической регрессии, случайного леса и градиентного бустинга, а также XGBoost усупают в качестве логистической регрессии.\n",
    "\n",
    "Также мы узнали, что в стекинге ключевыми показателями предсказания выживаемости являются пол, стоимость билета и класс каюты проживания."
   ]
  },
  {
   "cell_type": "markdown",
   "id": "7b4090d0",
   "metadata": {},
   "source": [
    "## CatBoost"
   ]
  },
  {
   "cell_type": "code",
   "execution_count": 40,
   "id": "dc9445dc",
   "metadata": {},
   "outputs": [
    {
     "name": "stdout",
     "output_type": "stream",
     "text": [
      "Learning rate set to 0.00826\n",
      "0:\tlearn: 0.6900619\ttotal: 55ms\tremaining: 54.9s\n",
      "1:\tlearn: 0.6862798\ttotal: 56.7ms\tremaining: 28.3s\n",
      "2:\tlearn: 0.6806203\ttotal: 59ms\tremaining: 19.6s\n",
      "3:\tlearn: 0.6756412\ttotal: 61.5ms\tremaining: 15.3s\n",
      "4:\tlearn: 0.6723143\ttotal: 63ms\tremaining: 12.5s\n",
      "5:\tlearn: 0.6672785\ttotal: 65.7ms\tremaining: 10.9s\n",
      "6:\tlearn: 0.6628312\ttotal: 67.4ms\tremaining: 9.56s\n",
      "7:\tlearn: 0.6577960\ttotal: 69.7ms\tremaining: 8.64s\n",
      "8:\tlearn: 0.6529357\ttotal: 72ms\tremaining: 7.93s\n",
      "9:\tlearn: 0.6480698\ttotal: 74.1ms\tremaining: 7.34s\n",
      "10:\tlearn: 0.6439928\ttotal: 75.8ms\tremaining: 6.82s\n",
      "11:\tlearn: 0.6400849\ttotal: 78.2ms\tremaining: 6.44s\n",
      "12:\tlearn: 0.6353338\ttotal: 80.8ms\tremaining: 6.14s\n",
      "13:\tlearn: 0.6320788\ttotal: 82.6ms\tremaining: 5.82s\n",
      "14:\tlearn: 0.6294693\ttotal: 84.3ms\tremaining: 5.54s\n",
      "15:\tlearn: 0.6251411\ttotal: 86.4ms\tremaining: 5.32s\n",
      "16:\tlearn: 0.6225743\ttotal: 87.9ms\tremaining: 5.08s\n",
      "17:\tlearn: 0.6186514\ttotal: 90.1ms\tremaining: 4.92s\n",
      "18:\tlearn: 0.6158414\ttotal: 92.1ms\tremaining: 4.75s\n",
      "19:\tlearn: 0.6119163\ttotal: 94ms\tremaining: 4.61s\n",
      "20:\tlearn: 0.6080667\ttotal: 96.3ms\tremaining: 4.49s\n",
      "21:\tlearn: 0.6048066\ttotal: 98.6ms\tremaining: 4.38s\n",
      "22:\tlearn: 0.6010264\ttotal: 101ms\tremaining: 4.28s\n",
      "23:\tlearn: 0.5973948\ttotal: 103ms\tremaining: 4.18s\n",
      "24:\tlearn: 0.5949455\ttotal: 105ms\tremaining: 4.08s\n",
      "25:\tlearn: 0.5910373\ttotal: 107ms\tremaining: 3.99s\n",
      "26:\tlearn: 0.5877004\ttotal: 108ms\tremaining: 3.91s\n",
      "27:\tlearn: 0.5839988\ttotal: 110ms\tremaining: 3.83s\n",
      "28:\tlearn: 0.5805776\ttotal: 112ms\tremaining: 3.76s\n",
      "29:\tlearn: 0.5771493\ttotal: 114ms\tremaining: 3.69s\n",
      "30:\tlearn: 0.5740601\ttotal: 116ms\tremaining: 3.62s\n",
      "31:\tlearn: 0.5707832\ttotal: 118ms\tremaining: 3.57s\n",
      "32:\tlearn: 0.5683701\ttotal: 120ms\tremaining: 3.52s\n",
      "33:\tlearn: 0.5654649\ttotal: 122ms\tremaining: 3.47s\n",
      "34:\tlearn: 0.5620283\ttotal: 124ms\tremaining: 3.42s\n",
      "35:\tlearn: 0.5599697\ttotal: 126ms\tremaining: 3.38s\n",
      "36:\tlearn: 0.5569108\ttotal: 128ms\tremaining: 3.34s\n",
      "37:\tlearn: 0.5539379\ttotal: 130ms\tremaining: 3.29s\n",
      "38:\tlearn: 0.5516308\ttotal: 132ms\tremaining: 3.26s\n",
      "39:\tlearn: 0.5487489\ttotal: 134ms\tremaining: 3.22s\n",
      "40:\tlearn: 0.5461577\ttotal: 136ms\tremaining: 3.19s\n",
      "41:\tlearn: 0.5435835\ttotal: 138ms\tremaining: 3.16s\n",
      "42:\tlearn: 0.5406793\ttotal: 140ms\tremaining: 3.12s\n",
      "43:\tlearn: 0.5385489\ttotal: 142ms\tremaining: 3.08s\n",
      "44:\tlearn: 0.5367029\ttotal: 143ms\tremaining: 3.04s\n",
      "45:\tlearn: 0.5339537\ttotal: 145ms\tremaining: 3.01s\n",
      "46:\tlearn: 0.5322697\ttotal: 147ms\tremaining: 2.99s\n",
      "47:\tlearn: 0.5296533\ttotal: 149ms\tremaining: 2.96s\n",
      "48:\tlearn: 0.5269742\ttotal: 151ms\tremaining: 2.94s\n",
      "49:\tlearn: 0.5244871\ttotal: 153ms\tremaining: 2.91s\n",
      "50:\tlearn: 0.5224749\ttotal: 155ms\tremaining: 2.88s\n",
      "51:\tlearn: 0.5203845\ttotal: 157ms\tremaining: 2.85s\n",
      "52:\tlearn: 0.5181659\ttotal: 158ms\tremaining: 2.83s\n",
      "53:\tlearn: 0.5153891\ttotal: 160ms\tremaining: 2.8s\n",
      "54:\tlearn: 0.5132665\ttotal: 162ms\tremaining: 2.78s\n",
      "55:\tlearn: 0.5108672\ttotal: 164ms\tremaining: 2.77s\n",
      "56:\tlearn: 0.5088001\ttotal: 167ms\tremaining: 2.75s\n",
      "57:\tlearn: 0.5065241\ttotal: 169ms\tremaining: 2.74s\n",
      "58:\tlearn: 0.5045121\ttotal: 171ms\tremaining: 2.73s\n",
      "59:\tlearn: 0.5027978\ttotal: 173ms\tremaining: 2.71s\n",
      "60:\tlearn: 0.5007859\ttotal: 176ms\tremaining: 2.7s\n",
      "61:\tlearn: 0.4987932\ttotal: 178ms\tremaining: 2.7s\n",
      "62:\tlearn: 0.4967726\ttotal: 182ms\tremaining: 2.7s\n",
      "63:\tlearn: 0.4947070\ttotal: 184ms\tremaining: 2.69s\n",
      "64:\tlearn: 0.4930998\ttotal: 187ms\tremaining: 2.69s\n",
      "65:\tlearn: 0.4910598\ttotal: 189ms\tremaining: 2.67s\n",
      "66:\tlearn: 0.4892958\ttotal: 191ms\tremaining: 2.66s\n",
      "67:\tlearn: 0.4882195\ttotal: 193ms\tremaining: 2.64s\n",
      "68:\tlearn: 0.4864710\ttotal: 195ms\tremaining: 2.63s\n",
      "69:\tlearn: 0.4847226\ttotal: 197ms\tremaining: 2.62s\n",
      "70:\tlearn: 0.4832421\ttotal: 200ms\tremaining: 2.62s\n",
      "71:\tlearn: 0.4816879\ttotal: 202ms\tremaining: 2.61s\n",
      "72:\tlearn: 0.4803320\ttotal: 204ms\tremaining: 2.59s\n",
      "73:\tlearn: 0.4793700\ttotal: 205ms\tremaining: 2.57s\n",
      "74:\tlearn: 0.4781908\ttotal: 208ms\tremaining: 2.57s\n",
      "75:\tlearn: 0.4768321\ttotal: 210ms\tremaining: 2.55s\n",
      "76:\tlearn: 0.4753136\ttotal: 213ms\tremaining: 2.55s\n",
      "77:\tlearn: 0.4735871\ttotal: 216ms\tremaining: 2.55s\n",
      "78:\tlearn: 0.4721691\ttotal: 219ms\tremaining: 2.55s\n",
      "79:\tlearn: 0.4718470\ttotal: 220ms\tremaining: 2.53s\n",
      "80:\tlearn: 0.4708609\ttotal: 223ms\tremaining: 2.53s\n",
      "81:\tlearn: 0.4692328\ttotal: 225ms\tremaining: 2.52s\n",
      "82:\tlearn: 0.4676742\ttotal: 228ms\tremaining: 2.52s\n",
      "83:\tlearn: 0.4664078\ttotal: 231ms\tremaining: 2.52s\n",
      "84:\tlearn: 0.4650334\ttotal: 234ms\tremaining: 2.51s\n",
      "85:\tlearn: 0.4636225\ttotal: 236ms\tremaining: 2.51s\n",
      "86:\tlearn: 0.4622577\ttotal: 239ms\tremaining: 2.51s\n",
      "87:\tlearn: 0.4612906\ttotal: 241ms\tremaining: 2.5s\n",
      "88:\tlearn: 0.4597617\ttotal: 244ms\tremaining: 2.5s\n",
      "89:\tlearn: 0.4584920\ttotal: 247ms\tremaining: 2.49s\n",
      "90:\tlearn: 0.4571995\ttotal: 250ms\tremaining: 2.49s\n",
      "91:\tlearn: 0.4559401\ttotal: 253ms\tremaining: 2.49s\n",
      "92:\tlearn: 0.4547577\ttotal: 256ms\tremaining: 2.5s\n",
      "93:\tlearn: 0.4534932\ttotal: 259ms\tremaining: 2.5s\n",
      "94:\tlearn: 0.4524225\ttotal: 264ms\tremaining: 2.51s\n",
      "95:\tlearn: 0.4513255\ttotal: 267ms\tremaining: 2.51s\n",
      "96:\tlearn: 0.4500137\ttotal: 269ms\tremaining: 2.5s\n",
      "97:\tlearn: 0.4489114\ttotal: 272ms\tremaining: 2.5s\n",
      "98:\tlearn: 0.4480754\ttotal: 275ms\tremaining: 2.5s\n",
      "99:\tlearn: 0.4470374\ttotal: 277ms\tremaining: 2.5s\n",
      "100:\tlearn: 0.4459123\ttotal: 280ms\tremaining: 2.49s\n",
      "101:\tlearn: 0.4448743\ttotal: 283ms\tremaining: 2.49s\n",
      "102:\tlearn: 0.4439692\ttotal: 286ms\tremaining: 2.49s\n",
      "103:\tlearn: 0.4429138\ttotal: 289ms\tremaining: 2.49s\n",
      "104:\tlearn: 0.4420611\ttotal: 291ms\tremaining: 2.48s\n",
      "105:\tlearn: 0.4413930\ttotal: 293ms\tremaining: 2.48s\n",
      "106:\tlearn: 0.4404617\ttotal: 296ms\tremaining: 2.47s\n",
      "107:\tlearn: 0.4393710\ttotal: 299ms\tremaining: 2.47s\n",
      "108:\tlearn: 0.4382180\ttotal: 301ms\tremaining: 2.46s\n",
      "109:\tlearn: 0.4373948\ttotal: 304ms\tremaining: 2.46s\n",
      "110:\tlearn: 0.4365680\ttotal: 306ms\tremaining: 2.45s\n",
      "111:\tlearn: 0.4357044\ttotal: 309ms\tremaining: 2.45s\n",
      "112:\tlearn: 0.4347067\ttotal: 313ms\tremaining: 2.46s\n",
      "113:\tlearn: 0.4335487\ttotal: 316ms\tremaining: 2.45s\n",
      "114:\tlearn: 0.4325225\ttotal: 318ms\tremaining: 2.45s\n",
      "115:\tlearn: 0.4317778\ttotal: 320ms\tremaining: 2.44s\n",
      "116:\tlearn: 0.4309678\ttotal: 322ms\tremaining: 2.43s\n",
      "117:\tlearn: 0.4301812\ttotal: 325ms\tremaining: 2.43s\n",
      "118:\tlearn: 0.4295035\ttotal: 327ms\tremaining: 2.42s\n",
      "119:\tlearn: 0.4291884\ttotal: 330ms\tremaining: 2.42s\n",
      "120:\tlearn: 0.4286312\ttotal: 333ms\tremaining: 2.42s\n",
      "121:\tlearn: 0.4283234\ttotal: 334ms\tremaining: 2.41s\n",
      "122:\tlearn: 0.4274899\ttotal: 337ms\tremaining: 2.4s\n",
      "123:\tlearn: 0.4270494\ttotal: 341ms\tremaining: 2.41s\n",
      "124:\tlearn: 0.4263156\ttotal: 343ms\tremaining: 2.4s\n",
      "125:\tlearn: 0.4261669\ttotal: 345ms\tremaining: 2.39s\n",
      "126:\tlearn: 0.4258342\ttotal: 347ms\tremaining: 2.39s\n",
      "127:\tlearn: 0.4253537\ttotal: 350ms\tremaining: 2.38s\n",
      "128:\tlearn: 0.4244606\ttotal: 352ms\tremaining: 2.38s\n",
      "129:\tlearn: 0.4236779\ttotal: 355ms\tremaining: 2.37s\n",
      "130:\tlearn: 0.4231390\ttotal: 357ms\tremaining: 2.37s\n",
      "131:\tlearn: 0.4226133\ttotal: 359ms\tremaining: 2.36s\n",
      "132:\tlearn: 0.4218191\ttotal: 362ms\tremaining: 2.36s\n",
      "133:\tlearn: 0.4208052\ttotal: 366ms\tremaining: 2.36s\n",
      "134:\tlearn: 0.4201099\ttotal: 369ms\tremaining: 2.36s\n",
      "135:\tlearn: 0.4195157\ttotal: 373ms\tremaining: 2.37s\n",
      "136:\tlearn: 0.4189125\ttotal: 376ms\tremaining: 2.37s\n",
      "137:\tlearn: 0.4180778\ttotal: 378ms\tremaining: 2.36s\n",
      "138:\tlearn: 0.4173028\ttotal: 381ms\tremaining: 2.36s\n",
      "139:\tlearn: 0.4167616\ttotal: 384ms\tremaining: 2.36s\n",
      "140:\tlearn: 0.4159653\ttotal: 387ms\tremaining: 2.35s\n",
      "141:\tlearn: 0.4154656\ttotal: 389ms\tremaining: 2.35s\n",
      "142:\tlearn: 0.4146910\ttotal: 391ms\tremaining: 2.35s\n",
      "143:\tlearn: 0.4143009\ttotal: 393ms\tremaining: 2.34s\n",
      "144:\tlearn: 0.4139333\ttotal: 395ms\tremaining: 2.33s\n",
      "145:\tlearn: 0.4132088\ttotal: 398ms\tremaining: 2.33s\n",
      "146:\tlearn: 0.4125864\ttotal: 400ms\tremaining: 2.32s\n",
      "147:\tlearn: 0.4117673\ttotal: 403ms\tremaining: 2.32s\n",
      "148:\tlearn: 0.4109888\ttotal: 405ms\tremaining: 2.31s\n",
      "149:\tlearn: 0.4106005\ttotal: 408ms\tremaining: 2.31s\n",
      "150:\tlearn: 0.4099891\ttotal: 410ms\tremaining: 2.31s\n",
      "151:\tlearn: 0.4094446\ttotal: 412ms\tremaining: 2.3s\n",
      "152:\tlearn: 0.4091842\ttotal: 414ms\tremaining: 2.29s\n",
      "153:\tlearn: 0.4088972\ttotal: 417ms\tremaining: 2.29s\n",
      "154:\tlearn: 0.4084425\ttotal: 419ms\tremaining: 2.28s\n",
      "155:\tlearn: 0.4079110\ttotal: 421ms\tremaining: 2.28s\n",
      "156:\tlearn: 0.4073414\ttotal: 425ms\tremaining: 2.28s\n",
      "157:\tlearn: 0.4068505\ttotal: 428ms\tremaining: 2.28s\n",
      "158:\tlearn: 0.4065485\ttotal: 430ms\tremaining: 2.27s\n",
      "159:\tlearn: 0.4060262\ttotal: 433ms\tremaining: 2.27s\n",
      "160:\tlearn: 0.4054581\ttotal: 435ms\tremaining: 2.27s\n",
      "161:\tlearn: 0.4050986\ttotal: 437ms\tremaining: 2.26s\n",
      "162:\tlearn: 0.4046096\ttotal: 439ms\tremaining: 2.26s\n",
      "163:\tlearn: 0.4042318\ttotal: 442ms\tremaining: 2.25s\n",
      "164:\tlearn: 0.4037438\ttotal: 444ms\tremaining: 2.25s\n",
      "165:\tlearn: 0.4031811\ttotal: 446ms\tremaining: 2.24s\n",
      "166:\tlearn: 0.4027779\ttotal: 448ms\tremaining: 2.23s\n",
      "167:\tlearn: 0.4023226\ttotal: 451ms\tremaining: 2.23s\n",
      "168:\tlearn: 0.4016391\ttotal: 453ms\tremaining: 2.23s\n",
      "169:\tlearn: 0.4012068\ttotal: 456ms\tremaining: 2.23s\n",
      "170:\tlearn: 0.4004643\ttotal: 458ms\tremaining: 2.22s\n",
      "171:\tlearn: 0.4000703\ttotal: 461ms\tremaining: 2.22s\n",
      "172:\tlearn: 0.3996812\ttotal: 464ms\tremaining: 2.22s\n",
      "173:\tlearn: 0.3993524\ttotal: 467ms\tremaining: 2.22s\n",
      "174:\tlearn: 0.3990358\ttotal: 469ms\tremaining: 2.21s\n",
      "175:\tlearn: 0.3984921\ttotal: 471ms\tremaining: 2.21s\n",
      "176:\tlearn: 0.3979290\ttotal: 473ms\tremaining: 2.2s\n",
      "177:\tlearn: 0.3975273\ttotal: 475ms\tremaining: 2.19s\n",
      "178:\tlearn: 0.3972473\ttotal: 477ms\tremaining: 2.19s\n",
      "179:\tlearn: 0.3971823\ttotal: 478ms\tremaining: 2.18s\n",
      "180:\tlearn: 0.3968083\ttotal: 481ms\tremaining: 2.17s\n",
      "181:\tlearn: 0.3963339\ttotal: 483ms\tremaining: 2.17s\n",
      "182:\tlearn: 0.3958438\ttotal: 485ms\tremaining: 2.16s\n",
      "183:\tlearn: 0.3954497\ttotal: 487ms\tremaining: 2.16s\n",
      "184:\tlearn: 0.3950968\ttotal: 489ms\tremaining: 2.15s\n",
      "185:\tlearn: 0.3948656\ttotal: 491ms\tremaining: 2.15s\n",
      "186:\tlearn: 0.3944791\ttotal: 493ms\tremaining: 2.14s\n",
      "187:\tlearn: 0.3940693\ttotal: 495ms\tremaining: 2.14s\n",
      "188:\tlearn: 0.3937855\ttotal: 498ms\tremaining: 2.13s\n",
      "189:\tlearn: 0.3935087\ttotal: 500ms\tremaining: 2.13s\n",
      "190:\tlearn: 0.3933247\ttotal: 502ms\tremaining: 2.13s\n",
      "191:\tlearn: 0.3929005\ttotal: 505ms\tremaining: 2.12s\n",
      "192:\tlearn: 0.3924756\ttotal: 507ms\tremaining: 2.12s\n",
      "193:\tlearn: 0.3921793\ttotal: 510ms\tremaining: 2.12s\n",
      "194:\tlearn: 0.3919516\ttotal: 513ms\tremaining: 2.12s\n",
      "195:\tlearn: 0.3915013\ttotal: 516ms\tremaining: 2.12s\n",
      "196:\tlearn: 0.3913815\ttotal: 518ms\tremaining: 2.11s\n",
      "197:\tlearn: 0.3911165\ttotal: 521ms\tremaining: 2.11s\n",
      "198:\tlearn: 0.3909656\ttotal: 523ms\tremaining: 2.11s\n",
      "199:\tlearn: 0.3907133\ttotal: 526ms\tremaining: 2.1s\n",
      "200:\tlearn: 0.3903916\ttotal: 528ms\tremaining: 2.1s\n",
      "201:\tlearn: 0.3899701\ttotal: 531ms\tremaining: 2.1s\n",
      "202:\tlearn: 0.3895077\ttotal: 533ms\tremaining: 2.09s\n",
      "203:\tlearn: 0.3891495\ttotal: 535ms\tremaining: 2.09s\n",
      "204:\tlearn: 0.3890306\ttotal: 537ms\tremaining: 2.08s\n",
      "205:\tlearn: 0.3887911\ttotal: 540ms\tremaining: 2.08s\n",
      "206:\tlearn: 0.3885211\ttotal: 543ms\tremaining: 2.08s\n",
      "207:\tlearn: 0.3881841\ttotal: 546ms\tremaining: 2.08s\n",
      "208:\tlearn: 0.3877179\ttotal: 548ms\tremaining: 2.07s\n",
      "209:\tlearn: 0.3876646\ttotal: 550ms\tremaining: 2.07s\n",
      "210:\tlearn: 0.3874319\ttotal: 552ms\tremaining: 2.06s\n",
      "211:\tlearn: 0.3871253\ttotal: 555ms\tremaining: 2.06s\n",
      "212:\tlearn: 0.3867482\ttotal: 557ms\tremaining: 2.06s\n",
      "213:\tlearn: 0.3865169\ttotal: 559ms\tremaining: 2.05s\n",
      "214:\tlearn: 0.3863539\ttotal: 562ms\tremaining: 2.05s\n",
      "215:\tlearn: 0.3860667\ttotal: 565ms\tremaining: 2.05s\n",
      "216:\tlearn: 0.3857455\ttotal: 567ms\tremaining: 2.05s\n",
      "217:\tlearn: 0.3854098\ttotal: 570ms\tremaining: 2.04s\n",
      "218:\tlearn: 0.3850046\ttotal: 571ms\tremaining: 2.04s\n",
      "219:\tlearn: 0.3846361\ttotal: 574ms\tremaining: 2.03s\n",
      "220:\tlearn: 0.3843323\ttotal: 576ms\tremaining: 2.03s\n",
      "221:\tlearn: 0.3840279\ttotal: 578ms\tremaining: 2.02s\n",
      "222:\tlearn: 0.3837100\ttotal: 580ms\tremaining: 2.02s\n",
      "223:\tlearn: 0.3833900\ttotal: 582ms\tremaining: 2.02s\n",
      "224:\tlearn: 0.3833538\ttotal: 584ms\tremaining: 2.01s\n",
      "225:\tlearn: 0.3829844\ttotal: 586ms\tremaining: 2.01s\n",
      "226:\tlearn: 0.3827027\ttotal: 588ms\tremaining: 2s\n",
      "227:\tlearn: 0.3822670\ttotal: 590ms\tremaining: 2s\n",
      "228:\tlearn: 0.3819317\ttotal: 592ms\tremaining: 1.99s\n",
      "229:\tlearn: 0.3816849\ttotal: 595ms\tremaining: 1.99s\n",
      "230:\tlearn: 0.3813198\ttotal: 597ms\tremaining: 1.99s\n",
      "231:\tlearn: 0.3809417\ttotal: 599ms\tremaining: 1.98s\n",
      "232:\tlearn: 0.3805890\ttotal: 601ms\tremaining: 1.98s\n",
      "233:\tlearn: 0.3802553\ttotal: 603ms\tremaining: 1.97s\n",
      "234:\tlearn: 0.3798347\ttotal: 605ms\tremaining: 1.97s\n",
      "235:\tlearn: 0.3795742\ttotal: 607ms\tremaining: 1.97s\n",
      "236:\tlearn: 0.3793384\ttotal: 609ms\tremaining: 1.96s\n",
      "237:\tlearn: 0.3791604\ttotal: 611ms\tremaining: 1.96s\n",
      "238:\tlearn: 0.3790624\ttotal: 613ms\tremaining: 1.95s\n",
      "239:\tlearn: 0.3787924\ttotal: 615ms\tremaining: 1.95s\n",
      "240:\tlearn: 0.3785061\ttotal: 618ms\tremaining: 1.95s\n",
      "241:\tlearn: 0.3783575\ttotal: 620ms\tremaining: 1.94s\n",
      "242:\tlearn: 0.3781880\ttotal: 623ms\tremaining: 1.94s\n",
      "243:\tlearn: 0.3778795\ttotal: 625ms\tremaining: 1.94s\n",
      "244:\tlearn: 0.3778040\ttotal: 626ms\tremaining: 1.93s\n",
      "245:\tlearn: 0.3775317\ttotal: 629ms\tremaining: 1.93s\n",
      "246:\tlearn: 0.3772858\ttotal: 631ms\tremaining: 1.92s\n",
      "247:\tlearn: 0.3770127\ttotal: 633ms\tremaining: 1.92s\n",
      "248:\tlearn: 0.3767152\ttotal: 635ms\tremaining: 1.92s\n",
      "249:\tlearn: 0.3764106\ttotal: 638ms\tremaining: 1.91s\n",
      "250:\tlearn: 0.3761161\ttotal: 640ms\tremaining: 1.91s\n",
      "251:\tlearn: 0.3759628\ttotal: 643ms\tremaining: 1.91s\n",
      "252:\tlearn: 0.3755670\ttotal: 646ms\tremaining: 1.91s\n",
      "253:\tlearn: 0.3753752\ttotal: 648ms\tremaining: 1.9s\n",
      "254:\tlearn: 0.3752981\ttotal: 650ms\tremaining: 1.9s\n",
      "255:\tlearn: 0.3752673\ttotal: 651ms\tremaining: 1.89s\n",
      "256:\tlearn: 0.3748880\ttotal: 654ms\tremaining: 1.89s\n",
      "257:\tlearn: 0.3746423\ttotal: 656ms\tremaining: 1.89s\n",
      "258:\tlearn: 0.3743301\ttotal: 658ms\tremaining: 1.88s\n",
      "259:\tlearn: 0.3741020\ttotal: 661ms\tremaining: 1.88s\n",
      "260:\tlearn: 0.3736770\ttotal: 663ms\tremaining: 1.88s\n",
      "261:\tlearn: 0.3735735\ttotal: 665ms\tremaining: 1.87s\n",
      "262:\tlearn: 0.3734604\ttotal: 666ms\tremaining: 1.87s\n",
      "263:\tlearn: 0.3733348\ttotal: 668ms\tremaining: 1.86s\n",
      "264:\tlearn: 0.3731762\ttotal: 670ms\tremaining: 1.86s\n",
      "265:\tlearn: 0.3729036\ttotal: 672ms\tremaining: 1.85s\n",
      "266:\tlearn: 0.3727221\ttotal: 674ms\tremaining: 1.85s\n",
      "267:\tlearn: 0.3725347\ttotal: 676ms\tremaining: 1.84s\n",
      "268:\tlearn: 0.3723668\ttotal: 678ms\tremaining: 1.84s\n",
      "269:\tlearn: 0.3721811\ttotal: 680ms\tremaining: 1.84s\n",
      "270:\tlearn: 0.3720686\ttotal: 682ms\tremaining: 1.83s\n",
      "271:\tlearn: 0.3719253\ttotal: 684ms\tremaining: 1.83s\n",
      "272:\tlearn: 0.3715364\ttotal: 685ms\tremaining: 1.82s\n",
      "273:\tlearn: 0.3712321\ttotal: 687ms\tremaining: 1.82s\n",
      "274:\tlearn: 0.3711667\ttotal: 688ms\tremaining: 1.81s\n",
      "275:\tlearn: 0.3708699\ttotal: 690ms\tremaining: 1.81s\n",
      "276:\tlearn: 0.3708304\ttotal: 691ms\tremaining: 1.8s\n",
      "277:\tlearn: 0.3705999\ttotal: 692ms\tremaining: 1.8s\n",
      "278:\tlearn: 0.3702718\ttotal: 694ms\tremaining: 1.79s\n",
      "279:\tlearn: 0.3700166\ttotal: 696ms\tremaining: 1.79s\n",
      "280:\tlearn: 0.3698147\ttotal: 697ms\tremaining: 1.78s\n",
      "281:\tlearn: 0.3697284\ttotal: 699ms\tremaining: 1.78s\n",
      "282:\tlearn: 0.3694924\ttotal: 700ms\tremaining: 1.77s\n",
      "283:\tlearn: 0.3693438\ttotal: 702ms\tremaining: 1.77s\n",
      "284:\tlearn: 0.3689829\ttotal: 704ms\tremaining: 1.76s\n",
      "285:\tlearn: 0.3688396\ttotal: 706ms\tremaining: 1.76s\n",
      "286:\tlearn: 0.3686146\ttotal: 707ms\tremaining: 1.76s\n",
      "287:\tlearn: 0.3684661\ttotal: 709ms\tremaining: 1.75s\n",
      "288:\tlearn: 0.3681624\ttotal: 711ms\tremaining: 1.75s\n",
      "289:\tlearn: 0.3680056\ttotal: 712ms\tremaining: 1.74s\n",
      "290:\tlearn: 0.3677619\ttotal: 714ms\tremaining: 1.74s\n",
      "291:\tlearn: 0.3676374\ttotal: 716ms\tremaining: 1.74s\n",
      "292:\tlearn: 0.3674376\ttotal: 717ms\tremaining: 1.73s\n",
      "293:\tlearn: 0.3673404\ttotal: 720ms\tremaining: 1.73s\n",
      "294:\tlearn: 0.3670220\ttotal: 722ms\tremaining: 1.73s\n",
      "295:\tlearn: 0.3668709\ttotal: 724ms\tremaining: 1.72s\n",
      "296:\tlearn: 0.3666381\ttotal: 726ms\tremaining: 1.72s\n",
      "297:\tlearn: 0.3664515\ttotal: 728ms\tremaining: 1.71s\n",
      "298:\tlearn: 0.3662653\ttotal: 729ms\tremaining: 1.71s\n",
      "299:\tlearn: 0.3660736\ttotal: 731ms\tremaining: 1.71s\n",
      "300:\tlearn: 0.3658512\ttotal: 733ms\tremaining: 1.7s\n",
      "301:\tlearn: 0.3657366\ttotal: 734ms\tremaining: 1.7s\n",
      "302:\tlearn: 0.3656645\ttotal: 736ms\tremaining: 1.69s\n",
      "303:\tlearn: 0.3653480\ttotal: 737ms\tremaining: 1.69s\n",
      "304:\tlearn: 0.3651921\ttotal: 739ms\tremaining: 1.68s\n",
      "305:\tlearn: 0.3649626\ttotal: 740ms\tremaining: 1.68s\n",
      "306:\tlearn: 0.3648870\ttotal: 742ms\tremaining: 1.68s\n",
      "307:\tlearn: 0.3646163\ttotal: 744ms\tremaining: 1.67s\n",
      "308:\tlearn: 0.3644705\ttotal: 745ms\tremaining: 1.67s\n",
      "309:\tlearn: 0.3643541\ttotal: 747ms\tremaining: 1.66s\n",
      "310:\tlearn: 0.3641936\ttotal: 749ms\tremaining: 1.66s\n",
      "311:\tlearn: 0.3639544\ttotal: 751ms\tremaining: 1.66s\n",
      "312:\tlearn: 0.3638011\ttotal: 753ms\tremaining: 1.65s\n",
      "313:\tlearn: 0.3635946\ttotal: 755ms\tremaining: 1.65s\n",
      "314:\tlearn: 0.3633683\ttotal: 757ms\tremaining: 1.65s\n",
      "315:\tlearn: 0.3633550\ttotal: 758ms\tremaining: 1.64s\n",
      "316:\tlearn: 0.3630284\ttotal: 760ms\tremaining: 1.64s\n",
      "317:\tlearn: 0.3628207\ttotal: 762ms\tremaining: 1.63s\n",
      "318:\tlearn: 0.3626222\ttotal: 764ms\tremaining: 1.63s\n",
      "319:\tlearn: 0.3624363\ttotal: 766ms\tremaining: 1.63s\n",
      "320:\tlearn: 0.3622666\ttotal: 768ms\tremaining: 1.62s\n",
      "321:\tlearn: 0.3620290\ttotal: 770ms\tremaining: 1.62s\n",
      "322:\tlearn: 0.3619718\ttotal: 772ms\tremaining: 1.62s\n",
      "323:\tlearn: 0.3618765\ttotal: 774ms\tremaining: 1.61s\n",
      "324:\tlearn: 0.3616527\ttotal: 776ms\tremaining: 1.61s\n",
      "325:\tlearn: 0.3614932\ttotal: 778ms\tremaining: 1.61s\n",
      "326:\tlearn: 0.3612832\ttotal: 780ms\tremaining: 1.6s\n",
      "327:\tlearn: 0.3612099\ttotal: 781ms\tremaining: 1.6s\n",
      "328:\tlearn: 0.3608930\ttotal: 783ms\tremaining: 1.6s\n",
      "329:\tlearn: 0.3606837\ttotal: 784ms\tremaining: 1.59s\n",
      "330:\tlearn: 0.3605540\ttotal: 786ms\tremaining: 1.59s\n",
      "331:\tlearn: 0.3602692\ttotal: 788ms\tremaining: 1.58s\n",
      "332:\tlearn: 0.3600136\ttotal: 789ms\tremaining: 1.58s\n",
      "333:\tlearn: 0.3599316\ttotal: 792ms\tremaining: 1.58s\n",
      "334:\tlearn: 0.3597658\ttotal: 793ms\tremaining: 1.57s\n",
      "335:\tlearn: 0.3594463\ttotal: 795ms\tremaining: 1.57s\n",
      "336:\tlearn: 0.3592118\ttotal: 797ms\tremaining: 1.57s\n",
      "337:\tlearn: 0.3590753\ttotal: 798ms\tremaining: 1.56s\n",
      "338:\tlearn: 0.3588038\ttotal: 800ms\tremaining: 1.56s\n",
      "339:\tlearn: 0.3587282\ttotal: 801ms\tremaining: 1.55s\n",
      "340:\tlearn: 0.3585616\ttotal: 803ms\tremaining: 1.55s\n",
      "341:\tlearn: 0.3583342\ttotal: 804ms\tremaining: 1.55s\n",
      "342:\tlearn: 0.3581116\ttotal: 806ms\tremaining: 1.54s\n",
      "343:\tlearn: 0.3579332\ttotal: 807ms\tremaining: 1.54s\n",
      "344:\tlearn: 0.3578119\ttotal: 809ms\tremaining: 1.53s\n",
      "345:\tlearn: 0.3576289\ttotal: 811ms\tremaining: 1.53s\n",
      "346:\tlearn: 0.3574923\ttotal: 812ms\tremaining: 1.53s\n",
      "347:\tlearn: 0.3573840\ttotal: 814ms\tremaining: 1.52s\n",
      "348:\tlearn: 0.3572334\ttotal: 815ms\tremaining: 1.52s\n",
      "349:\tlearn: 0.3570084\ttotal: 817ms\tremaining: 1.52s\n",
      "350:\tlearn: 0.3569495\ttotal: 819ms\tremaining: 1.51s\n",
      "351:\tlearn: 0.3568287\ttotal: 821ms\tremaining: 1.51s\n",
      "352:\tlearn: 0.3567687\ttotal: 822ms\tremaining: 1.51s\n",
      "353:\tlearn: 0.3565503\ttotal: 824ms\tremaining: 1.5s\n",
      "354:\tlearn: 0.3562849\ttotal: 825ms\tremaining: 1.5s\n",
      "355:\tlearn: 0.3561456\ttotal: 827ms\tremaining: 1.5s\n",
      "356:\tlearn: 0.3559841\ttotal: 829ms\tremaining: 1.49s\n",
      "357:\tlearn: 0.3558349\ttotal: 830ms\tremaining: 1.49s\n",
      "358:\tlearn: 0.3555496\ttotal: 832ms\tremaining: 1.49s\n",
      "359:\tlearn: 0.3553425\ttotal: 834ms\tremaining: 1.48s\n",
      "360:\tlearn: 0.3552496\ttotal: 835ms\tremaining: 1.48s\n",
      "361:\tlearn: 0.3551506\ttotal: 837ms\tremaining: 1.48s\n",
      "362:\tlearn: 0.3550098\ttotal: 839ms\tremaining: 1.47s\n",
      "363:\tlearn: 0.3548836\ttotal: 840ms\tremaining: 1.47s\n",
      "364:\tlearn: 0.3547025\ttotal: 842ms\tremaining: 1.46s\n",
      "365:\tlearn: 0.3545584\ttotal: 843ms\tremaining: 1.46s\n",
      "366:\tlearn: 0.3545254\ttotal: 845ms\tremaining: 1.46s\n",
      "367:\tlearn: 0.3544974\ttotal: 847ms\tremaining: 1.45s\n",
      "368:\tlearn: 0.3543935\ttotal: 848ms\tremaining: 1.45s\n",
      "369:\tlearn: 0.3541823\ttotal: 850ms\tremaining: 1.45s\n",
      "370:\tlearn: 0.3539774\ttotal: 851ms\tremaining: 1.44s\n",
      "371:\tlearn: 0.3537950\ttotal: 853ms\tremaining: 1.44s\n",
      "372:\tlearn: 0.3536484\ttotal: 855ms\tremaining: 1.44s\n",
      "373:\tlearn: 0.3533861\ttotal: 856ms\tremaining: 1.43s\n",
      "374:\tlearn: 0.3531237\ttotal: 858ms\tremaining: 1.43s\n",
      "375:\tlearn: 0.3527609\ttotal: 860ms\tremaining: 1.43s\n",
      "376:\tlearn: 0.3524582\ttotal: 861ms\tremaining: 1.42s\n",
      "377:\tlearn: 0.3523125\ttotal: 863ms\tremaining: 1.42s\n",
      "378:\tlearn: 0.3521947\ttotal: 865ms\tremaining: 1.42s\n",
      "379:\tlearn: 0.3519581\ttotal: 866ms\tremaining: 1.41s\n",
      "380:\tlearn: 0.3517993\ttotal: 868ms\tremaining: 1.41s\n",
      "381:\tlearn: 0.3516648\ttotal: 870ms\tremaining: 1.41s\n",
      "382:\tlearn: 0.3516424\ttotal: 871ms\tremaining: 1.4s\n",
      "383:\tlearn: 0.3513779\ttotal: 872ms\tremaining: 1.4s\n",
      "384:\tlearn: 0.3511660\ttotal: 874ms\tremaining: 1.4s\n",
      "385:\tlearn: 0.3509802\ttotal: 876ms\tremaining: 1.39s\n",
      "386:\tlearn: 0.3507294\ttotal: 877ms\tremaining: 1.39s\n",
      "387:\tlearn: 0.3506744\ttotal: 878ms\tremaining: 1.39s\n",
      "388:\tlearn: 0.3505459\ttotal: 880ms\tremaining: 1.38s\n",
      "389:\tlearn: 0.3503742\ttotal: 881ms\tremaining: 1.38s\n",
      "390:\tlearn: 0.3501993\ttotal: 883ms\tremaining: 1.38s\n",
      "391:\tlearn: 0.3501183\ttotal: 884ms\tremaining: 1.37s\n",
      "392:\tlearn: 0.3498489\ttotal: 886ms\tremaining: 1.37s\n",
      "393:\tlearn: 0.3498440\ttotal: 887ms\tremaining: 1.36s\n",
      "394:\tlearn: 0.3497848\ttotal: 889ms\tremaining: 1.36s\n",
      "395:\tlearn: 0.3495799\ttotal: 891ms\tremaining: 1.36s\n",
      "396:\tlearn: 0.3493963\ttotal: 893ms\tremaining: 1.35s\n",
      "397:\tlearn: 0.3493225\ttotal: 894ms\tremaining: 1.35s\n",
      "398:\tlearn: 0.3491807\ttotal: 896ms\tremaining: 1.35s\n",
      "399:\tlearn: 0.3490277\ttotal: 898ms\tremaining: 1.35s\n",
      "400:\tlearn: 0.3489015\ttotal: 900ms\tremaining: 1.34s\n",
      "401:\tlearn: 0.3486452\ttotal: 903ms\tremaining: 1.34s\n",
      "402:\tlearn: 0.3485272\ttotal: 905ms\tremaining: 1.34s\n",
      "403:\tlearn: 0.3483352\ttotal: 907ms\tremaining: 1.34s\n",
      "404:\tlearn: 0.3480281\ttotal: 908ms\tremaining: 1.33s\n",
      "405:\tlearn: 0.3478641\ttotal: 910ms\tremaining: 1.33s\n",
      "406:\tlearn: 0.3478064\ttotal: 911ms\tremaining: 1.33s\n",
      "407:\tlearn: 0.3476539\ttotal: 913ms\tremaining: 1.32s\n",
      "408:\tlearn: 0.3475589\ttotal: 915ms\tremaining: 1.32s\n",
      "409:\tlearn: 0.3474923\ttotal: 916ms\tremaining: 1.32s\n",
      "410:\tlearn: 0.3472965\ttotal: 919ms\tremaining: 1.32s\n",
      "411:\tlearn: 0.3472713\ttotal: 920ms\tremaining: 1.31s\n",
      "412:\tlearn: 0.3471064\ttotal: 922ms\tremaining: 1.31s\n",
      "413:\tlearn: 0.3469433\ttotal: 924ms\tremaining: 1.31s\n",
      "414:\tlearn: 0.3468283\ttotal: 926ms\tremaining: 1.3s\n",
      "415:\tlearn: 0.3465884\ttotal: 927ms\tremaining: 1.3s\n",
      "416:\tlearn: 0.3464473\ttotal: 930ms\tremaining: 1.3s\n",
      "417:\tlearn: 0.3462637\ttotal: 932ms\tremaining: 1.3s\n",
      "418:\tlearn: 0.3461300\ttotal: 934ms\tremaining: 1.29s\n",
      "419:\tlearn: 0.3459835\ttotal: 936ms\tremaining: 1.29s\n",
      "420:\tlearn: 0.3458514\ttotal: 937ms\tremaining: 1.29s\n",
      "421:\tlearn: 0.3457288\ttotal: 939ms\tremaining: 1.29s\n",
      "422:\tlearn: 0.3456434\ttotal: 941ms\tremaining: 1.28s\n",
      "423:\tlearn: 0.3454793\ttotal: 943ms\tremaining: 1.28s\n",
      "424:\tlearn: 0.3451777\ttotal: 946ms\tremaining: 1.28s\n",
      "425:\tlearn: 0.3450969\ttotal: 949ms\tremaining: 1.28s\n",
      "426:\tlearn: 0.3448098\ttotal: 951ms\tremaining: 1.28s\n",
      "427:\tlearn: 0.3447193\ttotal: 953ms\tremaining: 1.27s\n",
      "428:\tlearn: 0.3446196\ttotal: 956ms\tremaining: 1.27s\n",
      "429:\tlearn: 0.3445135\ttotal: 958ms\tremaining: 1.27s\n",
      "430:\tlearn: 0.3444291\ttotal: 960ms\tremaining: 1.27s\n",
      "431:\tlearn: 0.3443304\ttotal: 962ms\tremaining: 1.26s\n",
      "432:\tlearn: 0.3440491\ttotal: 964ms\tremaining: 1.26s\n",
      "433:\tlearn: 0.3439269\ttotal: 966ms\tremaining: 1.26s\n",
      "434:\tlearn: 0.3438567\ttotal: 968ms\tremaining: 1.26s\n",
      "435:\tlearn: 0.3437356\ttotal: 970ms\tremaining: 1.25s\n",
      "436:\tlearn: 0.3436533\ttotal: 973ms\tremaining: 1.25s\n",
      "437:\tlearn: 0.3434307\ttotal: 976ms\tremaining: 1.25s\n",
      "438:\tlearn: 0.3432569\ttotal: 978ms\tremaining: 1.25s\n",
      "439:\tlearn: 0.3431689\ttotal: 980ms\tremaining: 1.25s\n",
      "440:\tlearn: 0.3428880\ttotal: 982ms\tremaining: 1.25s\n",
      "441:\tlearn: 0.3428087\ttotal: 985ms\tremaining: 1.24s\n",
      "442:\tlearn: 0.3426608\ttotal: 987ms\tremaining: 1.24s\n",
      "443:\tlearn: 0.3425129\ttotal: 991ms\tremaining: 1.24s\n",
      "444:\tlearn: 0.3422316\ttotal: 993ms\tremaining: 1.24s\n",
      "445:\tlearn: 0.3421595\ttotal: 996ms\tremaining: 1.24s\n",
      "446:\tlearn: 0.3420252\ttotal: 998ms\tremaining: 1.23s\n",
      "447:\tlearn: 0.3419102\ttotal: 1s\tremaining: 1.23s\n",
      "448:\tlearn: 0.3419037\ttotal: 1s\tremaining: 1.23s\n",
      "449:\tlearn: 0.3417914\ttotal: 1.01s\tremaining: 1.23s\n",
      "450:\tlearn: 0.3416858\ttotal: 1.01s\tremaining: 1.23s\n",
      "451:\tlearn: 0.3416403\ttotal: 1.01s\tremaining: 1.23s\n",
      "452:\tlearn: 0.3414992\ttotal: 1.01s\tremaining: 1.22s\n",
      "453:\tlearn: 0.3413607\ttotal: 1.02s\tremaining: 1.22s\n",
      "454:\tlearn: 0.3412100\ttotal: 1.02s\tremaining: 1.22s\n",
      "455:\tlearn: 0.3411974\ttotal: 1.02s\tremaining: 1.22s\n",
      "456:\tlearn: 0.3411248\ttotal: 1.02s\tremaining: 1.21s\n",
      "457:\tlearn: 0.3410016\ttotal: 1.02s\tremaining: 1.21s\n",
      "458:\tlearn: 0.3406439\ttotal: 1.03s\tremaining: 1.21s\n",
      "459:\tlearn: 0.3405395\ttotal: 1.03s\tremaining: 1.21s\n",
      "460:\tlearn: 0.3403866\ttotal: 1.03s\tremaining: 1.21s\n",
      "461:\tlearn: 0.3402039\ttotal: 1.03s\tremaining: 1.2s\n",
      "462:\tlearn: 0.3401431\ttotal: 1.04s\tremaining: 1.2s\n",
      "463:\tlearn: 0.3400161\ttotal: 1.04s\tremaining: 1.2s\n",
      "464:\tlearn: 0.3398320\ttotal: 1.04s\tremaining: 1.2s\n",
      "465:\tlearn: 0.3397279\ttotal: 1.04s\tremaining: 1.2s\n",
      "466:\tlearn: 0.3396924\ttotal: 1.05s\tremaining: 1.2s\n",
      "467:\tlearn: 0.3394860\ttotal: 1.05s\tremaining: 1.19s\n",
      "468:\tlearn: 0.3393382\ttotal: 1.05s\tremaining: 1.19s\n",
      "469:\tlearn: 0.3392699\ttotal: 1.06s\tremaining: 1.19s\n",
      "470:\tlearn: 0.3391809\ttotal: 1.06s\tremaining: 1.19s\n",
      "471:\tlearn: 0.3390759\ttotal: 1.06s\tremaining: 1.19s\n",
      "472:\tlearn: 0.3389726\ttotal: 1.07s\tremaining: 1.19s\n",
      "473:\tlearn: 0.3388951\ttotal: 1.07s\tremaining: 1.19s\n",
      "474:\tlearn: 0.3387504\ttotal: 1.07s\tremaining: 1.18s\n",
      "475:\tlearn: 0.3385927\ttotal: 1.07s\tremaining: 1.18s\n",
      "476:\tlearn: 0.3385270\ttotal: 1.08s\tremaining: 1.18s\n",
      "477:\tlearn: 0.3382896\ttotal: 1.08s\tremaining: 1.18s\n",
      "478:\tlearn: 0.3382417\ttotal: 1.08s\tremaining: 1.18s\n",
      "479:\tlearn: 0.3382353\ttotal: 1.09s\tremaining: 1.18s\n",
      "480:\tlearn: 0.3381108\ttotal: 1.09s\tremaining: 1.18s\n",
      "481:\tlearn: 0.3378140\ttotal: 1.09s\tremaining: 1.17s\n",
      "482:\tlearn: 0.3376800\ttotal: 1.09s\tremaining: 1.17s\n",
      "483:\tlearn: 0.3374125\ttotal: 1.1s\tremaining: 1.17s\n",
      "484:\tlearn: 0.3373529\ttotal: 1.1s\tremaining: 1.17s\n",
      "485:\tlearn: 0.3372092\ttotal: 1.1s\tremaining: 1.17s\n",
      "486:\tlearn: 0.3371107\ttotal: 1.11s\tremaining: 1.17s\n",
      "487:\tlearn: 0.3369426\ttotal: 1.11s\tremaining: 1.17s\n",
      "488:\tlearn: 0.3368540\ttotal: 1.11s\tremaining: 1.16s\n",
      "489:\tlearn: 0.3368072\ttotal: 1.12s\tremaining: 1.16s\n",
      "490:\tlearn: 0.3367968\ttotal: 1.12s\tremaining: 1.16s\n",
      "491:\tlearn: 0.3366725\ttotal: 1.12s\tremaining: 1.16s\n",
      "492:\tlearn: 0.3364637\ttotal: 1.12s\tremaining: 1.16s\n",
      "493:\tlearn: 0.3364231\ttotal: 1.13s\tremaining: 1.15s\n",
      "494:\tlearn: 0.3363732\ttotal: 1.13s\tremaining: 1.15s\n",
      "495:\tlearn: 0.3362502\ttotal: 1.13s\tremaining: 1.15s\n",
      "496:\tlearn: 0.3360377\ttotal: 1.13s\tremaining: 1.15s\n",
      "497:\tlearn: 0.3359961\ttotal: 1.14s\tremaining: 1.15s\n",
      "498:\tlearn: 0.3359173\ttotal: 1.14s\tremaining: 1.14s\n",
      "499:\tlearn: 0.3357222\ttotal: 1.14s\tremaining: 1.14s\n",
      "500:\tlearn: 0.3355288\ttotal: 1.14s\tremaining: 1.14s\n",
      "501:\tlearn: 0.3353914\ttotal: 1.15s\tremaining: 1.14s\n",
      "502:\tlearn: 0.3352706\ttotal: 1.15s\tremaining: 1.14s\n",
      "503:\tlearn: 0.3351759\ttotal: 1.15s\tremaining: 1.14s\n",
      "504:\tlearn: 0.3350265\ttotal: 1.16s\tremaining: 1.13s\n",
      "505:\tlearn: 0.3349827\ttotal: 1.16s\tremaining: 1.13s\n",
      "506:\tlearn: 0.3349003\ttotal: 1.16s\tremaining: 1.13s\n",
      "507:\tlearn: 0.3347160\ttotal: 1.16s\tremaining: 1.13s\n",
      "508:\tlearn: 0.3345040\ttotal: 1.17s\tremaining: 1.13s\n",
      "509:\tlearn: 0.3344253\ttotal: 1.17s\tremaining: 1.12s\n",
      "510:\tlearn: 0.3343546\ttotal: 1.17s\tremaining: 1.12s\n",
      "511:\tlearn: 0.3343162\ttotal: 1.17s\tremaining: 1.12s\n",
      "512:\tlearn: 0.3341723\ttotal: 1.17s\tremaining: 1.11s\n",
      "513:\tlearn: 0.3340822\ttotal: 1.18s\tremaining: 1.11s\n",
      "514:\tlearn: 0.3339585\ttotal: 1.18s\tremaining: 1.11s\n",
      "515:\tlearn: 0.3339053\ttotal: 1.18s\tremaining: 1.11s\n",
      "516:\tlearn: 0.3338312\ttotal: 1.18s\tremaining: 1.1s\n",
      "517:\tlearn: 0.3336916\ttotal: 1.19s\tremaining: 1.1s\n",
      "518:\tlearn: 0.3334272\ttotal: 1.19s\tremaining: 1.1s\n",
      "519:\tlearn: 0.3333815\ttotal: 1.19s\tremaining: 1.1s\n",
      "520:\tlearn: 0.3331940\ttotal: 1.19s\tremaining: 1.1s\n",
      "521:\tlearn: 0.3330206\ttotal: 1.2s\tremaining: 1.1s\n",
      "522:\tlearn: 0.3328301\ttotal: 1.2s\tremaining: 1.09s\n",
      "523:\tlearn: 0.3327498\ttotal: 1.2s\tremaining: 1.09s\n",
      "524:\tlearn: 0.3326622\ttotal: 1.21s\tremaining: 1.09s\n",
      "525:\tlearn: 0.3324518\ttotal: 1.21s\tremaining: 1.09s\n",
      "526:\tlearn: 0.3322580\ttotal: 1.21s\tremaining: 1.09s\n",
      "527:\tlearn: 0.3320465\ttotal: 1.21s\tremaining: 1.08s\n",
      "528:\tlearn: 0.3319532\ttotal: 1.22s\tremaining: 1.08s\n",
      "529:\tlearn: 0.3318120\ttotal: 1.22s\tremaining: 1.08s\n",
      "530:\tlearn: 0.3314248\ttotal: 1.22s\tremaining: 1.08s\n",
      "531:\tlearn: 0.3313565\ttotal: 1.22s\tremaining: 1.07s\n",
      "532:\tlearn: 0.3312424\ttotal: 1.22s\tremaining: 1.07s\n",
      "533:\tlearn: 0.3311823\ttotal: 1.23s\tremaining: 1.07s\n",
      "534:\tlearn: 0.3310781\ttotal: 1.23s\tremaining: 1.07s\n",
      "535:\tlearn: 0.3308973\ttotal: 1.23s\tremaining: 1.07s\n",
      "536:\tlearn: 0.3308233\ttotal: 1.23s\tremaining: 1.06s\n",
      "537:\tlearn: 0.3306722\ttotal: 1.24s\tremaining: 1.06s\n",
      "538:\tlearn: 0.3304644\ttotal: 1.24s\tremaining: 1.06s\n",
      "539:\tlearn: 0.3302899\ttotal: 1.24s\tremaining: 1.06s\n",
      "540:\tlearn: 0.3302743\ttotal: 1.24s\tremaining: 1.05s\n",
      "541:\tlearn: 0.3301438\ttotal: 1.25s\tremaining: 1.05s\n",
      "542:\tlearn: 0.3301066\ttotal: 1.25s\tremaining: 1.05s\n",
      "543:\tlearn: 0.3300429\ttotal: 1.25s\tremaining: 1.05s\n",
      "544:\tlearn: 0.3299996\ttotal: 1.25s\tremaining: 1.05s\n",
      "545:\tlearn: 0.3299388\ttotal: 1.25s\tremaining: 1.04s\n",
      "546:\tlearn: 0.3298769\ttotal: 1.26s\tremaining: 1.04s\n",
      "547:\tlearn: 0.3298007\ttotal: 1.26s\tremaining: 1.04s\n",
      "548:\tlearn: 0.3296886\ttotal: 1.26s\tremaining: 1.04s\n",
      "549:\tlearn: 0.3295250\ttotal: 1.26s\tremaining: 1.03s\n",
      "550:\tlearn: 0.3294846\ttotal: 1.27s\tremaining: 1.03s\n",
      "551:\tlearn: 0.3294553\ttotal: 1.27s\tremaining: 1.03s\n",
      "552:\tlearn: 0.3293308\ttotal: 1.27s\tremaining: 1.03s\n",
      "553:\tlearn: 0.3292424\ttotal: 1.27s\tremaining: 1.03s\n",
      "554:\tlearn: 0.3290968\ttotal: 1.28s\tremaining: 1.02s\n",
      "555:\tlearn: 0.3290558\ttotal: 1.28s\tremaining: 1.02s\n",
      "556:\tlearn: 0.3289894\ttotal: 1.28s\tremaining: 1.02s\n",
      "557:\tlearn: 0.3287767\ttotal: 1.28s\tremaining: 1.02s\n",
      "558:\tlearn: 0.3287258\ttotal: 1.29s\tremaining: 1.01s\n",
      "559:\tlearn: 0.3286444\ttotal: 1.29s\tremaining: 1.01s\n",
      "560:\tlearn: 0.3285659\ttotal: 1.29s\tremaining: 1.01s\n",
      "561:\tlearn: 0.3284430\ttotal: 1.29s\tremaining: 1.01s\n",
      "562:\tlearn: 0.3283455\ttotal: 1.29s\tremaining: 1s\n",
      "563:\tlearn: 0.3281882\ttotal: 1.3s\tremaining: 1s\n",
      "564:\tlearn: 0.3280056\ttotal: 1.3s\tremaining: 1s\n",
      "565:\tlearn: 0.3279143\ttotal: 1.3s\tremaining: 999ms\n",
      "566:\tlearn: 0.3278809\ttotal: 1.3s\tremaining: 996ms\n",
      "567:\tlearn: 0.3278287\ttotal: 1.31s\tremaining: 994ms\n",
      "568:\tlearn: 0.3277580\ttotal: 1.31s\tremaining: 992ms\n",
      "569:\tlearn: 0.3275931\ttotal: 1.31s\tremaining: 989ms\n",
      "570:\tlearn: 0.3274751\ttotal: 1.31s\tremaining: 987ms\n",
      "571:\tlearn: 0.3272899\ttotal: 1.32s\tremaining: 985ms\n",
      "572:\tlearn: 0.3272056\ttotal: 1.32s\tremaining: 983ms\n",
      "573:\tlearn: 0.3271525\ttotal: 1.32s\tremaining: 980ms\n",
      "574:\tlearn: 0.3270453\ttotal: 1.32s\tremaining: 978ms\n",
      "575:\tlearn: 0.3269370\ttotal: 1.32s\tremaining: 976ms\n",
      "576:\tlearn: 0.3267696\ttotal: 1.33s\tremaining: 973ms\n",
      "577:\tlearn: 0.3267156\ttotal: 1.33s\tremaining: 971ms\n",
      "578:\tlearn: 0.3266877\ttotal: 1.33s\tremaining: 969ms\n",
      "579:\tlearn: 0.3264567\ttotal: 1.33s\tremaining: 966ms\n",
      "580:\tlearn: 0.3264041\ttotal: 1.34s\tremaining: 964ms\n",
      "581:\tlearn: 0.3262940\ttotal: 1.34s\tremaining: 963ms\n",
      "582:\tlearn: 0.3262205\ttotal: 1.34s\tremaining: 960ms\n",
      "583:\tlearn: 0.3261365\ttotal: 1.34s\tremaining: 958ms\n",
      "584:\tlearn: 0.3260796\ttotal: 1.35s\tremaining: 956ms\n",
      "585:\tlearn: 0.3260572\ttotal: 1.35s\tremaining: 954ms\n",
      "586:\tlearn: 0.3259396\ttotal: 1.35s\tremaining: 952ms\n",
      "587:\tlearn: 0.3259194\ttotal: 1.35s\tremaining: 950ms\n",
      "588:\tlearn: 0.3258745\ttotal: 1.36s\tremaining: 947ms\n",
      "589:\tlearn: 0.3257863\ttotal: 1.36s\tremaining: 945ms\n",
      "590:\tlearn: 0.3255068\ttotal: 1.36s\tremaining: 942ms\n",
      "591:\tlearn: 0.3254728\ttotal: 1.36s\tremaining: 940ms\n",
      "592:\tlearn: 0.3252474\ttotal: 1.37s\tremaining: 938ms\n",
      "593:\tlearn: 0.3250872\ttotal: 1.37s\tremaining: 936ms\n",
      "594:\tlearn: 0.3250249\ttotal: 1.37s\tremaining: 933ms\n",
      "595:\tlearn: 0.3248165\ttotal: 1.37s\tremaining: 931ms\n",
      "596:\tlearn: 0.3246932\ttotal: 1.38s\tremaining: 928ms\n",
      "597:\tlearn: 0.3245903\ttotal: 1.38s\tremaining: 926ms\n",
      "598:\tlearn: 0.3244230\ttotal: 1.38s\tremaining: 923ms\n",
      "599:\tlearn: 0.3242951\ttotal: 1.38s\tremaining: 921ms\n",
      "600:\tlearn: 0.3241755\ttotal: 1.38s\tremaining: 918ms\n",
      "601:\tlearn: 0.3240962\ttotal: 1.39s\tremaining: 916ms\n",
      "602:\tlearn: 0.3239382\ttotal: 1.39s\tremaining: 914ms\n",
      "603:\tlearn: 0.3238373\ttotal: 1.39s\tremaining: 911ms\n",
      "604:\tlearn: 0.3238268\ttotal: 1.39s\tremaining: 908ms\n",
      "605:\tlearn: 0.3237764\ttotal: 1.39s\tremaining: 906ms\n",
      "606:\tlearn: 0.3236863\ttotal: 1.39s\tremaining: 903ms\n",
      "607:\tlearn: 0.3236636\ttotal: 1.4s\tremaining: 901ms\n",
      "608:\tlearn: 0.3235819\ttotal: 1.4s\tremaining: 898ms\n",
      "609:\tlearn: 0.3234930\ttotal: 1.4s\tremaining: 896ms\n",
      "610:\tlearn: 0.3233338\ttotal: 1.4s\tremaining: 894ms\n",
      "611:\tlearn: 0.3232365\ttotal: 1.41s\tremaining: 891ms\n",
      "612:\tlearn: 0.3231035\ttotal: 1.41s\tremaining: 889ms\n",
      "613:\tlearn: 0.3230837\ttotal: 1.41s\tremaining: 887ms\n",
      "614:\tlearn: 0.3230086\ttotal: 1.41s\tremaining: 884ms\n",
      "615:\tlearn: 0.3229390\ttotal: 1.41s\tremaining: 882ms\n",
      "616:\tlearn: 0.3227495\ttotal: 1.42s\tremaining: 879ms\n",
      "617:\tlearn: 0.3226623\ttotal: 1.42s\tremaining: 877ms\n",
      "618:\tlearn: 0.3224698\ttotal: 1.42s\tremaining: 874ms\n",
      "619:\tlearn: 0.3223790\ttotal: 1.42s\tremaining: 872ms\n",
      "620:\tlearn: 0.3220781\ttotal: 1.42s\tremaining: 869ms\n",
      "621:\tlearn: 0.3218378\ttotal: 1.43s\tremaining: 867ms\n",
      "622:\tlearn: 0.3217205\ttotal: 1.43s\tremaining: 864ms\n",
      "623:\tlearn: 0.3216583\ttotal: 1.43s\tremaining: 862ms\n",
      "624:\tlearn: 0.3216012\ttotal: 1.43s\tremaining: 859ms\n",
      "625:\tlearn: 0.3215501\ttotal: 1.43s\tremaining: 856ms\n",
      "626:\tlearn: 0.3215267\ttotal: 1.43s\tremaining: 853ms\n",
      "627:\tlearn: 0.3213887\ttotal: 1.44s\tremaining: 851ms\n",
      "628:\tlearn: 0.3212525\ttotal: 1.44s\tremaining: 848ms\n",
      "629:\tlearn: 0.3211062\ttotal: 1.44s\tremaining: 846ms\n",
      "630:\tlearn: 0.3208960\ttotal: 1.44s\tremaining: 844ms\n",
      "631:\tlearn: 0.3208697\ttotal: 1.44s\tremaining: 841ms\n",
      "632:\tlearn: 0.3207024\ttotal: 1.45s\tremaining: 839ms\n",
      "633:\tlearn: 0.3205030\ttotal: 1.45s\tremaining: 836ms\n",
      "634:\tlearn: 0.3204927\ttotal: 1.45s\tremaining: 833ms\n",
      "635:\tlearn: 0.3203546\ttotal: 1.45s\tremaining: 830ms\n",
      "636:\tlearn: 0.3201938\ttotal: 1.45s\tremaining: 828ms\n",
      "637:\tlearn: 0.3200655\ttotal: 1.45s\tremaining: 825ms\n",
      "638:\tlearn: 0.3198597\ttotal: 1.46s\tremaining: 823ms\n",
      "639:\tlearn: 0.3198579\ttotal: 1.46s\tremaining: 820ms\n",
      "640:\tlearn: 0.3197174\ttotal: 1.46s\tremaining: 817ms\n",
      "641:\tlearn: 0.3196105\ttotal: 1.46s\tremaining: 814ms\n",
      "642:\tlearn: 0.3195471\ttotal: 1.46s\tremaining: 812ms\n",
      "643:\tlearn: 0.3194066\ttotal: 1.46s\tremaining: 809ms\n",
      "644:\tlearn: 0.3193162\ttotal: 1.47s\tremaining: 807ms\n",
      "645:\tlearn: 0.3191683\ttotal: 1.47s\tremaining: 804ms\n",
      "646:\tlearn: 0.3190808\ttotal: 1.47s\tremaining: 802ms\n",
      "647:\tlearn: 0.3189791\ttotal: 1.47s\tremaining: 799ms\n",
      "648:\tlearn: 0.3188548\ttotal: 1.47s\tremaining: 797ms\n",
      "649:\tlearn: 0.3188220\ttotal: 1.47s\tremaining: 794ms\n",
      "650:\tlearn: 0.3187514\ttotal: 1.48s\tremaining: 791ms\n",
      "651:\tlearn: 0.3186889\ttotal: 1.48s\tremaining: 789ms\n",
      "652:\tlearn: 0.3186532\ttotal: 1.48s\tremaining: 786ms\n",
      "653:\tlearn: 0.3184945\ttotal: 1.48s\tremaining: 783ms\n",
      "654:\tlearn: 0.3182715\ttotal: 1.48s\tremaining: 781ms\n",
      "655:\tlearn: 0.3181900\ttotal: 1.48s\tremaining: 778ms\n",
      "656:\tlearn: 0.3180753\ttotal: 1.49s\tremaining: 775ms\n",
      "657:\tlearn: 0.3180022\ttotal: 1.49s\tremaining: 773ms\n",
      "658:\tlearn: 0.3179550\ttotal: 1.49s\tremaining: 770ms\n",
      "659:\tlearn: 0.3179489\ttotal: 1.49s\tremaining: 768ms\n",
      "660:\tlearn: 0.3179420\ttotal: 1.49s\tremaining: 765ms\n",
      "661:\tlearn: 0.3177957\ttotal: 1.49s\tremaining: 762ms\n",
      "662:\tlearn: 0.3176520\ttotal: 1.49s\tremaining: 760ms\n",
      "663:\tlearn: 0.3176144\ttotal: 1.5s\tremaining: 757ms\n",
      "664:\tlearn: 0.3174533\ttotal: 1.5s\tremaining: 755ms\n",
      "665:\tlearn: 0.3173594\ttotal: 1.5s\tremaining: 752ms\n",
      "666:\tlearn: 0.3172066\ttotal: 1.5s\tremaining: 750ms\n",
      "667:\tlearn: 0.3170885\ttotal: 1.5s\tremaining: 747ms\n",
      "668:\tlearn: 0.3169944\ttotal: 1.51s\tremaining: 745ms\n",
      "669:\tlearn: 0.3168393\ttotal: 1.51s\tremaining: 743ms\n",
      "670:\tlearn: 0.3166896\ttotal: 1.51s\tremaining: 740ms\n",
      "671:\tlearn: 0.3166033\ttotal: 1.51s\tremaining: 738ms\n",
      "672:\tlearn: 0.3163291\ttotal: 1.51s\tremaining: 736ms\n",
      "673:\tlearn: 0.3162201\ttotal: 1.52s\tremaining: 734ms\n",
      "674:\tlearn: 0.3162124\ttotal: 1.52s\tremaining: 731ms\n",
      "675:\tlearn: 0.3161433\ttotal: 1.52s\tremaining: 729ms\n",
      "676:\tlearn: 0.3161350\ttotal: 1.52s\tremaining: 726ms\n",
      "677:\tlearn: 0.3160404\ttotal: 1.52s\tremaining: 724ms\n",
      "678:\tlearn: 0.3160046\ttotal: 1.52s\tremaining: 721ms\n",
      "679:\tlearn: 0.3157905\ttotal: 1.53s\tremaining: 719ms\n",
      "680:\tlearn: 0.3157718\ttotal: 1.53s\tremaining: 717ms\n",
      "681:\tlearn: 0.3156762\ttotal: 1.53s\tremaining: 714ms\n",
      "682:\tlearn: 0.3155120\ttotal: 1.53s\tremaining: 712ms\n",
      "683:\tlearn: 0.3153943\ttotal: 1.53s\tremaining: 710ms\n",
      "684:\tlearn: 0.3153543\ttotal: 1.54s\tremaining: 707ms\n",
      "685:\tlearn: 0.3152543\ttotal: 1.54s\tremaining: 705ms\n",
      "686:\tlearn: 0.3150390\ttotal: 1.54s\tremaining: 702ms\n",
      "687:\tlearn: 0.3148930\ttotal: 1.54s\tremaining: 700ms\n",
      "688:\tlearn: 0.3148792\ttotal: 1.54s\tremaining: 697ms\n",
      "689:\tlearn: 0.3148151\ttotal: 1.54s\tremaining: 694ms\n",
      "690:\tlearn: 0.3147858\ttotal: 1.55s\tremaining: 692ms\n",
      "691:\tlearn: 0.3147054\ttotal: 1.55s\tremaining: 689ms\n",
      "692:\tlearn: 0.3146778\ttotal: 1.55s\tremaining: 687ms\n",
      "693:\tlearn: 0.3145233\ttotal: 1.55s\tremaining: 684ms\n",
      "694:\tlearn: 0.3143771\ttotal: 1.55s\tremaining: 682ms\n",
      "695:\tlearn: 0.3141559\ttotal: 1.55s\tremaining: 679ms\n",
      "696:\tlearn: 0.3140893\ttotal: 1.56s\tremaining: 677ms\n",
      "697:\tlearn: 0.3138802\ttotal: 1.56s\tremaining: 674ms\n",
      "698:\tlearn: 0.3138428\ttotal: 1.56s\tremaining: 672ms\n",
      "699:\tlearn: 0.3136273\ttotal: 1.56s\tremaining: 669ms\n",
      "700:\tlearn: 0.3135818\ttotal: 1.56s\tremaining: 667ms\n",
      "701:\tlearn: 0.3135044\ttotal: 1.56s\tremaining: 664ms\n",
      "702:\tlearn: 0.3132891\ttotal: 1.57s\tremaining: 662ms\n",
      "703:\tlearn: 0.3131066\ttotal: 1.57s\tremaining: 660ms\n",
      "704:\tlearn: 0.3129198\ttotal: 1.57s\tremaining: 657ms\n",
      "705:\tlearn: 0.3126859\ttotal: 1.57s\tremaining: 654ms\n",
      "706:\tlearn: 0.3126643\ttotal: 1.57s\tremaining: 652ms\n",
      "707:\tlearn: 0.3126204\ttotal: 1.57s\tremaining: 649ms\n",
      "708:\tlearn: 0.3125512\ttotal: 1.58s\tremaining: 647ms\n",
      "709:\tlearn: 0.3124324\ttotal: 1.58s\tremaining: 645ms\n",
      "710:\tlearn: 0.3123592\ttotal: 1.58s\tremaining: 642ms\n",
      "711:\tlearn: 0.3123103\ttotal: 1.58s\tremaining: 640ms\n",
      "712:\tlearn: 0.3122390\ttotal: 1.58s\tremaining: 637ms\n",
      "713:\tlearn: 0.3122207\ttotal: 1.58s\tremaining: 634ms\n",
      "714:\tlearn: 0.3120570\ttotal: 1.58s\tremaining: 632ms\n",
      "715:\tlearn: 0.3120076\ttotal: 1.59s\tremaining: 629ms\n",
      "716:\tlearn: 0.3118316\ttotal: 1.59s\tremaining: 627ms\n",
      "717:\tlearn: 0.3116068\ttotal: 1.59s\tremaining: 625ms\n",
      "718:\tlearn: 0.3115179\ttotal: 1.59s\tremaining: 622ms\n",
      "719:\tlearn: 0.3113879\ttotal: 1.59s\tremaining: 620ms\n",
      "720:\tlearn: 0.3112726\ttotal: 1.59s\tremaining: 617ms\n",
      "721:\tlearn: 0.3111984\ttotal: 1.6s\tremaining: 615ms\n",
      "722:\tlearn: 0.3111071\ttotal: 1.6s\tremaining: 613ms\n",
      "723:\tlearn: 0.3109109\ttotal: 1.6s\tremaining: 610ms\n",
      "724:\tlearn: 0.3107923\ttotal: 1.6s\tremaining: 608ms\n",
      "725:\tlearn: 0.3105819\ttotal: 1.6s\tremaining: 606ms\n",
      "726:\tlearn: 0.3103304\ttotal: 1.61s\tremaining: 603ms\n",
      "727:\tlearn: 0.3102616\ttotal: 1.61s\tremaining: 601ms\n",
      "728:\tlearn: 0.3101587\ttotal: 1.61s\tremaining: 598ms\n",
      "729:\tlearn: 0.3099406\ttotal: 1.61s\tremaining: 596ms\n",
      "730:\tlearn: 0.3098372\ttotal: 1.61s\tremaining: 593ms\n",
      "731:\tlearn: 0.3097574\ttotal: 1.61s\tremaining: 591ms\n",
      "732:\tlearn: 0.3095279\ttotal: 1.62s\tremaining: 589ms\n",
      "733:\tlearn: 0.3094962\ttotal: 1.62s\tremaining: 586ms\n",
      "734:\tlearn: 0.3093391\ttotal: 1.62s\tremaining: 584ms\n",
      "735:\tlearn: 0.3091487\ttotal: 1.62s\tremaining: 582ms\n",
      "736:\tlearn: 0.3089810\ttotal: 1.62s\tremaining: 580ms\n",
      "737:\tlearn: 0.3089034\ttotal: 1.63s\tremaining: 577ms\n",
      "738:\tlearn: 0.3087610\ttotal: 1.63s\tremaining: 575ms\n",
      "739:\tlearn: 0.3085218\ttotal: 1.63s\tremaining: 573ms\n",
      "740:\tlearn: 0.3084328\ttotal: 1.63s\tremaining: 570ms\n",
      "741:\tlearn: 0.3082539\ttotal: 1.63s\tremaining: 568ms\n",
      "742:\tlearn: 0.3081808\ttotal: 1.64s\tremaining: 566ms\n",
      "743:\tlearn: 0.3080102\ttotal: 1.64s\tremaining: 563ms\n",
      "744:\tlearn: 0.3079334\ttotal: 1.64s\tremaining: 561ms\n",
      "745:\tlearn: 0.3077908\ttotal: 1.64s\tremaining: 559ms\n",
      "746:\tlearn: 0.3076834\ttotal: 1.64s\tremaining: 556ms\n",
      "747:\tlearn: 0.3075523\ttotal: 1.64s\tremaining: 554ms\n",
      "748:\tlearn: 0.3073568\ttotal: 1.65s\tremaining: 552ms\n",
      "749:\tlearn: 0.3073101\ttotal: 1.65s\tremaining: 549ms\n",
      "750:\tlearn: 0.3072423\ttotal: 1.65s\tremaining: 547ms\n",
      "751:\tlearn: 0.3071342\ttotal: 1.65s\tremaining: 545ms\n",
      "752:\tlearn: 0.3069840\ttotal: 1.65s\tremaining: 543ms\n",
      "753:\tlearn: 0.3068760\ttotal: 1.66s\tremaining: 540ms\n",
      "754:\tlearn: 0.3066642\ttotal: 1.66s\tremaining: 538ms\n",
      "755:\tlearn: 0.3065025\ttotal: 1.66s\tremaining: 536ms\n",
      "756:\tlearn: 0.3064239\ttotal: 1.66s\tremaining: 534ms\n",
      "757:\tlearn: 0.3063634\ttotal: 1.66s\tremaining: 532ms\n",
      "758:\tlearn: 0.3063024\ttotal: 1.67s\tremaining: 529ms\n",
      "759:\tlearn: 0.3060978\ttotal: 1.67s\tremaining: 527ms\n",
      "760:\tlearn: 0.3059903\ttotal: 1.67s\tremaining: 525ms\n",
      "761:\tlearn: 0.3059141\ttotal: 1.67s\tremaining: 523ms\n",
      "762:\tlearn: 0.3057651\ttotal: 1.68s\tremaining: 521ms\n",
      "763:\tlearn: 0.3055898\ttotal: 1.68s\tremaining: 519ms\n",
      "764:\tlearn: 0.3053850\ttotal: 1.68s\tremaining: 517ms\n",
      "765:\tlearn: 0.3053023\ttotal: 1.68s\tremaining: 514ms\n",
      "766:\tlearn: 0.3051881\ttotal: 1.69s\tremaining: 512ms\n",
      "767:\tlearn: 0.3051471\ttotal: 1.69s\tremaining: 510ms\n",
      "768:\tlearn: 0.3050572\ttotal: 1.69s\tremaining: 508ms\n",
      "769:\tlearn: 0.3049557\ttotal: 1.69s\tremaining: 506ms\n",
      "770:\tlearn: 0.3047659\ttotal: 1.7s\tremaining: 504ms\n",
      "771:\tlearn: 0.3047122\ttotal: 1.7s\tremaining: 502ms\n",
      "772:\tlearn: 0.3045908\ttotal: 1.7s\tremaining: 500ms\n",
      "773:\tlearn: 0.3045546\ttotal: 1.7s\tremaining: 497ms\n",
      "774:\tlearn: 0.3044305\ttotal: 1.71s\tremaining: 495ms\n",
      "775:\tlearn: 0.3043571\ttotal: 1.71s\tremaining: 493ms\n",
      "776:\tlearn: 0.3043171\ttotal: 1.71s\tremaining: 491ms\n",
      "777:\tlearn: 0.3042626\ttotal: 1.71s\tremaining: 489ms\n",
      "778:\tlearn: 0.3041533\ttotal: 1.72s\tremaining: 487ms\n",
      "779:\tlearn: 0.3040930\ttotal: 1.72s\tremaining: 485ms\n",
      "780:\tlearn: 0.3040344\ttotal: 1.72s\tremaining: 483ms\n",
      "781:\tlearn: 0.3038684\ttotal: 1.72s\tremaining: 480ms\n",
      "782:\tlearn: 0.3038016\ttotal: 1.73s\tremaining: 478ms\n",
      "783:\tlearn: 0.3035728\ttotal: 1.73s\tremaining: 476ms\n",
      "784:\tlearn: 0.3034512\ttotal: 1.73s\tremaining: 474ms\n",
      "785:\tlearn: 0.3032328\ttotal: 1.73s\tremaining: 472ms\n",
      "786:\tlearn: 0.3030973\ttotal: 1.73s\tremaining: 469ms\n",
      "787:\tlearn: 0.3029574\ttotal: 1.74s\tremaining: 467ms\n",
      "788:\tlearn: 0.3028665\ttotal: 1.74s\tremaining: 465ms\n",
      "789:\tlearn: 0.3027568\ttotal: 1.74s\tremaining: 462ms\n",
      "790:\tlearn: 0.3027279\ttotal: 1.74s\tremaining: 460ms\n",
      "791:\tlearn: 0.3026027\ttotal: 1.74s\tremaining: 458ms\n",
      "792:\tlearn: 0.3025420\ttotal: 1.75s\tremaining: 456ms\n",
      "793:\tlearn: 0.3022661\ttotal: 1.75s\tremaining: 454ms\n",
      "794:\tlearn: 0.3022008\ttotal: 1.75s\tremaining: 452ms\n",
      "795:\tlearn: 0.3021446\ttotal: 1.75s\tremaining: 449ms\n",
      "796:\tlearn: 0.3020882\ttotal: 1.75s\tremaining: 447ms\n",
      "797:\tlearn: 0.3019790\ttotal: 1.76s\tremaining: 445ms\n",
      "798:\tlearn: 0.3019471\ttotal: 1.76s\tremaining: 443ms\n",
      "799:\tlearn: 0.3017403\ttotal: 1.76s\tremaining: 441ms\n",
      "800:\tlearn: 0.3015923\ttotal: 1.76s\tremaining: 438ms\n",
      "801:\tlearn: 0.3014209\ttotal: 1.77s\tremaining: 436ms\n",
      "802:\tlearn: 0.3012475\ttotal: 1.77s\tremaining: 434ms\n",
      "803:\tlearn: 0.3012040\ttotal: 1.77s\tremaining: 432ms\n",
      "804:\tlearn: 0.3011709\ttotal: 1.77s\tremaining: 429ms\n",
      "805:\tlearn: 0.3011283\ttotal: 1.77s\tremaining: 427ms\n",
      "806:\tlearn: 0.3008918\ttotal: 1.77s\tremaining: 425ms\n",
      "807:\tlearn: 0.3008510\ttotal: 1.78s\tremaining: 422ms\n",
      "808:\tlearn: 0.3007041\ttotal: 1.78s\tremaining: 420ms\n",
      "809:\tlearn: 0.3005162\ttotal: 1.78s\tremaining: 418ms\n",
      "810:\tlearn: 0.3004895\ttotal: 1.78s\tremaining: 416ms\n",
      "811:\tlearn: 0.3003036\ttotal: 1.78s\tremaining: 413ms\n",
      "812:\tlearn: 0.3001455\ttotal: 1.79s\tremaining: 411ms\n",
      "813:\tlearn: 0.3000652\ttotal: 1.79s\tremaining: 409ms\n",
      "814:\tlearn: 0.2999382\ttotal: 1.79s\tremaining: 407ms\n",
      "815:\tlearn: 0.2999096\ttotal: 1.79s\tremaining: 404ms\n",
      "816:\tlearn: 0.2997359\ttotal: 1.79s\tremaining: 402ms\n",
      "817:\tlearn: 0.2995335\ttotal: 1.8s\tremaining: 400ms\n",
      "818:\tlearn: 0.2994496\ttotal: 1.8s\tremaining: 398ms\n",
      "819:\tlearn: 0.2992875\ttotal: 1.8s\tremaining: 396ms\n",
      "820:\tlearn: 0.2991250\ttotal: 1.8s\tremaining: 394ms\n",
      "821:\tlearn: 0.2990507\ttotal: 1.81s\tremaining: 391ms\n",
      "822:\tlearn: 0.2990014\ttotal: 1.81s\tremaining: 389ms\n",
      "823:\tlearn: 0.2989397\ttotal: 1.81s\tremaining: 387ms\n",
      "824:\tlearn: 0.2988361\ttotal: 1.81s\tremaining: 385ms\n",
      "825:\tlearn: 0.2987496\ttotal: 1.81s\tremaining: 383ms\n",
      "826:\tlearn: 0.2987228\ttotal: 1.82s\tremaining: 380ms\n",
      "827:\tlearn: 0.2985247\ttotal: 1.82s\tremaining: 378ms\n",
      "828:\tlearn: 0.2983897\ttotal: 1.82s\tremaining: 376ms\n",
      "829:\tlearn: 0.2982899\ttotal: 1.82s\tremaining: 373ms\n",
      "830:\tlearn: 0.2982492\ttotal: 1.82s\tremaining: 371ms\n",
      "831:\tlearn: 0.2981569\ttotal: 1.82s\tremaining: 369ms\n",
      "832:\tlearn: 0.2979929\ttotal: 1.83s\tremaining: 366ms\n",
      "833:\tlearn: 0.2978438\ttotal: 1.83s\tremaining: 364ms\n",
      "834:\tlearn: 0.2975895\ttotal: 1.83s\tremaining: 362ms\n",
      "835:\tlearn: 0.2974738\ttotal: 1.83s\tremaining: 360ms\n",
      "836:\tlearn: 0.2974422\ttotal: 1.84s\tremaining: 358ms\n",
      "837:\tlearn: 0.2973276\ttotal: 1.84s\tremaining: 356ms\n",
      "838:\tlearn: 0.2971001\ttotal: 1.84s\tremaining: 353ms\n",
      "839:\tlearn: 0.2970720\ttotal: 1.84s\tremaining: 351ms\n",
      "840:\tlearn: 0.2969862\ttotal: 1.84s\tremaining: 349ms\n",
      "841:\tlearn: 0.2967731\ttotal: 1.85s\tremaining: 347ms\n",
      "842:\tlearn: 0.2966979\ttotal: 1.85s\tremaining: 345ms\n",
      "843:\tlearn: 0.2965339\ttotal: 1.85s\tremaining: 342ms\n",
      "844:\tlearn: 0.2963441\ttotal: 1.85s\tremaining: 340ms\n",
      "845:\tlearn: 0.2963378\ttotal: 1.86s\tremaining: 338ms\n",
      "846:\tlearn: 0.2963167\ttotal: 1.86s\tremaining: 336ms\n",
      "847:\tlearn: 0.2962890\ttotal: 1.86s\tremaining: 334ms\n",
      "848:\tlearn: 0.2961785\ttotal: 1.86s\tremaining: 331ms\n",
      "849:\tlearn: 0.2961048\ttotal: 1.87s\tremaining: 329ms\n",
      "850:\tlearn: 0.2960388\ttotal: 1.87s\tremaining: 327ms\n",
      "851:\tlearn: 0.2959615\ttotal: 1.87s\tremaining: 325ms\n",
      "852:\tlearn: 0.2959557\ttotal: 1.87s\tremaining: 323ms\n",
      "853:\tlearn: 0.2959113\ttotal: 1.87s\tremaining: 320ms\n",
      "854:\tlearn: 0.2958632\ttotal: 1.88s\tremaining: 318ms\n",
      "855:\tlearn: 0.2957435\ttotal: 1.88s\tremaining: 316ms\n",
      "856:\tlearn: 0.2956279\ttotal: 1.88s\tremaining: 314ms\n",
      "857:\tlearn: 0.2955997\ttotal: 1.88s\tremaining: 312ms\n",
      "858:\tlearn: 0.2955443\ttotal: 1.89s\tremaining: 310ms\n",
      "859:\tlearn: 0.2954833\ttotal: 1.89s\tremaining: 307ms\n",
      "860:\tlearn: 0.2954341\ttotal: 1.89s\tremaining: 305ms\n",
      "861:\tlearn: 0.2953708\ttotal: 1.89s\tremaining: 303ms\n",
      "862:\tlearn: 0.2953587\ttotal: 1.9s\tremaining: 301ms\n",
      "863:\tlearn: 0.2951973\ttotal: 1.9s\tremaining: 299ms\n",
      "864:\tlearn: 0.2951704\ttotal: 1.9s\tremaining: 297ms\n",
      "865:\tlearn: 0.2951451\ttotal: 1.9s\tremaining: 294ms\n",
      "866:\tlearn: 0.2949193\ttotal: 1.9s\tremaining: 292ms\n",
      "867:\tlearn: 0.2947900\ttotal: 1.91s\tremaining: 290ms\n",
      "868:\tlearn: 0.2946018\ttotal: 1.91s\tremaining: 288ms\n",
      "869:\tlearn: 0.2945987\ttotal: 1.91s\tremaining: 285ms\n",
      "870:\tlearn: 0.2944621\ttotal: 1.91s\tremaining: 283ms\n",
      "871:\tlearn: 0.2944174\ttotal: 1.92s\tremaining: 281ms\n",
      "872:\tlearn: 0.2941612\ttotal: 1.92s\tremaining: 279ms\n",
      "873:\tlearn: 0.2940627\ttotal: 1.92s\tremaining: 277ms\n",
      "874:\tlearn: 0.2939132\ttotal: 1.92s\tremaining: 274ms\n",
      "875:\tlearn: 0.2937441\ttotal: 1.92s\tremaining: 272ms\n",
      "876:\tlearn: 0.2936716\ttotal: 1.92s\tremaining: 270ms\n",
      "877:\tlearn: 0.2934569\ttotal: 1.93s\tremaining: 268ms\n",
      "878:\tlearn: 0.2933496\ttotal: 1.93s\tremaining: 265ms\n",
      "879:\tlearn: 0.2933221\ttotal: 1.93s\tremaining: 263ms\n",
      "880:\tlearn: 0.2931109\ttotal: 1.93s\tremaining: 261ms\n",
      "881:\tlearn: 0.2930374\ttotal: 1.93s\tremaining: 259ms\n",
      "882:\tlearn: 0.2929497\ttotal: 1.94s\tremaining: 257ms\n",
      "883:\tlearn: 0.2928669\ttotal: 1.94s\tremaining: 254ms\n",
      "884:\tlearn: 0.2927356\ttotal: 1.94s\tremaining: 252ms\n",
      "885:\tlearn: 0.2926132\ttotal: 1.94s\tremaining: 250ms\n",
      "886:\tlearn: 0.2925628\ttotal: 1.94s\tremaining: 248ms\n",
      "887:\tlearn: 0.2923436\ttotal: 1.95s\tremaining: 245ms\n",
      "888:\tlearn: 0.2922741\ttotal: 1.95s\tremaining: 243ms\n",
      "889:\tlearn: 0.2922229\ttotal: 1.95s\tremaining: 241ms\n",
      "890:\tlearn: 0.2921466\ttotal: 1.95s\tremaining: 239ms\n",
      "891:\tlearn: 0.2920910\ttotal: 1.95s\tremaining: 236ms\n",
      "892:\tlearn: 0.2920374\ttotal: 1.95s\tremaining: 234ms\n",
      "893:\tlearn: 0.2918414\ttotal: 1.96s\tremaining: 232ms\n",
      "894:\tlearn: 0.2917288\ttotal: 1.96s\tremaining: 230ms\n",
      "895:\tlearn: 0.2916467\ttotal: 1.96s\tremaining: 227ms\n",
      "896:\tlearn: 0.2914886\ttotal: 1.96s\tremaining: 225ms\n",
      "897:\tlearn: 0.2914643\ttotal: 1.96s\tremaining: 223ms\n",
      "898:\tlearn: 0.2912714\ttotal: 1.96s\tremaining: 221ms\n",
      "899:\tlearn: 0.2910204\ttotal: 1.97s\tremaining: 218ms\n",
      "900:\tlearn: 0.2909720\ttotal: 1.97s\tremaining: 216ms\n",
      "901:\tlearn: 0.2909395\ttotal: 1.97s\tremaining: 214ms\n",
      "902:\tlearn: 0.2908903\ttotal: 1.97s\tremaining: 212ms\n",
      "903:\tlearn: 0.2906827\ttotal: 1.97s\tremaining: 209ms\n",
      "904:\tlearn: 0.2904543\ttotal: 1.97s\tremaining: 207ms\n",
      "905:\tlearn: 0.2902039\ttotal: 1.97s\tremaining: 205ms\n",
      "906:\tlearn: 0.2900923\ttotal: 1.98s\tremaining: 203ms\n",
      "907:\tlearn: 0.2897908\ttotal: 1.98s\tremaining: 200ms\n",
      "908:\tlearn: 0.2896254\ttotal: 1.98s\tremaining: 198ms\n",
      "909:\tlearn: 0.2896180\ttotal: 1.98s\tremaining: 196ms\n",
      "910:\tlearn: 0.2895389\ttotal: 1.98s\tremaining: 194ms\n",
      "911:\tlearn: 0.2894935\ttotal: 1.98s\tremaining: 191ms\n",
      "912:\tlearn: 0.2893036\ttotal: 1.98s\tremaining: 189ms\n",
      "913:\tlearn: 0.2892102\ttotal: 1.99s\tremaining: 187ms\n",
      "914:\tlearn: 0.2890264\ttotal: 1.99s\tremaining: 185ms\n",
      "915:\tlearn: 0.2889805\ttotal: 1.99s\tremaining: 182ms\n",
      "916:\tlearn: 0.2889620\ttotal: 1.99s\tremaining: 180ms\n",
      "917:\tlearn: 0.2888742\ttotal: 1.99s\tremaining: 178ms\n",
      "918:\tlearn: 0.2887791\ttotal: 1.99s\tremaining: 176ms\n",
      "919:\tlearn: 0.2886793\ttotal: 2s\tremaining: 174ms\n",
      "920:\tlearn: 0.2885923\ttotal: 2s\tremaining: 171ms\n",
      "921:\tlearn: 0.2885279\ttotal: 2s\tremaining: 169ms\n",
      "922:\tlearn: 0.2883585\ttotal: 2s\tremaining: 167ms\n",
      "923:\tlearn: 0.2883085\ttotal: 2s\tremaining: 165ms\n",
      "924:\tlearn: 0.2882161\ttotal: 2s\tremaining: 162ms\n",
      "925:\tlearn: 0.2881597\ttotal: 2s\tremaining: 160ms\n",
      "926:\tlearn: 0.2881039\ttotal: 2.01s\tremaining: 158ms\n",
      "927:\tlearn: 0.2880360\ttotal: 2.01s\tremaining: 156ms\n",
      "928:\tlearn: 0.2880323\ttotal: 2.01s\tremaining: 154ms\n",
      "929:\tlearn: 0.2878509\ttotal: 2.01s\tremaining: 151ms\n",
      "930:\tlearn: 0.2878120\ttotal: 2.01s\tremaining: 149ms\n",
      "931:\tlearn: 0.2877396\ttotal: 2.01s\tremaining: 147ms\n",
      "932:\tlearn: 0.2876973\ttotal: 2.02s\tremaining: 145ms\n",
      "933:\tlearn: 0.2875301\ttotal: 2.02s\tremaining: 143ms\n",
      "934:\tlearn: 0.2873014\ttotal: 2.02s\tremaining: 140ms\n",
      "935:\tlearn: 0.2871165\ttotal: 2.02s\tremaining: 138ms\n",
      "936:\tlearn: 0.2869651\ttotal: 2.02s\tremaining: 136ms\n",
      "937:\tlearn: 0.2868100\ttotal: 2.02s\tremaining: 134ms\n",
      "938:\tlearn: 0.2867450\ttotal: 2.03s\tremaining: 132ms\n",
      "939:\tlearn: 0.2865116\ttotal: 2.03s\tremaining: 129ms\n",
      "940:\tlearn: 0.2864408\ttotal: 2.03s\tremaining: 127ms\n",
      "941:\tlearn: 0.2863649\ttotal: 2.03s\tremaining: 125ms\n",
      "942:\tlearn: 0.2862362\ttotal: 2.03s\tremaining: 123ms\n",
      "943:\tlearn: 0.2861512\ttotal: 2.04s\tremaining: 121ms\n",
      "944:\tlearn: 0.2858974\ttotal: 2.04s\tremaining: 119ms\n",
      "945:\tlearn: 0.2858139\ttotal: 2.04s\tremaining: 116ms\n",
      "946:\tlearn: 0.2857624\ttotal: 2.04s\tremaining: 114ms\n",
      "947:\tlearn: 0.2857223\ttotal: 2.04s\tremaining: 112ms\n",
      "948:\tlearn: 0.2856472\ttotal: 2.04s\tremaining: 110ms\n",
      "949:\tlearn: 0.2854224\ttotal: 2.04s\tremaining: 108ms\n",
      "950:\tlearn: 0.2853553\ttotal: 2.05s\tremaining: 105ms\n",
      "951:\tlearn: 0.2853284\ttotal: 2.05s\tremaining: 103ms\n",
      "952:\tlearn: 0.2852775\ttotal: 2.05s\tremaining: 101ms\n",
      "953:\tlearn: 0.2852050\ttotal: 2.05s\tremaining: 99ms\n",
      "954:\tlearn: 0.2850133\ttotal: 2.05s\tremaining: 96.8ms\n",
      "955:\tlearn: 0.2849515\ttotal: 2.06s\tremaining: 94.7ms\n",
      "956:\tlearn: 0.2847538\ttotal: 2.06s\tremaining: 92.5ms\n",
      "957:\tlearn: 0.2846453\ttotal: 2.06s\tremaining: 90.3ms\n",
      "958:\tlearn: 0.2845101\ttotal: 2.06s\tremaining: 88.2ms\n",
      "959:\tlearn: 0.2844605\ttotal: 2.06s\tremaining: 86ms\n",
      "960:\tlearn: 0.2844095\ttotal: 2.07s\tremaining: 83.9ms\n",
      "961:\tlearn: 0.2843809\ttotal: 2.07s\tremaining: 81.7ms\n",
      "962:\tlearn: 0.2842617\ttotal: 2.07s\tremaining: 79.6ms\n",
      "963:\tlearn: 0.2841125\ttotal: 2.07s\tremaining: 77.4ms\n",
      "964:\tlearn: 0.2838844\ttotal: 2.07s\tremaining: 75.2ms\n",
      "965:\tlearn: 0.2838153\ttotal: 2.08s\tremaining: 73.1ms\n",
      "966:\tlearn: 0.2837590\ttotal: 2.08s\tremaining: 70.9ms\n",
      "967:\tlearn: 0.2836878\ttotal: 2.08s\tremaining: 68.8ms\n",
      "968:\tlearn: 0.2835894\ttotal: 2.08s\tremaining: 66.6ms\n",
      "969:\tlearn: 0.2834945\ttotal: 2.08s\tremaining: 64.5ms\n",
      "970:\tlearn: 0.2833857\ttotal: 2.09s\tremaining: 62.3ms\n",
      "971:\tlearn: 0.2833287\ttotal: 2.09s\tremaining: 60.2ms\n",
      "972:\tlearn: 0.2831715\ttotal: 2.09s\tremaining: 58ms\n",
      "973:\tlearn: 0.2828873\ttotal: 2.09s\tremaining: 55.9ms\n",
      "974:\tlearn: 0.2826786\ttotal: 2.1s\tremaining: 53.7ms\n",
      "975:\tlearn: 0.2825947\ttotal: 2.1s\tremaining: 51.6ms\n",
      "976:\tlearn: 0.2825355\ttotal: 2.1s\tremaining: 49.4ms\n",
      "977:\tlearn: 0.2824453\ttotal: 2.1s\tremaining: 47.3ms\n",
      "978:\tlearn: 0.2822910\ttotal: 2.1s\tremaining: 45.1ms\n",
      "979:\tlearn: 0.2822369\ttotal: 2.1s\tremaining: 43ms\n",
      "980:\tlearn: 0.2821874\ttotal: 2.11s\tremaining: 40.8ms\n",
      "981:\tlearn: 0.2821243\ttotal: 2.11s\tremaining: 38.7ms\n",
      "982:\tlearn: 0.2820214\ttotal: 2.11s\tremaining: 36.5ms\n",
      "983:\tlearn: 0.2818915\ttotal: 2.11s\tremaining: 34.4ms\n",
      "984:\tlearn: 0.2818048\ttotal: 2.12s\tremaining: 32.2ms\n",
      "985:\tlearn: 0.2815375\ttotal: 2.12s\tremaining: 30.1ms\n",
      "986:\tlearn: 0.2815146\ttotal: 2.12s\tremaining: 27.9ms\n",
      "987:\tlearn: 0.2814076\ttotal: 2.12s\tremaining: 25.8ms\n",
      "988:\tlearn: 0.2812446\ttotal: 2.12s\tremaining: 23.6ms\n",
      "989:\tlearn: 0.2810924\ttotal: 2.13s\tremaining: 21.5ms\n",
      "990:\tlearn: 0.2810594\ttotal: 2.13s\tremaining: 19.3ms\n",
      "991:\tlearn: 0.2809606\ttotal: 2.13s\tremaining: 17.2ms\n",
      "992:\tlearn: 0.2808538\ttotal: 2.13s\tremaining: 15ms\n",
      "993:\tlearn: 0.2807054\ttotal: 2.13s\tremaining: 12.9ms\n",
      "994:\tlearn: 0.2805134\ttotal: 2.13s\tremaining: 10.7ms\n",
      "995:\tlearn: 0.2803679\ttotal: 2.14s\tremaining: 8.59ms\n",
      "996:\tlearn: 0.2803194\ttotal: 2.14s\tremaining: 6.44ms\n",
      "997:\tlearn: 0.2801675\ttotal: 2.14s\tremaining: 4.29ms\n",
      "998:\tlearn: 0.2800725\ttotal: 2.14s\tremaining: 2.15ms\n",
      "999:\tlearn: 0.2800334\ttotal: 2.15s\tremaining: 0us\n"
     ]
    },
    {
     "data": {
      "text/plain": [
       "0.7454545454545455"
      ]
     },
     "execution_count": 40,
     "metadata": {},
     "output_type": "execute_result"
    }
   ],
   "source": [
    "model = CatBoostClassifier(random_state = 26)\n",
    "model.fit(X_train, y_train)\n",
    "preds_class = model.predict(X_test)\n",
    "\n",
    "f1_score(preds_class, y_test)"
   ]
  },
  {
   "cell_type": "code",
   "execution_count": 41,
   "id": "96ba7e79",
   "metadata": {},
   "outputs": [
    {
     "data": {
      "text/plain": [
       "0.8400000000000001"
      ]
     },
     "execution_count": 41,
     "metadata": {},
     "output_type": "execute_result"
    }
   ],
   "source": [
    "preds_class_train = model.predict(X_train)\n",
    "f1_score(preds_class_train, y_train)"
   ]
  },
  {
   "cell_type": "markdown",
   "id": "57bceb96",
   "metadata": {},
   "source": [
    "С Catboost моделью мы пусть и хорошо предсказываем для трейна, но недостаточно хорошо предсказываем для тестовых данных. Данная моедль снова проигрывает логистической регрессии."
   ]
  },
  {
   "cell_type": "code",
   "execution_count": 42,
   "id": "80c7d063",
   "metadata": {},
   "outputs": [
    {
     "data": {
      "text/html": [
       "<div>\n",
       "<style scoped>\n",
       "    .dataframe tbody tr th:only-of-type {\n",
       "        vertical-align: middle;\n",
       "    }\n",
       "\n",
       "    .dataframe tbody tr th {\n",
       "        vertical-align: top;\n",
       "    }\n",
       "\n",
       "    .dataframe thead th {\n",
       "        text-align: right;\n",
       "    }\n",
       "</style>\n",
       "<table border=\"1\" class=\"dataframe\">\n",
       "  <thead>\n",
       "    <tr style=\"text-align: right;\">\n",
       "      <th></th>\n",
       "      <th>feature importance</th>\n",
       "      <th>feature names</th>\n",
       "    </tr>\n",
       "  </thead>\n",
       "  <tbody>\n",
       "    <tr>\n",
       "      <th>1</th>\n",
       "      <td>35.476017</td>\n",
       "      <td>Sex</td>\n",
       "    </tr>\n",
       "    <tr>\n",
       "      <th>0</th>\n",
       "      <td>16.949178</td>\n",
       "      <td>Pclass</td>\n",
       "    </tr>\n",
       "    <tr>\n",
       "      <th>2</th>\n",
       "      <td>15.844434</td>\n",
       "      <td>Age</td>\n",
       "    </tr>\n",
       "    <tr>\n",
       "      <th>5</th>\n",
       "      <td>15.569627</td>\n",
       "      <td>Fare</td>\n",
       "    </tr>\n",
       "    <tr>\n",
       "      <th>3</th>\n",
       "      <td>5.702986</td>\n",
       "      <td>SibSp</td>\n",
       "    </tr>\n",
       "    <tr>\n",
       "      <th>4</th>\n",
       "      <td>4.003477</td>\n",
       "      <td>Parch</td>\n",
       "    </tr>\n",
       "    <tr>\n",
       "      <th>8</th>\n",
       "      <td>2.853818</td>\n",
       "      <td>Embarked_S</td>\n",
       "    </tr>\n",
       "    <tr>\n",
       "      <th>6</th>\n",
       "      <td>2.384509</td>\n",
       "      <td>Embarked_C</td>\n",
       "    </tr>\n",
       "    <tr>\n",
       "      <th>7</th>\n",
       "      <td>1.215955</td>\n",
       "      <td>Embarked_Q</td>\n",
       "    </tr>\n",
       "  </tbody>\n",
       "</table>\n",
       "</div>"
      ],
      "text/plain": [
       "   feature importance feature names\n",
       "1           35.476017           Sex\n",
       "0           16.949178        Pclass\n",
       "2           15.844434           Age\n",
       "5           15.569627          Fare\n",
       "3            5.702986         SibSp\n",
       "4            4.003477         Parch\n",
       "8            2.853818    Embarked_S\n",
       "6            2.384509    Embarked_C\n",
       "7            1.215955    Embarked_Q"
      ]
     },
     "execution_count": 42,
     "metadata": {},
     "output_type": "execute_result"
    }
   ],
   "source": [
    "pd.DataFrame(\n",
    "    {\n",
    "      'feature importance': model.get_feature_importance(),  \n",
    "      'feature names':train.drop(columns = 'Survived').columns,  \n",
    "    }\n",
    ").sort_values(by=['feature importance'], ascending = False)"
   ]
  },
  {
   "cell_type": "markdown",
   "id": "86c2c5f8",
   "metadata": {},
   "source": [
    "Ключевым факторами для предсказания, выживет ли пассажир титаника или нет, являются пол, класс каюты, возраст и стоимость билета. "
   ]
  },
  {
   "cell_type": "markdown",
   "id": "3d4d42a8",
   "metadata": {},
   "source": [
    "В конце мы можем сделать ключевые генеральный вывод для всех построенных моделей, что логистическая регрессия - наш бенчмарк - проявила себя лучше остальных моделей с показателем accuracy на тестовых данных 0.82."
   ]
  }
 ],
 "metadata": {
  "kernelspec": {
   "display_name": "Python 3 (ipykernel)",
   "language": "python",
   "name": "python3"
  },
  "language_info": {
   "codemirror_mode": {
    "name": "ipython",
    "version": 3
   },
   "file_extension": ".py",
   "mimetype": "text/x-python",
   "name": "python",
   "nbconvert_exporter": "python",
   "pygments_lexer": "ipython3",
   "version": "3.11.5"
  }
 },
 "nbformat": 4,
 "nbformat_minor": 5
}
