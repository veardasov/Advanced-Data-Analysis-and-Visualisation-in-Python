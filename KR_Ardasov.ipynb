{
 "cells": [
  {
   "cell_type": "markdown",
   "id": "67650b49",
   "metadata": {},
   "source": [
    "## Контрольная на тему классификации"
   ]
  },
  {
   "cell_type": "markdown",
   "id": "a58a4f02",
   "metadata": {},
   "source": [
    "Данные конкретно о клиентах банка:\n",
    "\n",
    "1. - age: возраст\n",
    "2. - job:тип работы\n",
    "3. - marital: семейный статус\n",
    "4. - education: уровень образования\n",
    "5. - default: имеет ли кредит в просрочке\n",
    "6. - housing: имеет ли клиент жилищный кредит\n",
    "7. - loan: имеет ли клиент персональный кредит\n",
    "8. - balance: баланс клиента\n",
    "\n",
    "Данные, связанные с последним контактом в контексте текущей маркетинговой кампании:\n",
    "\n",
    "8. - contact: тип контакта с клиентом\n",
    "9. - month:месяц, в котором был последний контакт\n",
    "10. - day: день, в который был последний контакт\n",
    "11. - duration: длительность контакта в секундах\n",
    "\n",
    "Прочие признаки:\n",
    "\n",
    "12. - campaign: количество контактов с этим клиентом в течение этой кампании\n",
    "13. - pdays: количество пропущенных дней с момента последней маркетинговой кампании до контакта в этой\n",
    "14. - previous: количество контактов до этой кампании\n",
    "15. - poutcome: результат прошлой маркетинговой кампании\n",
    "\n",
    "И, разумеется, наша целевая переменная deposit, которая определяет, согласится ли клиент открыть депозит в нашем банке. Именно ее мы будем пытаться предсказать в данном кейсе.\n",
    "\n"
   ]
  },
  {
   "cell_type": "markdown",
   "id": "d68d3f2d",
   "metadata": {},
   "source": [
    "## Первичная обработка данных (2 балла)"
   ]
  },
  {
   "cell_type": "code",
   "execution_count": 1,
   "id": "230f6e51",
   "metadata": {},
   "outputs": [],
   "source": [
    "import warnings\n",
    "warnings.filterwarnings('ignore')"
   ]
  },
  {
   "cell_type": "markdown",
   "id": "a03f134d",
   "metadata": {},
   "source": [
    "#### Задание 1 (0.5 балла)"
   ]
  },
  {
   "cell_type": "markdown",
   "id": "b562a127",
   "metadata": {},
   "source": [
    "Откройте предложенные данные. Начнем с того, что оценим, насколько они готовы к дальнейшему анализу. В первую очередь давайте выясним, есть ли в данных пропущенные значения (пустые, незаполненные ячейки)?"
   ]
  },
  {
   "cell_type": "code",
   "execution_count": 2,
   "id": "d836f0f1",
   "metadata": {},
   "outputs": [
    {
     "data": {
      "text/html": [
       "<div>\n",
       "<style scoped>\n",
       "    .dataframe tbody tr th:only-of-type {\n",
       "        vertical-align: middle;\n",
       "    }\n",
       "\n",
       "    .dataframe tbody tr th {\n",
       "        vertical-align: top;\n",
       "    }\n",
       "\n",
       "    .dataframe thead th {\n",
       "        text-align: right;\n",
       "    }\n",
       "</style>\n",
       "<table border=\"1\" class=\"dataframe\">\n",
       "  <thead>\n",
       "    <tr style=\"text-align: right;\">\n",
       "      <th></th>\n",
       "      <th>age</th>\n",
       "      <th>job</th>\n",
       "      <th>marital</th>\n",
       "      <th>education</th>\n",
       "      <th>default</th>\n",
       "      <th>balance</th>\n",
       "      <th>housing</th>\n",
       "      <th>loan</th>\n",
       "      <th>contact</th>\n",
       "      <th>day</th>\n",
       "      <th>month</th>\n",
       "      <th>duration</th>\n",
       "      <th>campaign</th>\n",
       "      <th>pdays</th>\n",
       "      <th>previous</th>\n",
       "      <th>poutcome</th>\n",
       "      <th>deposit</th>\n",
       "    </tr>\n",
       "  </thead>\n",
       "  <tbody>\n",
       "    <tr>\n",
       "      <th>0</th>\n",
       "      <td>59</td>\n",
       "      <td>admin.</td>\n",
       "      <td>married</td>\n",
       "      <td>secondary</td>\n",
       "      <td>no</td>\n",
       "      <td>2 343,00 $</td>\n",
       "      <td>yes</td>\n",
       "      <td>no</td>\n",
       "      <td>unknown</td>\n",
       "      <td>5</td>\n",
       "      <td>may</td>\n",
       "      <td>1042</td>\n",
       "      <td>1</td>\n",
       "      <td>-1</td>\n",
       "      <td>0</td>\n",
       "      <td>unknown</td>\n",
       "      <td>yes</td>\n",
       "    </tr>\n",
       "    <tr>\n",
       "      <th>1</th>\n",
       "      <td>56</td>\n",
       "      <td>admin.</td>\n",
       "      <td>married</td>\n",
       "      <td>secondary</td>\n",
       "      <td>no</td>\n",
       "      <td>45,00 $</td>\n",
       "      <td>no</td>\n",
       "      <td>no</td>\n",
       "      <td>unknown</td>\n",
       "      <td>5</td>\n",
       "      <td>may</td>\n",
       "      <td>1467</td>\n",
       "      <td>1</td>\n",
       "      <td>-1</td>\n",
       "      <td>0</td>\n",
       "      <td>unknown</td>\n",
       "      <td>yes</td>\n",
       "    </tr>\n",
       "    <tr>\n",
       "      <th>2</th>\n",
       "      <td>41</td>\n",
       "      <td>technician</td>\n",
       "      <td>married</td>\n",
       "      <td>secondary</td>\n",
       "      <td>no</td>\n",
       "      <td>1 270,00 $</td>\n",
       "      <td>yes</td>\n",
       "      <td>no</td>\n",
       "      <td>unknown</td>\n",
       "      <td>5</td>\n",
       "      <td>may</td>\n",
       "      <td>1389</td>\n",
       "      <td>1</td>\n",
       "      <td>-1</td>\n",
       "      <td>0</td>\n",
       "      <td>unknown</td>\n",
       "      <td>yes</td>\n",
       "    </tr>\n",
       "    <tr>\n",
       "      <th>3</th>\n",
       "      <td>55</td>\n",
       "      <td>services</td>\n",
       "      <td>married</td>\n",
       "      <td>secondary</td>\n",
       "      <td>no</td>\n",
       "      <td>2 476,00 $</td>\n",
       "      <td>yes</td>\n",
       "      <td>no</td>\n",
       "      <td>unknown</td>\n",
       "      <td>5</td>\n",
       "      <td>may</td>\n",
       "      <td>579</td>\n",
       "      <td>1</td>\n",
       "      <td>-1</td>\n",
       "      <td>0</td>\n",
       "      <td>unknown</td>\n",
       "      <td>yes</td>\n",
       "    </tr>\n",
       "    <tr>\n",
       "      <th>4</th>\n",
       "      <td>54</td>\n",
       "      <td>admin.</td>\n",
       "      <td>married</td>\n",
       "      <td>tertiary</td>\n",
       "      <td>no</td>\n",
       "      <td>184,00 $</td>\n",
       "      <td>no</td>\n",
       "      <td>no</td>\n",
       "      <td>unknown</td>\n",
       "      <td>5</td>\n",
       "      <td>may</td>\n",
       "      <td>673</td>\n",
       "      <td>2</td>\n",
       "      <td>-1</td>\n",
       "      <td>0</td>\n",
       "      <td>unknown</td>\n",
       "      <td>yes</td>\n",
       "    </tr>\n",
       "  </tbody>\n",
       "</table>\n",
       "</div>"
      ],
      "text/plain": [
       "   age         job  marital  education default       balance housing loan  \\\n",
       "0   59      admin.  married  secondary      no   2 343,00 $      yes   no   \n",
       "1   56      admin.  married  secondary      no      45,00 $       no   no   \n",
       "2   41  technician  married  secondary      no   1 270,00 $      yes   no   \n",
       "3   55    services  married  secondary      no   2 476,00 $      yes   no   \n",
       "4   54      admin.  married   tertiary      no     184,00 $       no   no   \n",
       "\n",
       "   contact  day month  duration  campaign  pdays  previous poutcome deposit  \n",
       "0  unknown    5   may      1042         1     -1         0  unknown     yes  \n",
       "1  unknown    5   may      1467         1     -1         0  unknown     yes  \n",
       "2  unknown    5   may      1389         1     -1         0  unknown     yes  \n",
       "3  unknown    5   may       579         1     -1         0  unknown     yes  \n",
       "4  unknown    5   may       673         2     -1         0  unknown     yes  "
      ]
     },
     "execution_count": 2,
     "metadata": {},
     "output_type": "execute_result"
    }
   ],
   "source": [
    "# ваш код\n",
    "import pandas as pd\n",
    "data = pd.read_csv('bank_fin.csv', sep = ';')\n",
    "data.head()"
   ]
  },
  {
   "cell_type": "code",
   "execution_count": 3,
   "id": "19dc173f",
   "metadata": {},
   "outputs": [
    {
     "data": {
      "text/plain": [
       "age           0\n",
       "job           0\n",
       "marital       0\n",
       "education     0\n",
       "default       0\n",
       "balance      25\n",
       "housing       0\n",
       "loan          0\n",
       "contact       0\n",
       "day           0\n",
       "month         0\n",
       "duration      0\n",
       "campaign      0\n",
       "pdays         0\n",
       "previous      0\n",
       "poutcome      0\n",
       "deposit       0\n",
       "dtype: int64"
      ]
     },
     "execution_count": 3,
     "metadata": {},
     "output_type": "execute_result"
    }
   ],
   "source": [
    "data.isna().sum()\n",
    "# В данных есть пустые (или незаполненные) ячейки. Их 25 штук, и все они находятся в столбике balance"
   ]
  },
  {
   "cell_type": "markdown",
   "id": "d0a879c1",
   "metadata": {},
   "source": [
    "#### Задание 2 (0.75 балла)"
   ]
  },
  {
   "cell_type": "markdown",
   "id": "6c52f06a",
   "metadata": {},
   "source": [
    "Мы нашли пропущенные значения, и хотелось бы теперь их обработать. Однако мы не можем этого сделать, так как не все данные у нас находятся в корректном виде. Обратите внимание на признак balance. В данных содержится лишняя запятая и знак доллара. По этой причине этот признак не считывается как число. Обработайте данные этого признака так, чтобы он был преобразован в тип float. \n",
    "Подсказка: Вам понадобится метод str.replace.\n",
    "\n",
    "Пример: `df['balance'] = df['balance'].str.replace(',00', '')`"
   ]
  },
  {
   "cell_type": "code",
   "execution_count": 4,
   "id": "f9a1a363",
   "metadata": {},
   "outputs": [
    {
     "data": {
      "text/plain": [
       "0        2343\n",
       "1          45\n",
       "2        1270\n",
       "3        2476\n",
       "4         184\n",
       "         ... \n",
       "11157       1\n",
       "11158     733\n",
       "11159      29\n",
       "11160       0\n",
       "11161       0\n",
       "Name: balance, Length: 11162, dtype: object"
      ]
     },
     "execution_count": 4,
     "metadata": {},
     "output_type": "execute_result"
    }
   ],
   "source": [
    "# ваш код\n",
    "data['balance'] = data['balance'].str.replace(',00', '')\n",
    "data['balance'] = data['balance'].str.replace(' ', '')\n",
    "data['balance'] = data['balance'].str.replace('$', '')\n",
    "data['balance']"
   ]
  },
  {
   "cell_type": "code",
   "execution_count": 5,
   "id": "178ac2c4",
   "metadata": {},
   "outputs": [
    {
     "data": {
      "text/plain": [
       "0        2343.0\n",
       "1          45.0\n",
       "2        1270.0\n",
       "3        2476.0\n",
       "4         184.0\n",
       "          ...  \n",
       "11157       1.0\n",
       "11158     733.0\n",
       "11159      29.0\n",
       "11160       0.0\n",
       "11161       0.0\n",
       "Name: balance, Length: 11162, dtype: float64"
      ]
     },
     "execution_count": 5,
     "metadata": {},
     "output_type": "execute_result"
    }
   ],
   "source": [
    "data['balance'] = data['balance'].astype(float)\n",
    "data['balance']"
   ]
  },
  {
   "cell_type": "markdown",
   "id": "4198ee44",
   "metadata": {},
   "source": [
    "__Задание 3. (0.75 балла)__\n",
    "\n",
    "Обработайте пропуски с помощью их замены. Выберите сами, чем вы замените пропуски. Поясните свой выбор."
   ]
  },
  {
   "cell_type": "code",
   "execution_count": 6,
   "id": "18355b9d",
   "metadata": {},
   "outputs": [
    {
     "data": {
      "text/plain": [
       "550.0"
      ]
     },
     "execution_count": 6,
     "metadata": {},
     "output_type": "execute_result"
    }
   ],
   "source": [
    "# ваш код\n",
    "data_balance_median = data['balance'].median()\n",
    "data_balance_median"
   ]
  },
  {
   "cell_type": "code",
   "execution_count": 7,
   "id": "b44ad464",
   "metadata": {},
   "outputs": [],
   "source": [
    "data['balance'] = data['balance'].fillna(data_balance_median)\n",
    "# Заменять медианной - один из наиболее безболезненных вариантов замены, так как медиана сравнительно\n",
    "# нечувствительна к выбросам, чем, например, среднее арифметическое (mean)"
   ]
  },
  {
   "cell_type": "code",
   "execution_count": 8,
   "id": "06ad19ce",
   "metadata": {},
   "outputs": [
    {
     "data": {
      "text/plain": [
       "age          0\n",
       "job          0\n",
       "marital      0\n",
       "education    0\n",
       "default      0\n",
       "balance      0\n",
       "housing      0\n",
       "loan         0\n",
       "contact      0\n",
       "day          0\n",
       "month        0\n",
       "duration     0\n",
       "campaign     0\n",
       "pdays        0\n",
       "previous     0\n",
       "poutcome     0\n",
       "deposit      0\n",
       "dtype: int64"
      ]
     },
     "execution_count": 8,
     "metadata": {},
     "output_type": "execute_result"
    }
   ],
   "source": [
    "data.isna().sum()"
   ]
  },
  {
   "cell_type": "markdown",
   "id": "9d8419d2",
   "metadata": {},
   "source": [
    "## Разведочный анализ данных (EDA) (2.5 балла)"
   ]
  },
  {
   "cell_type": "markdown",
   "id": "7c1023e5",
   "metadata": {},
   "source": [
    "__Задание 3. (1 балл)__\n",
    "\n",
    "Выведите основные статистики (минимум, максимум, среднее, дисперсию, квантили) для всех числовых столбцов. Напишите интерпретацию для трех любых признаков.(Для каждого 3-4 предложения)"
   ]
  },
  {
   "cell_type": "code",
   "execution_count": 9,
   "id": "ff1af233",
   "metadata": {},
   "outputs": [
    {
     "data": {
      "text/html": [
       "<div>\n",
       "<style scoped>\n",
       "    .dataframe tbody tr th:only-of-type {\n",
       "        vertical-align: middle;\n",
       "    }\n",
       "\n",
       "    .dataframe tbody tr th {\n",
       "        vertical-align: top;\n",
       "    }\n",
       "\n",
       "    .dataframe thead th {\n",
       "        text-align: right;\n",
       "    }\n",
       "</style>\n",
       "<table border=\"1\" class=\"dataframe\">\n",
       "  <thead>\n",
       "    <tr style=\"text-align: right;\">\n",
       "      <th></th>\n",
       "      <th>age</th>\n",
       "      <th>balance</th>\n",
       "      <th>day</th>\n",
       "      <th>duration</th>\n",
       "      <th>campaign</th>\n",
       "      <th>pdays</th>\n",
       "      <th>previous</th>\n",
       "    </tr>\n",
       "  </thead>\n",
       "  <tbody>\n",
       "    <tr>\n",
       "      <th>count</th>\n",
       "      <td>11162.000000</td>\n",
       "      <td>11162.000000</td>\n",
       "      <td>11162.000000</td>\n",
       "      <td>11162.000000</td>\n",
       "      <td>11162.000000</td>\n",
       "      <td>11162.000000</td>\n",
       "      <td>11162.000000</td>\n",
       "    </tr>\n",
       "    <tr>\n",
       "      <th>mean</th>\n",
       "      <td>41.231948</td>\n",
       "      <td>1526.936033</td>\n",
       "      <td>15.658036</td>\n",
       "      <td>371.993818</td>\n",
       "      <td>2.508421</td>\n",
       "      <td>51.330407</td>\n",
       "      <td>0.832557</td>\n",
       "    </tr>\n",
       "    <tr>\n",
       "      <th>std</th>\n",
       "      <td>11.913369</td>\n",
       "      <td>3224.829691</td>\n",
       "      <td>8.420740</td>\n",
       "      <td>347.128386</td>\n",
       "      <td>2.722077</td>\n",
       "      <td>108.758282</td>\n",
       "      <td>2.292007</td>\n",
       "    </tr>\n",
       "    <tr>\n",
       "      <th>min</th>\n",
       "      <td>18.000000</td>\n",
       "      <td>-6847.000000</td>\n",
       "      <td>1.000000</td>\n",
       "      <td>2.000000</td>\n",
       "      <td>1.000000</td>\n",
       "      <td>-1.000000</td>\n",
       "      <td>0.000000</td>\n",
       "    </tr>\n",
       "    <tr>\n",
       "      <th>25%</th>\n",
       "      <td>32.000000</td>\n",
       "      <td>123.000000</td>\n",
       "      <td>8.000000</td>\n",
       "      <td>138.000000</td>\n",
       "      <td>1.000000</td>\n",
       "      <td>-1.000000</td>\n",
       "      <td>0.000000</td>\n",
       "    </tr>\n",
       "    <tr>\n",
       "      <th>50%</th>\n",
       "      <td>39.000000</td>\n",
       "      <td>550.000000</td>\n",
       "      <td>15.000000</td>\n",
       "      <td>255.000000</td>\n",
       "      <td>2.000000</td>\n",
       "      <td>-1.000000</td>\n",
       "      <td>0.000000</td>\n",
       "    </tr>\n",
       "    <tr>\n",
       "      <th>75%</th>\n",
       "      <td>49.000000</td>\n",
       "      <td>1699.000000</td>\n",
       "      <td>22.000000</td>\n",
       "      <td>496.000000</td>\n",
       "      <td>3.000000</td>\n",
       "      <td>20.750000</td>\n",
       "      <td>1.000000</td>\n",
       "    </tr>\n",
       "    <tr>\n",
       "      <th>max</th>\n",
       "      <td>95.000000</td>\n",
       "      <td>81204.000000</td>\n",
       "      <td>31.000000</td>\n",
       "      <td>3881.000000</td>\n",
       "      <td>63.000000</td>\n",
       "      <td>854.000000</td>\n",
       "      <td>58.000000</td>\n",
       "    </tr>\n",
       "  </tbody>\n",
       "</table>\n",
       "</div>"
      ],
      "text/plain": [
       "                age       balance           day      duration      campaign  \\\n",
       "count  11162.000000  11162.000000  11162.000000  11162.000000  11162.000000   \n",
       "mean      41.231948   1526.936033     15.658036    371.993818      2.508421   \n",
       "std       11.913369   3224.829691      8.420740    347.128386      2.722077   \n",
       "min       18.000000  -6847.000000      1.000000      2.000000      1.000000   \n",
       "25%       32.000000    123.000000      8.000000    138.000000      1.000000   \n",
       "50%       39.000000    550.000000     15.000000    255.000000      2.000000   \n",
       "75%       49.000000   1699.000000     22.000000    496.000000      3.000000   \n",
       "max       95.000000  81204.000000     31.000000   3881.000000     63.000000   \n",
       "\n",
       "              pdays      previous  \n",
       "count  11162.000000  11162.000000  \n",
       "mean      51.330407      0.832557  \n",
       "std      108.758282      2.292007  \n",
       "min       -1.000000      0.000000  \n",
       "25%       -1.000000      0.000000  \n",
       "50%       -1.000000      0.000000  \n",
       "75%       20.750000      1.000000  \n",
       "max      854.000000     58.000000  "
      ]
     },
     "execution_count": 9,
     "metadata": {},
     "output_type": "execute_result"
    }
   ],
   "source": [
    "# ваше решение\n",
    "data.describe()\n",
    "# Min. Этот показатель помогает нам заметить минимальное значение по каждому из числовых столбцов. \n",
    "# Так, мы видим, что минимальный возраст 18, минимальный день, в который был последний контакт, 1, \n",
    "# минимальная длительность контакта в секундах 2 и тд.\n",
    "#\n",
    "# Max. Этот показатель помогает нам заметить максимальное значение по каждому из числовых столбцов. \n",
    "# Так, мы видим, что максимальный возраст 95, максимальный день, в который был последний контакт, 31, \n",
    "# максимальная длительность контакта в секундах 3881 и тд.\n",
    "#\n",
    "# Mean. Этот показатель помогает нам заметить среднее значение по каждому из числовых столбцов. \n",
    "# Так, мы видим, что средний возраст примерно равен 41, средний день, в который был последний контакт,\n",
    "# примерно равен 15.66, средняя длительность контакта в секундах примерно равна 372 и тд."
   ]
  },
  {
   "cell_type": "code",
   "execution_count": 10,
   "id": "7b907db5",
   "metadata": {},
   "outputs": [
    {
     "data": {
      "text/plain": [
       "70.90885441746954"
      ]
     },
     "execution_count": 10,
     "metadata": {},
     "output_type": "execute_result"
    }
   ],
   "source": [
    "import statistics\n",
    "statistics.variance(data['day'], xbar=None)\n",
    "# Нашли дисперсию для показателя day. Дисперсия - квадрат std из таблицы describe"
   ]
  },
  {
   "cell_type": "markdown",
   "id": "0910383b",
   "metadata": {},
   "source": [
    "__Задание 4. (0.5 балла)__\n",
    "\n",
    "Давайте изучим, какое у нас распределение целевой переменной: есть ли несбалансированность классов? Для того, чтобы это сделать, вычислите частоты для открывших депозит и для тех, кто его не открыл. Напишите интерпретацию (2-3 предложения)"
   ]
  },
  {
   "cell_type": "code",
   "execution_count": 11,
   "id": "de46a74e",
   "metadata": {},
   "outputs": [],
   "source": [
    "# ваше решение\n",
    "y = data['deposit']"
   ]
  },
  {
   "cell_type": "code",
   "execution_count": 12,
   "id": "e8a358ad",
   "metadata": {},
   "outputs": [
    {
     "data": {
      "image/png": "[encoded data removed]",
      "text/plain": [
       "<Figure size 640x480 with 1 Axes>"
      ]
     },
     "metadata": {},
     "output_type": "display_data"
    }
   ],
   "source": [
    "y.hist();\n",
    "# Мы видим, что открыли депозит чуть меньше раз (примерно 5300), чем не открыли (примерно 5800). Не смотря на то,\n",
    "# что разница составляет около 10%, вряд ли можно говорить о несбалансированности классов"
   ]
  },
  {
   "cell_type": "markdown",
   "id": "6c18b936",
   "metadata": {},
   "source": [
    "__Задание 5. (0.5 балла)__\n",
    "\n",
    "Какая средняя длительность последнего контакта была для контактов в июне?"
   ]
  },
  {
   "cell_type": "code",
   "execution_count": 13,
   "id": "5eb4f6e7",
   "metadata": {},
   "outputs": [
    {
     "data": {
      "text/plain": [
       "364.7422258592471"
      ]
     },
     "execution_count": 13,
     "metadata": {},
     "output_type": "execute_result"
    }
   ],
   "source": [
    "# ваше решение\n",
    "data[data['month'] == 'jun']['duration'].mean()"
   ]
  },
  {
   "cell_type": "markdown",
   "id": "077230a9",
   "metadata": {},
   "source": [
    "__Задание 6. (0.5 балла)__\n",
    "\n",
    "Какой минимальный баланс у женатых людей, открывших депозит?"
   ]
  },
  {
   "cell_type": "code",
   "execution_count": 14,
   "id": "d46f472f",
   "metadata": {},
   "outputs": [
    {
     "data": {
      "text/plain": [
       "-6847.0"
      ]
     },
     "execution_count": 14,
     "metadata": {},
     "output_type": "execute_result"
    }
   ],
   "source": [
    "# ваше решение\n",
    "data[data['marital'] == 'married']['balance'].min()"
   ]
  },
  {
   "cell_type": "markdown",
   "id": "0c732a6b",
   "metadata": {},
   "source": [
    "## Построение моделей ML (7.5 баллов)"
   ]
  },
  {
   "cell_type": "markdown",
   "id": "6da4a033",
   "metadata": {},
   "source": [
    "__Задание 7. (0.5 балла)__\n",
    "\n",
    "Превратите все категориальные переменные в дамми-переменные. А целевую переменную (взял ли клиент депозит)перекодируйте в 1 и 0."
   ]
  },
  {
   "cell_type": "code",
   "execution_count": 15,
   "id": "d67b455c",
   "metadata": {},
   "outputs": [],
   "source": [
    "# ваше решение\n",
    "data['deposit'] = data['deposit'].apply(lambda x: 1 if x == 'yes' else 0)"
   ]
  },
  {
   "cell_type": "code",
   "execution_count": 16,
   "id": "57d2da9d",
   "metadata": {},
   "outputs": [
    {
     "data": {
      "text/html": [
       "<div>\n",
       "<style scoped>\n",
       "    .dataframe tbody tr th:only-of-type {\n",
       "        vertical-align: middle;\n",
       "    }\n",
       "\n",
       "    .dataframe tbody tr th {\n",
       "        vertical-align: top;\n",
       "    }\n",
       "\n",
       "    .dataframe thead th {\n",
       "        text-align: right;\n",
       "    }\n",
       "</style>\n",
       "<table border=\"1\" class=\"dataframe\">\n",
       "  <thead>\n",
       "    <tr style=\"text-align: right;\">\n",
       "      <th></th>\n",
       "      <th>age</th>\n",
       "      <th>job</th>\n",
       "      <th>marital</th>\n",
       "      <th>education</th>\n",
       "      <th>default</th>\n",
       "      <th>balance</th>\n",
       "      <th>housing</th>\n",
       "      <th>loan</th>\n",
       "      <th>contact</th>\n",
       "      <th>day</th>\n",
       "      <th>month</th>\n",
       "      <th>duration</th>\n",
       "      <th>campaign</th>\n",
       "      <th>pdays</th>\n",
       "      <th>previous</th>\n",
       "      <th>poutcome</th>\n",
       "      <th>deposit</th>\n",
       "    </tr>\n",
       "  </thead>\n",
       "  <tbody>\n",
       "    <tr>\n",
       "      <th>0</th>\n",
       "      <td>59</td>\n",
       "      <td>admin.</td>\n",
       "      <td>married</td>\n",
       "      <td>secondary</td>\n",
       "      <td>no</td>\n",
       "      <td>2343.0</td>\n",
       "      <td>yes</td>\n",
       "      <td>no</td>\n",
       "      <td>unknown</td>\n",
       "      <td>5</td>\n",
       "      <td>may</td>\n",
       "      <td>1042</td>\n",
       "      <td>1</td>\n",
       "      <td>-1</td>\n",
       "      <td>0</td>\n",
       "      <td>unknown</td>\n",
       "      <td>1</td>\n",
       "    </tr>\n",
       "    <tr>\n",
       "      <th>1</th>\n",
       "      <td>56</td>\n",
       "      <td>admin.</td>\n",
       "      <td>married</td>\n",
       "      <td>secondary</td>\n",
       "      <td>no</td>\n",
       "      <td>45.0</td>\n",
       "      <td>no</td>\n",
       "      <td>no</td>\n",
       "      <td>unknown</td>\n",
       "      <td>5</td>\n",
       "      <td>may</td>\n",
       "      <td>1467</td>\n",
       "      <td>1</td>\n",
       "      <td>-1</td>\n",
       "      <td>0</td>\n",
       "      <td>unknown</td>\n",
       "      <td>1</td>\n",
       "    </tr>\n",
       "    <tr>\n",
       "      <th>2</th>\n",
       "      <td>41</td>\n",
       "      <td>technician</td>\n",
       "      <td>married</td>\n",
       "      <td>secondary</td>\n",
       "      <td>no</td>\n",
       "      <td>1270.0</td>\n",
       "      <td>yes</td>\n",
       "      <td>no</td>\n",
       "      <td>unknown</td>\n",
       "      <td>5</td>\n",
       "      <td>may</td>\n",
       "      <td>1389</td>\n",
       "      <td>1</td>\n",
       "      <td>-1</td>\n",
       "      <td>0</td>\n",
       "      <td>unknown</td>\n",
       "      <td>1</td>\n",
       "    </tr>\n",
       "    <tr>\n",
       "      <th>3</th>\n",
       "      <td>55</td>\n",
       "      <td>services</td>\n",
       "      <td>married</td>\n",
       "      <td>secondary</td>\n",
       "      <td>no</td>\n",
       "      <td>2476.0</td>\n",
       "      <td>yes</td>\n",
       "      <td>no</td>\n",
       "      <td>unknown</td>\n",
       "      <td>5</td>\n",
       "      <td>may</td>\n",
       "      <td>579</td>\n",
       "      <td>1</td>\n",
       "      <td>-1</td>\n",
       "      <td>0</td>\n",
       "      <td>unknown</td>\n",
       "      <td>1</td>\n",
       "    </tr>\n",
       "    <tr>\n",
       "      <th>4</th>\n",
       "      <td>54</td>\n",
       "      <td>admin.</td>\n",
       "      <td>married</td>\n",
       "      <td>tertiary</td>\n",
       "      <td>no</td>\n",
       "      <td>184.0</td>\n",
       "      <td>no</td>\n",
       "      <td>no</td>\n",
       "      <td>unknown</td>\n",
       "      <td>5</td>\n",
       "      <td>may</td>\n",
       "      <td>673</td>\n",
       "      <td>2</td>\n",
       "      <td>-1</td>\n",
       "      <td>0</td>\n",
       "      <td>unknown</td>\n",
       "      <td>1</td>\n",
       "    </tr>\n",
       "  </tbody>\n",
       "</table>\n",
       "</div>"
      ],
      "text/plain": [
       "   age         job  marital  education default  balance housing loan  contact  \\\n",
       "0   59      admin.  married  secondary      no   2343.0     yes   no  unknown   \n",
       "1   56      admin.  married  secondary      no     45.0      no   no  unknown   \n",
       "2   41  technician  married  secondary      no   1270.0     yes   no  unknown   \n",
       "3   55    services  married  secondary      no   2476.0     yes   no  unknown   \n",
       "4   54      admin.  married   tertiary      no    184.0      no   no  unknown   \n",
       "\n",
       "   day month  duration  campaign  pdays  previous poutcome  deposit  \n",
       "0    5   may      1042         1     -1         0  unknown        1  \n",
       "1    5   may      1467         1     -1         0  unknown        1  \n",
       "2    5   may      1389         1     -1         0  unknown        1  \n",
       "3    5   may       579         1     -1         0  unknown        1  \n",
       "4    5   may       673         2     -1         0  unknown        1  "
      ]
     },
     "execution_count": 16,
     "metadata": {},
     "output_type": "execute_result"
    }
   ],
   "source": [
    "data.head()"
   ]
  },
  {
   "cell_type": "code",
   "execution_count": 17,
   "id": "7800764b",
   "metadata": {},
   "outputs": [
    {
     "data": {
      "text/html": [
       "<div>\n",
       "<style scoped>\n",
       "    .dataframe tbody tr th:only-of-type {\n",
       "        vertical-align: middle;\n",
       "    }\n",
       "\n",
       "    .dataframe tbody tr th {\n",
       "        vertical-align: top;\n",
       "    }\n",
       "\n",
       "    .dataframe thead th {\n",
       "        text-align: right;\n",
       "    }\n",
       "</style>\n",
       "<table border=\"1\" class=\"dataframe\">\n",
       "  <thead>\n",
       "    <tr style=\"text-align: right;\">\n",
       "      <th></th>\n",
       "      <th>age</th>\n",
       "      <th>balance</th>\n",
       "      <th>day</th>\n",
       "      <th>duration</th>\n",
       "      <th>campaign</th>\n",
       "      <th>pdays</th>\n",
       "      <th>previous</th>\n",
       "      <th>deposit</th>\n",
       "      <th>job_admin.</th>\n",
       "      <th>job_blue-collar</th>\n",
       "      <th>...</th>\n",
       "      <th>month_jun</th>\n",
       "      <th>month_mar</th>\n",
       "      <th>month_may</th>\n",
       "      <th>month_nov</th>\n",
       "      <th>month_oct</th>\n",
       "      <th>month_sep</th>\n",
       "      <th>poutcome_failure</th>\n",
       "      <th>poutcome_other</th>\n",
       "      <th>poutcome_success</th>\n",
       "      <th>poutcome_unknown</th>\n",
       "    </tr>\n",
       "  </thead>\n",
       "  <tbody>\n",
       "    <tr>\n",
       "      <th>0</th>\n",
       "      <td>59</td>\n",
       "      <td>2343.0</td>\n",
       "      <td>5</td>\n",
       "      <td>1042</td>\n",
       "      <td>1</td>\n",
       "      <td>-1</td>\n",
       "      <td>0</td>\n",
       "      <td>1</td>\n",
       "      <td>True</td>\n",
       "      <td>False</td>\n",
       "      <td>...</td>\n",
       "      <td>False</td>\n",
       "      <td>False</td>\n",
       "      <td>True</td>\n",
       "      <td>False</td>\n",
       "      <td>False</td>\n",
       "      <td>False</td>\n",
       "      <td>False</td>\n",
       "      <td>False</td>\n",
       "      <td>False</td>\n",
       "      <td>True</td>\n",
       "    </tr>\n",
       "    <tr>\n",
       "      <th>1</th>\n",
       "      <td>56</td>\n",
       "      <td>45.0</td>\n",
       "      <td>5</td>\n",
       "      <td>1467</td>\n",
       "      <td>1</td>\n",
       "      <td>-1</td>\n",
       "      <td>0</td>\n",
       "      <td>1</td>\n",
       "      <td>True</td>\n",
       "      <td>False</td>\n",
       "      <td>...</td>\n",
       "      <td>False</td>\n",
       "      <td>False</td>\n",
       "      <td>True</td>\n",
       "      <td>False</td>\n",
       "      <td>False</td>\n",
       "      <td>False</td>\n",
       "      <td>False</td>\n",
       "      <td>False</td>\n",
       "      <td>False</td>\n",
       "      <td>True</td>\n",
       "    </tr>\n",
       "    <tr>\n",
       "      <th>2</th>\n",
       "      <td>41</td>\n",
       "      <td>1270.0</td>\n",
       "      <td>5</td>\n",
       "      <td>1389</td>\n",
       "      <td>1</td>\n",
       "      <td>-1</td>\n",
       "      <td>0</td>\n",
       "      <td>1</td>\n",
       "      <td>False</td>\n",
       "      <td>False</td>\n",
       "      <td>...</td>\n",
       "      <td>False</td>\n",
       "      <td>False</td>\n",
       "      <td>True</td>\n",
       "      <td>False</td>\n",
       "      <td>False</td>\n",
       "      <td>False</td>\n",
       "      <td>False</td>\n",
       "      <td>False</td>\n",
       "      <td>False</td>\n",
       "      <td>True</td>\n",
       "    </tr>\n",
       "    <tr>\n",
       "      <th>3</th>\n",
       "      <td>55</td>\n",
       "      <td>2476.0</td>\n",
       "      <td>5</td>\n",
       "      <td>579</td>\n",
       "      <td>1</td>\n",
       "      <td>-1</td>\n",
       "      <td>0</td>\n",
       "      <td>1</td>\n",
       "      <td>False</td>\n",
       "      <td>False</td>\n",
       "      <td>...</td>\n",
       "      <td>False</td>\n",
       "      <td>False</td>\n",
       "      <td>True</td>\n",
       "      <td>False</td>\n",
       "      <td>False</td>\n",
       "      <td>False</td>\n",
       "      <td>False</td>\n",
       "      <td>False</td>\n",
       "      <td>False</td>\n",
       "      <td>True</td>\n",
       "    </tr>\n",
       "    <tr>\n",
       "      <th>4</th>\n",
       "      <td>54</td>\n",
       "      <td>184.0</td>\n",
       "      <td>5</td>\n",
       "      <td>673</td>\n",
       "      <td>2</td>\n",
       "      <td>-1</td>\n",
       "      <td>0</td>\n",
       "      <td>1</td>\n",
       "      <td>True</td>\n",
       "      <td>False</td>\n",
       "      <td>...</td>\n",
       "      <td>False</td>\n",
       "      <td>False</td>\n",
       "      <td>True</td>\n",
       "      <td>False</td>\n",
       "      <td>False</td>\n",
       "      <td>False</td>\n",
       "      <td>False</td>\n",
       "      <td>False</td>\n",
       "      <td>False</td>\n",
       "      <td>True</td>\n",
       "    </tr>\n",
       "  </tbody>\n",
       "</table>\n",
       "<p>5 rows × 52 columns</p>\n",
       "</div>"
      ],
      "text/plain": [
       "   age  balance  day  duration  campaign  pdays  previous  deposit  \\\n",
       "0   59   2343.0    5      1042         1     -1         0        1   \n",
       "1   56     45.0    5      1467         1     -1         0        1   \n",
       "2   41   1270.0    5      1389         1     -1         0        1   \n",
       "3   55   2476.0    5       579         1     -1         0        1   \n",
       "4   54    184.0    5       673         2     -1         0        1   \n",
       "\n",
       "   job_admin.  job_blue-collar  ...  month_jun  month_mar  month_may  \\\n",
       "0        True            False  ...      False      False       True   \n",
       "1        True            False  ...      False      False       True   \n",
       "2       False            False  ...      False      False       True   \n",
       "3       False            False  ...      False      False       True   \n",
       "4        True            False  ...      False      False       True   \n",
       "\n",
       "   month_nov  month_oct  month_sep  poutcome_failure  poutcome_other  \\\n",
       "0      False      False      False             False           False   \n",
       "1      False      False      False             False           False   \n",
       "2      False      False      False             False           False   \n",
       "3      False      False      False             False           False   \n",
       "4      False      False      False             False           False   \n",
       "\n",
       "   poutcome_success  poutcome_unknown  \n",
       "0             False              True  \n",
       "1             False              True  \n",
       "2             False              True  \n",
       "3             False              True  \n",
       "4             False              True  \n",
       "\n",
       "[5 rows x 52 columns]"
      ]
     },
     "execution_count": 17,
     "metadata": {},
     "output_type": "execute_result"
    }
   ],
   "source": [
    "data = pd.get_dummies(data)\n",
    "data.head()"
   ]
  },
  {
   "cell_type": "markdown",
   "id": "e887094f",
   "metadata": {},
   "source": [
    "__Задание 8. (0.5 балла)__\n",
    "\n",
    "Будем предсказывать, открыл ли клиент депозит. Разделите данные на обучающую и тестовую выборку. Задайте при разбиении параметр random_state = 42, а размер тестовой выборки возьмите за 0.33. "
   ]
  },
  {
   "cell_type": "code",
   "execution_count": 18,
   "id": "29aeb0fd",
   "metadata": {},
   "outputs": [
    {
     "data": {
      "text/plain": [
       "(3684,)"
      ]
     },
     "execution_count": 18,
     "metadata": {},
     "output_type": "execute_result"
    }
   ],
   "source": [
    "# ваше решение\n",
    "from sklearn.model_selection import train_test_split\n",
    "X = data.drop(['deposit'], axis=1)\n",
    "y = data['deposit']\n",
    "X_train, X_test, y_train, y_test = train_test_split(X, y, stratify=y, random_state = 42, test_size = 0.33)\n",
    "y_test.shape"
   ]
  },
  {
   "cell_type": "markdown",
   "id": "5041f151",
   "metadata": {},
   "source": [
    "__Задание 9. (2.5 балла)__\n",
    "\n",
    "Постройте предсказательную модель с помощью логистической регрессии и случайного леса, а также KNN c 5,7,9 соседями. Сравните качество с помощью как минимум трех метрик. Какая модель показала себя лучше? Качество оценивайте по тестовой выборке."
   ]
  },
  {
   "cell_type": "code",
   "execution_count": 19,
   "id": "73984c35",
   "metadata": {},
   "outputs": [],
   "source": [
    "# ваше решение\n",
    "from sklearn import linear_model\n",
    "from sklearn import preprocessing\n",
    "from sklearn import metrics\n",
    "import matplotlib.pyplot as plt"
   ]
  },
  {
   "cell_type": "code",
   "execution_count": 20,
   "id": "7ce92bf9",
   "metadata": {},
   "outputs": [],
   "source": [
    "X_train, X_test, y_train, y_test = train_test_split(X, y, stratify=y, random_state = 1, test_size = 0.2)\n",
    "scaler = preprocessing.MinMaxScaler()\n",
    "scaler.fit(X_train)\n",
    "X_train_scaled = scaler.transform(X_train)\n",
    "X_test_scaled = scaler.transform(X_test)"
   ]
  },
  {
   "cell_type": "code",
   "execution_count": 21,
   "id": "983781c9",
   "metadata": {},
   "outputs": [
    {
     "data": {
      "text/html": [
       "<style>#sk-container-id-1 {color: black;}#sk-container-id-1 pre{padding: 0;}#sk-container-id-1 div.sk-toggleable {background-color: white;}#sk-container-id-1 label.sk-toggleable__label {cursor: pointer;display: block;width: 100%;margin-bottom: 0;padding: 0.3em;box-sizing: border-box;text-align: center;}#sk-container-id-1 label.sk-toggleable__label-arrow:before {content: \"▸\";float: left;margin-right: 0.25em;color: #696969;}#sk-container-id-1 label.sk-toggleable__label-arrow:hover:before {color: black;}#sk-container-id-1 div.sk-estimator:hover label.sk-toggleable__label-arrow:before {color: black;}#sk-container-id-1 div.sk-toggleable__content {max-height: 0;max-width: 0;overflow: hidden;text-align: left;background-color: #f0f8ff;}#sk-container-id-1 div.sk-toggleable__content pre {margin: 0.2em;color: black;border-radius: 0.25em;background-color: #f0f8ff;}#sk-container-id-1 input.sk-toggleable__control:checked~div.sk-toggleable__content {max-height: 200px;max-width: 100%;overflow: auto;}#sk-container-id-1 input.sk-toggleable__control:checked~label.sk-toggleable__label-arrow:before {content: \"▾\";}#sk-container-id-1 div.sk-estimator input.sk-toggleable__control:checked~label.sk-toggleable__label {background-color: #d4ebff;}#sk-container-id-1 div.sk-label input.sk-toggleable__control:checked~label.sk-toggleable__label {background-color: #d4ebff;}#sk-container-id-1 input.sk-hidden--visually {border: 0;clip: rect(1px 1px 1px 1px);clip: rect(1px, 1px, 1px, 1px);height: 1px;margin: -1px;overflow: hidden;padding: 0;position: absolute;width: 1px;}#sk-container-id-1 div.sk-estimator {font-family: monospace;background-color: #f0f8ff;border: 1px dotted black;border-radius: 0.25em;box-sizing: border-box;margin-bottom: 0.5em;}#sk-container-id-1 div.sk-estimator:hover {background-color: #d4ebff;}#sk-container-id-1 div.sk-parallel-item::after {content: \"\";width: 100%;border-bottom: 1px solid gray;flex-grow: 1;}#sk-container-id-1 div.sk-label:hover label.sk-toggleable__label {background-color: #d4ebff;}#sk-container-id-1 div.sk-serial::before {content: \"\";position: absolute;border-left: 1px solid gray;box-sizing: border-box;top: 0;bottom: 0;left: 50%;z-index: 0;}#sk-container-id-1 div.sk-serial {display: flex;flex-direction: column;align-items: center;background-color: white;padding-right: 0.2em;padding-left: 0.2em;position: relative;}#sk-container-id-1 div.sk-item {position: relative;z-index: 1;}#sk-container-id-1 div.sk-parallel {display: flex;align-items: stretch;justify-content: center;background-color: white;position: relative;}#sk-container-id-1 div.sk-item::before, #sk-container-id-1 div.sk-parallel-item::before {content: \"\";position: absolute;border-left: 1px solid gray;box-sizing: border-box;top: 0;bottom: 0;left: 50%;z-index: -1;}#sk-container-id-1 div.sk-parallel-item {display: flex;flex-direction: column;z-index: 1;position: relative;background-color: white;}#sk-container-id-1 div.sk-parallel-item:first-child::after {align-self: flex-end;width: 50%;}#sk-container-id-1 div.sk-parallel-item:last-child::after {align-self: flex-start;width: 50%;}#sk-container-id-1 div.sk-parallel-item:only-child::after {width: 0;}#sk-container-id-1 div.sk-dashed-wrapped {border: 1px dashed gray;margin: 0 0.4em 0.5em 0.4em;box-sizing: border-box;padding-bottom: 0.4em;background-color: white;}#sk-container-id-1 div.sk-label label {font-family: monospace;font-weight: bold;display: inline-block;line-height: 1.2em;}#sk-container-id-1 div.sk-label-container {text-align: center;}#sk-container-id-1 div.sk-container {/* jupyter's `normalize.less` sets `[hidden] { display: none; }` but bootstrap.min.css set `[hidden] { display: none !important; }` so we also need the `!important` here to be able to override the default hidden behavior on the sphinx rendered scikit-learn.org. See: https://github.com/scikit-learn/scikit-learn/issues/21755 */display: inline-block !important;position: relative;}#sk-container-id-1 div.sk-text-repr-fallback {display: none;}</style><div id=\"sk-container-id-1\" class=\"sk-top-container\"><div class=\"sk-text-repr-fallback\"><pre>LogisticRegression(max_iter=1000, random_state=1, solver=&#x27;sag&#x27;)</pre><b>In a Jupyter environment, please rerun this cell to show the HTML representation or trust the notebook. <br />On GitHub, the HTML representation is unable to render, please try loading this page with nbviewer.org.</b></div><div class=\"sk-container\" hidden><div class=\"sk-item\"><div class=\"sk-estimator sk-toggleable\"><input class=\"sk-toggleable__control sk-hidden--visually\" id=\"sk-estimator-id-1\" type=\"checkbox\" checked><label for=\"sk-estimator-id-1\" class=\"sk-toggleable__label sk-toggleable__label-arrow\">LogisticRegression</label><div class=\"sk-toggleable__content\"><pre>LogisticRegression(max_iter=1000, random_state=1, solver=&#x27;sag&#x27;)</pre></div></div></div></div></div>"
      ],
      "text/plain": [
       "LogisticRegression(max_iter=1000, random_state=1, solver='sag')"
      ]
     },
     "execution_count": 21,
     "metadata": {},
     "output_type": "execute_result"
    }
   ],
   "source": [
    "#Создаем объект класса логистическая регрессия\n",
    "log_reg = linear_model.LogisticRegression(\n",
    "    solver='sag', #алгоритм оптимизации\n",
    "    random_state=1, #генератор случайных чисел\n",
    "    max_iter=1000 #количество итераций на сходимость\n",
    ")\n",
    "#Обучаем модель, минимизируя logloss\n",
    "log_reg.fit(X_train_scaled, y_train)"
   ]
  },
  {
   "cell_type": "code",
   "execution_count": 22,
   "id": "e839c6de",
   "metadata": {},
   "outputs": [
    {
     "name": "stdout",
     "output_type": "stream",
     "text": [
      "              precision    recall  f1-score   support\n",
      "\n",
      "           0       0.82      0.86      0.84      4698\n",
      "           1       0.84      0.79      0.81      4231\n",
      "\n",
      "    accuracy                           0.83      8929\n",
      "   macro avg       0.83      0.83      0.83      8929\n",
      "weighted avg       0.83      0.83      0.83      8929\n",
      "\n",
      "              precision    recall  f1-score   support\n",
      "\n",
      "           0       0.81      0.85      0.83      1175\n",
      "           1       0.82      0.78      0.80      1058\n",
      "\n",
      "    accuracy                           0.81      2233\n",
      "   macro avg       0.81      0.81      0.81      2233\n",
      "weighted avg       0.81      0.81      0.81      2233\n",
      "\n"
     ]
    }
   ],
   "source": [
    "#Делаем предсказание для тренировочной выборки\n",
    "y_train_pred = log_reg.predict(X_train_scaled)\n",
    "#Вывод отчет о метриках классификации\n",
    "print(metrics.classification_report(y_train, y_train_pred))\n",
    "#Делаем предсказание для тестовой выборки\n",
    "y_test_pred = log_reg.predict(X_test_scaled)\n",
    "#Вывод отчет о метриках классификации\n",
    "print(metrics.classification_report(y_test, y_test_pred))"
   ]
  },
  {
   "cell_type": "code",
   "execution_count": 23,
   "id": "0cbe9ae0",
   "metadata": {},
   "outputs": [
    {
     "data": {
      "image/png": "[encoded data removed]",
      "text/plain": [
       "<Figure size 1000x400 with 1 Axes>"
      ]
     },
     "metadata": {},
     "output_type": "display_data"
    }
   ],
   "source": [
    "import numpy as np\n",
    "#Нас интересует только вероятность класса (второй столбец)\n",
    "y_test_proba_pred = log_reg.predict_proba(X_test_scaled)[:, 1]\n",
    "#Для удобства завернем numpy-массив в pandas Series\n",
    "y_test_proba_pred = pd.Series(y_test_proba_pred)\n",
    "#Создадим списки, в которых будем хранить значения метрик \n",
    "recall_scores = []\n",
    "precision_scores = []\n",
    "f1_scores = []\n",
    "#Сгенерируем набор вероятностных порогов в диапазоне от 0.1 до 1\n",
    "thresholds = np.arange(0.1, 1, 0.05)\n",
    "#В цикле будем перебирать сгенерированные пороги\n",
    "for threshold in thresholds:\n",
    "    #В противном случае - к классу 0\n",
    "    y_test_pred = y_test_proba_pred.apply(lambda x: 1 if x>threshold else 0)\n",
    "    #Считаем метрики и добавляем их в списки\n",
    "    recall_scores.append(metrics.recall_score(y_test, y_test_pred))\n",
    "    precision_scores.append(metrics.precision_score(y_test, y_test_pred))\n",
    "    f1_scores.append(metrics.f1_score(y_test, y_test_pred))\n",
    "\n",
    "#Визуализируем метрики при различных threshold\n",
    "fig, ax = plt.subplots(figsize=(10, 4)) #фигура + координатная плоскость\n",
    "#Строим линейный график зависимости recall от threshold\n",
    "ax.plot(thresholds, recall_scores, label='Recall')\n",
    "#Строим линейный график зависимости precision от threshold\n",
    "ax.plot(thresholds, precision_scores, label='Precision')\n",
    "\n",
    "#Строим линейный график зависимости F1 от threshold\n",
    "ax.plot(thresholds, f1_scores, label='F1-score')\n",
    "#Даем графику название и подписи осям\n",
    "ax.set_title('Recall/Precision dependence on the threshold')\n",
    "ax.set_xlabel('Probability threshold')\n",
    "ax.set_ylabel('Score')\n",
    "ax.legend();"
   ]
  },
  {
   "cell_type": "code",
   "execution_count": 24,
   "id": "4b073abc",
   "metadata": {},
   "outputs": [
    {
     "name": "stdout",
     "output_type": "stream",
     "text": [
      "              precision    recall  f1-score   support\n",
      "\n",
      "           0       0.84      0.82      0.83      1175\n",
      "           1       0.81      0.82      0.81      1058\n",
      "\n",
      "    accuracy                           0.82      2233\n",
      "   macro avg       0.82      0.82      0.82      2233\n",
      "weighted avg       0.82      0.82      0.82      2233\n",
      "\n"
     ]
    }
   ],
   "source": [
    "#Задаем оптимальный порог вероятностей\n",
    "threshold_opt = 0.45\n",
    "y_test_pred_opt = y_test_proba_pred.apply(lambda x: 1 if x > threshold_opt else 0)\n",
    "#Считаем метрики\n",
    "print(metrics.classification_report(y_test, y_test_pred_opt))"
   ]
  },
  {
   "cell_type": "code",
   "execution_count": 25,
   "id": "500b6d97",
   "metadata": {},
   "outputs": [
    {
     "name": "stdout",
     "output_type": "stream",
     "text": [
      "Train: 0.84\n",
      "Test: 0.81\n"
     ]
    }
   ],
   "source": [
    "# Переходим к дереву решений\n",
    "from sklearn import tree\n",
    "#Создаем объект класса дерево решений\n",
    "dt = tree.DecisionTreeClassifier(\n",
    "    criterion='entropy',\n",
    "    #min_samples_leaf=5,\n",
    "    max_depth=8,\n",
    "    random_state=42\n",
    ")\n",
    "#Обучаем дерево по алгоритму CART\n",
    "dt.fit(X_train, y_train)\n",
    "#Выводим значения метрики \n",
    "y_train_pred = dt.predict(X_train)\n",
    "print('Train: {:.2f}'.format(metrics.f1_score(y_train, y_train_pred)))\n",
    "y_test_pred = dt.predict(X_test)\n",
    "print('Test: {:.2f}'.format(metrics.f1_score(y_test, y_test_pred)))"
   ]
  },
  {
   "cell_type": "code",
   "execution_count": 26,
   "id": "294422e6",
   "metadata": {},
   "outputs": [
    {
     "name": "stdout",
     "output_type": "stream",
     "text": [
      "Train: 0.88\n",
      "Test: 0.83\n"
     ]
    }
   ],
   "source": [
    "from sklearn import ensemble #ансамбли\n",
    "#Создаем объект класса случайный лес\n",
    "rf = ensemble.RandomForestClassifier(\n",
    "    n_estimators=500,\n",
    "    max_depth=15,\n",
    "    criterion='entropy',\n",
    "    min_samples_leaf=10,\n",
    "    random_state=42\n",
    ")\n",
    "#Обучаем модель\n",
    "rf.fit(X_train, y_train)\n",
    "#Выводим значения метрики \n",
    "y_train_pred = rf.predict(X_train)\n",
    "print('Train: {:.2f}'.format(metrics.f1_score(y_train, y_train_pred)))\n",
    "y_test_pred = rf.predict(X_test)\n",
    "print('Test: {:.2f}'.format(metrics.f1_score(y_test, y_test_pred)))"
   ]
  },
  {
   "cell_type": "code",
   "execution_count": 27,
   "id": "62cec7d2",
   "metadata": {},
   "outputs": [
    {
     "data": {
      "image/png": "[encoded data removed]",
      "text/plain": [
       "<Figure size 1000x400 with 1 Axes>"
      ]
     },
     "metadata": {},
     "output_type": "display_data"
    }
   ],
   "source": [
    "#Нас интересует только вероятность класса (второй столбец)\n",
    "y_test_proba_pred = rf.predict_proba(X_test)[:, 1]\n",
    "#Для удобства завернем numpy-массив в pandas Series\n",
    "y_test_proba_pred = pd.Series(y_test_proba_pred)\n",
    "#Создадим списки, в которых будем хранить значения метрик \n",
    "recall_scores = []\n",
    "precision_scores = []\n",
    "f1_scores = []\n",
    "#Сгенерируем набор вероятностных порогов в диапазоне от 0.1 до 1\n",
    "thresholds = np.arange(0.1, 1, 0.05)\n",
    "#В цикле будем перебирать сгенерированные пороги\n",
    "for threshold in thresholds:\n",
    "    #В противном случае - к классу 0\n",
    "    y_test_pred = y_test_proba_pred.apply(lambda x: 1 if x>threshold else 0)\n",
    "    #Считаем метрики и добавляем их в списки\n",
    "    recall_scores.append(metrics.recall_score(y_test, y_test_pred))\n",
    "    precision_scores.append(metrics.precision_score(y_test, y_test_pred))\n",
    "    f1_scores.append(metrics.f1_score(y_test, y_test_pred))\n",
    "\n",
    "#Визуализируем метрики при различных threshold\n",
    "fig, ax = plt.subplots(figsize=(10, 4)) #фигура + координатная плоскость\n",
    "#Строим линейный график зависимости recall от threshold\n",
    "ax.plot(thresholds, recall_scores, label='Recall')\n",
    "#Строим линейный график зависимости precision от threshold\n",
    "ax.plot(thresholds, precision_scores, label='Precision')\n",
    "\n",
    "#Строим линейный график зависимости F1 от threshold\n",
    "ax.plot(thresholds, f1_scores, label='F1-score')\n",
    "#Даем графику название и подписи осям\n",
    "ax.set_title('Recall/Precision dependence on the threshold')\n",
    "ax.set_xlabel('Probability threshold')\n",
    "ax.set_ylabel('Score')\n",
    "ax.set_xticks(thresholds)\n",
    "ax.legend();"
   ]
  },
  {
   "cell_type": "code",
   "execution_count": 28,
   "id": "73b4c5f3",
   "metadata": {},
   "outputs": [
    {
     "name": "stdout",
     "output_type": "stream",
     "text": [
      "              precision    recall  f1-score   support\n",
      "\n",
      "           0       0.84      0.83      0.84      1175\n",
      "           1       0.81      0.83      0.82      1058\n",
      "\n",
      "    accuracy                           0.83      2233\n",
      "   macro avg       0.83      0.83      0.83      2233\n",
      "weighted avg       0.83      0.83      0.83      2233\n",
      "\n"
     ]
    }
   ],
   "source": [
    "#Задаем оптимальный порог вероятностей\n",
    "threshold_opt = 0.55\n",
    "y_test_pred_opt = y_test_proba_pred.apply(lambda x: 1 if x > threshold_opt else 0)\n",
    "#Считаем метрики\n",
    "print(metrics.classification_report(y_test, y_test_pred_opt))"
   ]
  },
  {
   "cell_type": "code",
   "execution_count": 29,
   "id": "7516436e",
   "metadata": {},
   "outputs": [],
   "source": [
    "from sklearn.neighbors import KNeighborsClassifier\n",
    "\n",
    "# объявляем метод 7 ближайших соседей\n",
    "knn = KNeighborsClassifier(n_neighbors = 7)\n",
    "\n",
    "# обучаем его по тренировочные выборке \n",
    "knn.fit(X_train, y_train)\n",
    "\n",
    "# строим для тестовой выборки прогнозы \n",
    "y_pred_knn = knn.predict(X_test_scaled)\n",
    "\n",
    "# прогнозы вероятностей\n",
    "p_pred_knn = knn.predict_proba(X_test_scaled) \n",
    "#p_pred_knn = p_pred_knn[:, 1]  # P(y = 1 | X)"
   ]
  },
  {
   "cell_type": "code",
   "execution_count": 30,
   "id": "f1ab8f02",
   "metadata": {},
   "outputs": [
    {
     "data": {
      "text/plain": [
       "array([0., 0., 0., ..., 0., 0., 0.])"
      ]
     },
     "execution_count": 30,
     "metadata": {},
     "output_type": "execute_result"
    }
   ],
   "source": [
    "p_pred_knn[:, 1]"
   ]
  },
  {
   "cell_type": "code",
   "execution_count": 31,
   "id": "ed610597",
   "metadata": {},
   "outputs": [
    {
     "data": {
      "text/plain": [
       "array([0, 0, 0, ..., 0, 0, 0])"
      ]
     },
     "execution_count": 31,
     "metadata": {},
     "output_type": "execute_result"
    }
   ],
   "source": [
    "y_pred_knn"
   ]
  },
  {
   "cell_type": "code",
   "execution_count": 32,
   "id": "2cbf37a3",
   "metadata": {},
   "outputs": [
    {
     "data": {
      "text/plain": [
       "array([[1., 0.],\n",
       "       [1., 0.],\n",
       "       [1., 0.],\n",
       "       ...,\n",
       "       [1., 0.],\n",
       "       [1., 0.],\n",
       "       [1., 0.]])"
      ]
     },
     "execution_count": 32,
     "metadata": {},
     "output_type": "execute_result"
    }
   ],
   "source": [
    "p_pred_knn"
   ]
  },
  {
   "cell_type": "code",
   "execution_count": 33,
   "id": "404e8170",
   "metadata": {},
   "outputs": [
    {
     "data": {
      "text/plain": [
       "0.5261979399910435"
      ]
     },
     "execution_count": 33,
     "metadata": {},
     "output_type": "execute_result"
    }
   ],
   "source": [
    "from sklearn.metrics import accuracy_score\n",
    "\n",
    "# считаем долю верно построенных прогнозов, если мы не боремся с выбросами \n",
    "accuracy_score(y_test, y_pred_knn)"
   ]
  },
  {
   "cell_type": "code",
   "execution_count": 34,
   "id": "267f46ed",
   "metadata": {},
   "outputs": [],
   "source": [
    "from sklearn.preprocessing import MinMaxScaler  # класс для скалирования\n",
    "\n",
    "# Объявили скалировшик \n",
    "scaler = MinMaxScaler( )\n",
    "\n",
    "# Он сам будет считать максимумы, минимумы и делить! \n",
    "# (x - min)/(max - min) => [0; 1]\n",
    "\n",
    "# Обучили его на тренировочной выборке (он само посчитал все максимумы, минимумы)\n",
    "scaler.fit(X_train) \n",
    "\n",
    "# Теперь применяем его к нашим данным, скалировщик сам применяем формулу (x - min)/(max - min)\n",
    "X_train_norm = scaler.transform(X_train) \n",
    "X_test_norm = scaler.transform(X_test)"
   ]
  },
  {
   "cell_type": "code",
   "execution_count": 35,
   "id": "e3167120",
   "metadata": {},
   "outputs": [
    {
     "name": "stdout",
     "output_type": "stream",
     "text": [
      "1.0000000000000002 1.1819012797074955\n"
     ]
    }
   ],
   "source": [
    "print(X_train_norm.max(), X_test_norm.max())"
   ]
  },
  {
   "cell_type": "code",
   "execution_count": 36,
   "id": "78e08619",
   "metadata": {},
   "outputs": [],
   "source": [
    "knn = KNeighborsClassifier(n_neighbors = 7)\n",
    "knn.fit(X_train_norm, y_train)\n",
    "y_pred_knn = knn.predict(X_test_norm)\n",
    "p_pred_knn = knn.predict_proba(X_test_norm) \n",
    "p_pred_knn = p_pred_knn[:, 1]  # P(y = 1 | X)"
   ]
  },
  {
   "cell_type": "code",
   "execution_count": 37,
   "id": "47016df5",
   "metadata": {},
   "outputs": [
    {
     "data": {
      "text/plain": [
       "0.7362292879534259"
      ]
     },
     "execution_count": 37,
     "metadata": {},
     "output_type": "execute_result"
    }
   ],
   "source": [
    "accuracy_score(y_test, y_pred_knn)\n",
    "# Сравнительно низкий показатель, knn с 7 соседями - не лучший вариант для наших данных"
   ]
  },
  {
   "cell_type": "code",
   "execution_count": 38,
   "id": "44a3637b",
   "metadata": {},
   "outputs": [
    {
     "data": {
      "text/plain": [
       "0.5261979399910435"
      ]
     },
     "execution_count": 38,
     "metadata": {},
     "output_type": "execute_result"
    }
   ],
   "source": [
    "from sklearn.neighbors import KNeighborsClassifier\n",
    "\n",
    "# объявляем метод 5 ближайших соседей\n",
    "knn = KNeighborsClassifier(n_neighbors = 5)\n",
    "\n",
    "# обучаем его по тренировочные выборке \n",
    "knn.fit(X_train, y_train)\n",
    "\n",
    "# строим для тестовой выборки прогнозы \n",
    "y_pred_knn = knn.predict(X_test_scaled)\n",
    "\n",
    "# прогнозы вероятностей\n",
    "p_pred_knn = knn.predict_proba(X_test_scaled) \n",
    "#p_pred_knn = p_pred_knn[:, 1]  # P(y = 1 | X)\n",
    "from sklearn.metrics import accuracy_score\n",
    "\n",
    "# считаем долю верно построенных прогнозов, если мы не боремся с выбросами \n",
    "accuracy_score(y_test, y_pred_knn)"
   ]
  },
  {
   "cell_type": "code",
   "execution_count": 39,
   "id": "448c3e73",
   "metadata": {},
   "outputs": [
    {
     "data": {
      "text/plain": [
       "0.741603224361845"
      ]
     },
     "execution_count": 39,
     "metadata": {},
     "output_type": "execute_result"
    }
   ],
   "source": [
    "from sklearn.preprocessing import MinMaxScaler  # класс для скалирования! \n",
    "\n",
    "# Объявили скалировшик \n",
    "scaler = MinMaxScaler( )\n",
    "\n",
    "# Он сам будет считать максимумы, минимумы и делить! \n",
    "# (x - min)/(max - min) => [0; 1]\n",
    "\n",
    "# Обучили его на тренировочной выборке (он само посчитал все максимумы, минимумы)\n",
    "scaler.fit(X_train) \n",
    "\n",
    "# Теперь применяем его к нашим данным, скалировщик сам применяем формулу (x - min)/(max - min)\n",
    "X_train_norm = scaler.transform(X_train) \n",
    "X_test_norm = scaler.transform(X_test)\n",
    "knn = KNeighborsClassifier(n_neighbors = 5)\n",
    "knn.fit(X_train_norm, y_train)\n",
    "y_pred_knn = knn.predict(X_test_norm)\n",
    "p_pred_knn = knn.predict_proba(X_test_norm) \n",
    "p_pred_knn = p_pred_knn[:, 1]  # P(y = 1 | X)\n",
    "accuracy_score(y_test, y_pred_knn)\n",
    "# Видим, что knn c 5 соседями лучше, чем knn с 7 соседями"
   ]
  },
  {
   "cell_type": "code",
   "execution_count": 40,
   "id": "277d3345",
   "metadata": {},
   "outputs": [
    {
     "data": {
      "text/plain": [
       "0.5261979399910435"
      ]
     },
     "execution_count": 40,
     "metadata": {},
     "output_type": "execute_result"
    }
   ],
   "source": [
    "from sklearn.neighbors import KNeighborsClassifier\n",
    "\n",
    "# объявляем метод 9 ближайших соседей\n",
    "knn = KNeighborsClassifier(n_neighbors = 9)\n",
    "\n",
    "# обучаем его по тренировочные выборке \n",
    "knn.fit(X_train, y_train)\n",
    "\n",
    "# строим для тестовой выборки прогнозы \n",
    "y_pred_knn = knn.predict(X_test_scaled)\n",
    "\n",
    "# прогнозы вероятностей\n",
    "p_pred_knn = knn.predict_proba(X_test_scaled) \n",
    "#p_pred_knn = p_pred_knn[:, 1]  # P(y = 1 | X)\n",
    "from sklearn.metrics import accuracy_score\n",
    "\n",
    "# считаем долю верно построенных прогнозов, если мы не боремся с выбросами \n",
    "accuracy_score(y_test, y_pred_knn)"
   ]
  },
  {
   "cell_type": "code",
   "execution_count": 41,
   "id": "5413bcc7",
   "metadata": {},
   "outputs": [
    {
     "data": {
      "text/plain": [
       "0.7407075682937752"
      ]
     },
     "execution_count": 41,
     "metadata": {},
     "output_type": "execute_result"
    }
   ],
   "source": [
    "from sklearn.preprocessing import MinMaxScaler  # класс для скалирования! \n",
    "\n",
    "# Объявили скалировшик \n",
    "scaler = MinMaxScaler( )\n",
    "\n",
    "# Он сам будет считать максимумы, минимумы и делить! \n",
    "# (x - min)/(max - min) => [0; 1]\n",
    "\n",
    "# Обучили его на тренировочной выборке (он само посчитал все максимумы, минимумы)\n",
    "scaler.fit(X_train) \n",
    "\n",
    "# Теперь применяем его к нашим данным, скалировщик сам применяем формулу (x - min)/(max - min)\n",
    "X_train_norm = scaler.transform(X_train) \n",
    "X_test_norm = scaler.transform(X_test)\n",
    "knn = KNeighborsClassifier(n_neighbors = 9)\n",
    "knn.fit(X_train_norm, y_train)\n",
    "y_pred_knn = knn.predict(X_test_norm)\n",
    "p_pred_knn = knn.predict_proba(X_test_norm) \n",
    "p_pred_knn = p_pred_knn[:, 1]  # P(y = 1 | X)\n",
    "accuracy_score(y_test, y_pred_knn)\n",
    "# Knn с 5 соседями лучше, чем с 9, так как у последнего accuracy_score ниже. У knn с 9 соседями accuracy_score  выше,\n",
    "# чем для 7 соседей. Knn с 5 соседями лучше, чем knn с 7 соседями. На наших данных лучше всего предсказывает \n",
    "# случайный лес с показателем 0.83 на тестовой выборке"
   ]
  },
  {
   "cell_type": "markdown",
   "id": "df897879",
   "metadata": {},
   "source": [
    "#### Задание 10 (1.5 балла)"
   ]
  },
  {
   "cell_type": "markdown",
   "id": "839829d6",
   "metadata": {},
   "source": [
    "Обучите градиентный бустинг, подобрав параметры с помощью перебора по сетке. Улучшилось ли качество?"
   ]
  },
  {
   "cell_type": "code",
   "execution_count": 42,
   "id": "c51e4ca1",
   "metadata": {},
   "outputs": [],
   "source": [
    "from sklearn.ensemble import GradientBoostingClassifier\n",
    "from sklearn.metrics import make_scorer\n",
    "from sklearn.model_selection import GridSearchCV\n",
    "from sklearn.metrics import f1_score"
   ]
  },
  {
   "cell_type": "code",
   "execution_count": 43,
   "id": "d520590b",
   "metadata": {},
   "outputs": [
    {
     "name": "stdout",
     "output_type": "stream",
     "text": [
      "Fitting 3 folds for each of 24 candidates, totalling 72 fits\n",
      "[CV 1/3] END .learning_rate=1.0, n_estimators=1;, score=0.733 total time=   0.1s\n",
      "[CV 2/3] END .learning_rate=1.0, n_estimators=1;, score=0.782 total time=   0.1s\n",
      "[CV 3/3] END .learning_rate=1.0, n_estimators=1;, score=0.796 total time=   0.1s\n",
      "[CV 1/3] END .learning_rate=1.0, n_estimators=2;, score=0.807 total time=   0.1s\n",
      "[CV 2/3] END .learning_rate=1.0, n_estimators=2;, score=0.807 total time=   0.1s\n",
      "[CV 3/3] END .learning_rate=1.0, n_estimators=2;, score=0.786 total time=   0.1s\n",
      "[CV 1/3] END .learning_rate=1.0, n_estimators=4;, score=0.817 total time=   0.1s\n",
      "[CV 2/3] END .learning_rate=1.0, n_estimators=4;, score=0.808 total time=   0.1s\n",
      "[CV 3/3] END .learning_rate=1.0, n_estimators=4;, score=0.806 total time=   0.1s\n",
      "[CV 1/3] END .learning_rate=1.0, n_estimators=8;, score=0.832 total time=   0.3s\n",
      "[CV 2/3] END .learning_rate=1.0, n_estimators=8;, score=0.836 total time=   0.2s\n",
      "[CV 3/3] END .learning_rate=1.0, n_estimators=8;, score=0.827 total time=   0.1s\n",
      "[CV 1/3] END learning_rate=1.0, n_estimators=16;, score=0.830 total time=   0.2s\n",
      "[CV 2/3] END learning_rate=1.0, n_estimators=16;, score=0.840 total time=   0.2s\n",
      "[CV 3/3] END learning_rate=1.0, n_estimators=16;, score=0.839 total time=   0.3s\n",
      "[CV 1/3] END learning_rate=1.0, n_estimators=32;, score=0.839 total time=   0.6s\n",
      "[CV 2/3] END learning_rate=1.0, n_estimators=32;, score=0.837 total time=   0.5s\n",
      "[CV 3/3] END learning_rate=1.0, n_estimators=32;, score=0.837 total time=   0.6s\n",
      "[CV 1/3] END learning_rate=1.0, n_estimators=64;, score=0.828 total time=   1.4s\n",
      "[CV 2/3] END learning_rate=1.0, n_estimators=64;, score=0.836 total time=   1.6s\n",
      "[CV 3/3] END learning_rate=1.0, n_estimators=64;, score=0.824 total time=   1.3s\n",
      "[CV 1/3] END learning_rate=1.0, n_estimators=128;, score=0.828 total time=   2.4s\n",
      "[CV 2/3] END learning_rate=1.0, n_estimators=128;, score=0.826 total time=   1.7s\n",
      "[CV 3/3] END learning_rate=1.0, n_estimators=128;, score=0.822 total time=   1.9s\n",
      "[CV 1/3] END .learning_rate=0.1, n_estimators=1;, score=0.730 total time=   0.0s\n",
      "[CV 2/3] END .learning_rate=0.1, n_estimators=1;, score=0.470 total time=   0.0s\n",
      "[CV 3/3] END .learning_rate=0.1, n_estimators=1;, score=0.523 total time=   0.0s\n",
      "[CV 1/3] END .learning_rate=0.1, n_estimators=2;, score=0.737 total time=   0.0s\n",
      "[CV 2/3] END .learning_rate=0.1, n_estimators=2;, score=0.783 total time=   0.1s\n",
      "[CV 3/3] END .learning_rate=0.1, n_estimators=2;, score=0.692 total time=   0.1s\n",
      "[CV 1/3] END .learning_rate=0.1, n_estimators=4;, score=0.761 total time=   0.1s\n",
      "[CV 2/3] END .learning_rate=0.1, n_estimators=4;, score=0.773 total time=   0.1s\n",
      "[CV 3/3] END .learning_rate=0.1, n_estimators=4;, score=0.801 total time=   0.1s\n",
      "[CV 1/3] END .learning_rate=0.1, n_estimators=8;, score=0.795 total time=   0.1s\n",
      "[CV 2/3] END .learning_rate=0.1, n_estimators=8;, score=0.781 total time=   0.1s\n",
      "[CV 3/3] END .learning_rate=0.1, n_estimators=8;, score=0.802 total time=   0.1s\n",
      "[CV 1/3] END learning_rate=0.1, n_estimators=16;, score=0.811 total time=   0.4s\n",
      "[CV 2/3] END learning_rate=0.1, n_estimators=16;, score=0.792 total time=   0.6s\n",
      "[CV 3/3] END learning_rate=0.1, n_estimators=16;, score=0.802 total time=   0.4s\n",
      "[CV 1/3] END learning_rate=0.1, n_estimators=32;, score=0.828 total time=   0.6s\n",
      "[CV 2/3] END learning_rate=0.1, n_estimators=32;, score=0.817 total time=   0.6s\n",
      "[CV 3/3] END learning_rate=0.1, n_estimators=32;, score=0.818 total time=   0.6s\n",
      "[CV 1/3] END learning_rate=0.1, n_estimators=64;, score=0.835 total time=   1.2s\n",
      "[CV 2/3] END learning_rate=0.1, n_estimators=64;, score=0.843 total time=   1.2s\n",
      "[CV 3/3] END learning_rate=0.1, n_estimators=64;, score=0.829 total time=   1.0s\n",
      "[CV 1/3] END learning_rate=0.1, n_estimators=128;, score=0.845 total time=   2.1s\n",
      "[CV 2/3] END learning_rate=0.1, n_estimators=128;, score=0.852 total time=   1.9s\n",
      "[CV 3/3] END learning_rate=0.1, n_estimators=128;, score=0.846 total time=   1.8s\n",
      "[CV 1/3] END learning_rate=0.010000000000000002, n_estimators=1;, score=0.000 total time=   0.1s\n",
      "[CV 2/3] END learning_rate=0.010000000000000002, n_estimators=1;, score=0.000 total time=   0.1s\n",
      "[CV 3/3] END learning_rate=0.010000000000000002, n_estimators=1;, score=0.000 total time=   0.1s\n",
      "[CV 1/3] END learning_rate=0.010000000000000002, n_estimators=2;, score=0.000 total time=   0.1s\n",
      "[CV 2/3] END learning_rate=0.010000000000000002, n_estimators=2;, score=0.000 total time=   0.0s\n",
      "[CV 3/3] END learning_rate=0.010000000000000002, n_estimators=2;, score=0.000 total time=   0.0s\n",
      "[CV 1/3] END learning_rate=0.010000000000000002, n_estimators=4;, score=0.000 total time=   0.1s\n",
      "[CV 2/3] END learning_rate=0.010000000000000002, n_estimators=4;, score=0.000 total time=   0.2s\n",
      "[CV 3/3] END learning_rate=0.010000000000000002, n_estimators=4;, score=0.000 total time=   0.2s\n",
      "[CV 1/3] END learning_rate=0.010000000000000002, n_estimators=8;, score=0.459 total time=   0.2s\n",
      "[CV 2/3] END learning_rate=0.010000000000000002, n_estimators=8;, score=0.452 total time=   0.1s\n",
      "[CV 3/3] END learning_rate=0.010000000000000002, n_estimators=8;, score=0.523 total time=   0.1s\n",
      "[CV 1/3] END learning_rate=0.010000000000000002, n_estimators=16;, score=0.739 total time=   0.2s\n",
      "[CV 2/3] END learning_rate=0.010000000000000002, n_estimators=16;, score=0.661 total time=   0.3s\n",
      "[CV 3/3] END learning_rate=0.010000000000000002, n_estimators=16;, score=0.745 total time=   0.3s\n",
      "[CV 1/3] END learning_rate=0.010000000000000002, n_estimators=32;, score=0.761 total time=   0.7s\n",
      "[CV 2/3] END learning_rate=0.010000000000000002, n_estimators=32;, score=0.749 total time=   0.7s\n",
      "[CV 3/3] END learning_rate=0.010000000000000002, n_estimators=32;, score=0.764 total time=   0.5s\n",
      "[CV 1/3] END learning_rate=0.010000000000000002, n_estimators=64;, score=0.765 total time=   1.1s\n",
      "[CV 2/3] END learning_rate=0.010000000000000002, n_estimators=64;, score=0.776 total time=   1.1s\n",
      "[CV 3/3] END learning_rate=0.010000000000000002, n_estimators=64;, score=0.800 total time=   1.1s\n",
      "[CV 1/3] END learning_rate=0.010000000000000002, n_estimators=128;, score=0.806 total time=   2.4s\n",
      "[CV 2/3] END learning_rate=0.010000000000000002, n_estimators=128;, score=0.794 total time=   2.4s\n",
      "[CV 3/3] END learning_rate=0.010000000000000002, n_estimators=128;, score=0.801 total time=   4.0s\n"
     ]
    },
    {
     "data": {
      "text/html": [
       "<style>#sk-container-id-2 {color: black;}#sk-container-id-2 pre{padding: 0;}#sk-container-id-2 div.sk-toggleable {background-color: white;}#sk-container-id-2 label.sk-toggleable__label {cursor: pointer;display: block;width: 100%;margin-bottom: 0;padding: 0.3em;box-sizing: border-box;text-align: center;}#sk-container-id-2 label.sk-toggleable__label-arrow:before {content: \"▸\";float: left;margin-right: 0.25em;color: #696969;}#sk-container-id-2 label.sk-toggleable__label-arrow:hover:before {color: black;}#sk-container-id-2 div.sk-estimator:hover label.sk-toggleable__label-arrow:before {color: black;}#sk-container-id-2 div.sk-toggleable__content {max-height: 0;max-width: 0;overflow: hidden;text-align: left;background-color: #f0f8ff;}#sk-container-id-2 div.sk-toggleable__content pre {margin: 0.2em;color: black;border-radius: 0.25em;background-color: #f0f8ff;}#sk-container-id-2 input.sk-toggleable__control:checked~div.sk-toggleable__content {max-height: 200px;max-width: 100%;overflow: auto;}#sk-container-id-2 input.sk-toggleable__control:checked~label.sk-toggleable__label-arrow:before {content: \"▾\";}#sk-container-id-2 div.sk-estimator input.sk-toggleable__control:checked~label.sk-toggleable__label {background-color: #d4ebff;}#sk-container-id-2 div.sk-label input.sk-toggleable__control:checked~label.sk-toggleable__label {background-color: #d4ebff;}#sk-container-id-2 input.sk-hidden--visually {border: 0;clip: rect(1px 1px 1px 1px);clip: rect(1px, 1px, 1px, 1px);height: 1px;margin: -1px;overflow: hidden;padding: 0;position: absolute;width: 1px;}#sk-container-id-2 div.sk-estimator {font-family: monospace;background-color: #f0f8ff;border: 1px dotted black;border-radius: 0.25em;box-sizing: border-box;margin-bottom: 0.5em;}#sk-container-id-2 div.sk-estimator:hover {background-color: #d4ebff;}#sk-container-id-2 div.sk-parallel-item::after {content: \"\";width: 100%;border-bottom: 1px solid gray;flex-grow: 1;}#sk-container-id-2 div.sk-label:hover label.sk-toggleable__label {background-color: #d4ebff;}#sk-container-id-2 div.sk-serial::before {content: \"\";position: absolute;border-left: 1px solid gray;box-sizing: border-box;top: 0;bottom: 0;left: 50%;z-index: 0;}#sk-container-id-2 div.sk-serial {display: flex;flex-direction: column;align-items: center;background-color: white;padding-right: 0.2em;padding-left: 0.2em;position: relative;}#sk-container-id-2 div.sk-item {position: relative;z-index: 1;}#sk-container-id-2 div.sk-parallel {display: flex;align-items: stretch;justify-content: center;background-color: white;position: relative;}#sk-container-id-2 div.sk-item::before, #sk-container-id-2 div.sk-parallel-item::before {content: \"\";position: absolute;border-left: 1px solid gray;box-sizing: border-box;top: 0;bottom: 0;left: 50%;z-index: -1;}#sk-container-id-2 div.sk-parallel-item {display: flex;flex-direction: column;z-index: 1;position: relative;background-color: white;}#sk-container-id-2 div.sk-parallel-item:first-child::after {align-self: flex-end;width: 50%;}#sk-container-id-2 div.sk-parallel-item:last-child::after {align-self: flex-start;width: 50%;}#sk-container-id-2 div.sk-parallel-item:only-child::after {width: 0;}#sk-container-id-2 div.sk-dashed-wrapped {border: 1px dashed gray;margin: 0 0.4em 0.5em 0.4em;box-sizing: border-box;padding-bottom: 0.4em;background-color: white;}#sk-container-id-2 div.sk-label label {font-family: monospace;font-weight: bold;display: inline-block;line-height: 1.2em;}#sk-container-id-2 div.sk-label-container {text-align: center;}#sk-container-id-2 div.sk-container {/* jupyter's `normalize.less` sets `[hidden] { display: none; }` but bootstrap.min.css set `[hidden] { display: none !important; }` so we also need the `!important` here to be able to override the default hidden behavior on the sphinx rendered scikit-learn.org. See: https://github.com/scikit-learn/scikit-learn/issues/21755 */display: inline-block !important;position: relative;}#sk-container-id-2 div.sk-text-repr-fallback {display: none;}</style><div id=\"sk-container-id-2\" class=\"sk-top-container\"><div class=\"sk-text-repr-fallback\"><pre>GridSearchCV(cv=3, estimator=GradientBoostingClassifier(),\n",
       "             param_grid={&#x27;learning_rate&#x27;: array([1.  , 0.1 , 0.01]),\n",
       "                         &#x27;n_estimators&#x27;: array([  1,   2,   4,   8,  16,  32,  64, 128])},\n",
       "             scoring=make_scorer(f1_score), verbose=5)</pre><b>In a Jupyter environment, please rerun this cell to show the HTML representation or trust the notebook. <br />On GitHub, the HTML representation is unable to render, please try loading this page with nbviewer.org.</b></div><div class=\"sk-container\" hidden><div class=\"sk-item sk-dashed-wrapped\"><div class=\"sk-label-container\"><div class=\"sk-label sk-toggleable\"><input class=\"sk-toggleable__control sk-hidden--visually\" id=\"sk-estimator-id-2\" type=\"checkbox\" ><label for=\"sk-estimator-id-2\" class=\"sk-toggleable__label sk-toggleable__label-arrow\">GridSearchCV</label><div class=\"sk-toggleable__content\"><pre>GridSearchCV(cv=3, estimator=GradientBoostingClassifier(),\n",
       "             param_grid={&#x27;learning_rate&#x27;: array([1.  , 0.1 , 0.01]),\n",
       "                         &#x27;n_estimators&#x27;: array([  1,   2,   4,   8,  16,  32,  64, 128])},\n",
       "             scoring=make_scorer(f1_score), verbose=5)</pre></div></div></div><div class=\"sk-parallel\"><div class=\"sk-parallel-item\"><div class=\"sk-item\"><div class=\"sk-label-container\"><div class=\"sk-label sk-toggleable\"><input class=\"sk-toggleable__control sk-hidden--visually\" id=\"sk-estimator-id-3\" type=\"checkbox\" ><label for=\"sk-estimator-id-3\" class=\"sk-toggleable__label sk-toggleable__label-arrow\">estimator: GradientBoostingClassifier</label><div class=\"sk-toggleable__content\"><pre>GradientBoostingClassifier()</pre></div></div></div><div class=\"sk-serial\"><div class=\"sk-item\"><div class=\"sk-estimator sk-toggleable\"><input class=\"sk-toggleable__control sk-hidden--visually\" id=\"sk-estimator-id-4\" type=\"checkbox\" ><label for=\"sk-estimator-id-4\" class=\"sk-toggleable__label sk-toggleable__label-arrow\">GradientBoostingClassifier</label><div class=\"sk-toggleable__content\"><pre>GradientBoostingClassifier()</pre></div></div></div></div></div></div></div></div></div></div>"
      ],
      "text/plain": [
       "GridSearchCV(cv=3, estimator=GradientBoostingClassifier(),\n",
       "             param_grid={'learning_rate': array([1.  , 0.1 , 0.01]),\n",
       "                         'n_estimators': array([  1,   2,   4,   8,  16,  32,  64, 128])},\n",
       "             scoring=make_scorer(f1_score), verbose=5)"
      ]
     },
     "execution_count": 43,
     "metadata": {},
     "output_type": "execute_result"
    }
   ],
   "source": [
    "model_for_gs = GradientBoostingClassifier()\n",
    "params = {\"n_estimators\": 2**np.arange(8), \"learning_rate\": 0.1**np.arange(3)}\n",
    "gs = GridSearchCV(model_for_gs, \n",
    "                  params, \n",
    "                  cv=3, \n",
    "                  scoring=make_scorer(f1_score),\n",
    "                  verbose=5)\n",
    "gs.fit(X_train, y_train)"
   ]
  },
  {
   "cell_type": "code",
   "execution_count": 44,
   "id": "8c19287c",
   "metadata": {},
   "outputs": [
    {
     "name": "stdout",
     "output_type": "stream",
     "text": [
      "Лучшие гиперпараметры {'learning_rate': 0.1, 'n_estimators': 128}\n",
      "Лучшие значения метрики 0.8472782758140416\n"
     ]
    }
   ],
   "source": [
    "print(\"Лучшие гиперпараметры\", gs.best_params_)\n",
    "print(\"Лучшие значения метрики\", gs.best_score_)"
   ]
  },
  {
   "cell_type": "code",
   "execution_count": 45,
   "id": "588c6599",
   "metadata": {},
   "outputs": [
    {
     "data": {
      "text/plain": [
       "0.8441978733240868"
      ]
     },
     "execution_count": 45,
     "metadata": {},
     "output_type": "execute_result"
    }
   ],
   "source": [
    "# YOUR CODE\n",
    "from xgboost import XGBClassifier\n",
    "model_xgb = XGBClassifier(random_state=26)\n",
    "model_xgb.fit(X_train,y_train)\n",
    "preds_test = model_xgb.predict(X_test)\n",
    "f1_score(preds_test, y_test)\n",
    "# Мы видим, что качество модели  улучшилось (примерно на 1.5%). На большой выборке (в промышленных)\n",
    "# масштабах это очень значительно. Предпочтем градиентный бустинг с перебором по сетке, даже несмотря на то, что\n",
    "# придется подождать дополнительное время."
   ]
  },
  {
   "cell_type": "markdown",
   "id": "bc8cd4f2",
   "metadata": {},
   "source": [
    "#### Задание 11 (1.5 балла)"
   ]
  },
  {
   "cell_type": "markdown",
   "id": "4011663c",
   "metadata": {},
   "source": [
    "Реализуйте стекинг, объединив те алгоритмы, которые вы уже использовали ранее: решающие деревья, логистическую регрессию и градиентный бустинг. Изменилось ли качество?"
   ]
  },
  {
   "cell_type": "code",
   "execution_count": 46,
   "id": "09ca76ff",
   "metadata": {},
   "outputs": [
    {
     "data": {
      "text/html": [
       "<style>#sk-container-id-3 {color: black;}#sk-container-id-3 pre{padding: 0;}#sk-container-id-3 div.sk-toggleable {background-color: white;}#sk-container-id-3 label.sk-toggleable__label {cursor: pointer;display: block;width: 100%;margin-bottom: 0;padding: 0.3em;box-sizing: border-box;text-align: center;}#sk-container-id-3 label.sk-toggleable__label-arrow:before {content: \"▸\";float: left;margin-right: 0.25em;color: #696969;}#sk-container-id-3 label.sk-toggleable__label-arrow:hover:before {color: black;}#sk-container-id-3 div.sk-estimator:hover label.sk-toggleable__label-arrow:before {color: black;}#sk-container-id-3 div.sk-toggleable__content {max-height: 0;max-width: 0;overflow: hidden;text-align: left;background-color: #f0f8ff;}#sk-container-id-3 div.sk-toggleable__content pre {margin: 0.2em;color: black;border-radius: 0.25em;background-color: #f0f8ff;}#sk-container-id-3 input.sk-toggleable__control:checked~div.sk-toggleable__content {max-height: 200px;max-width: 100%;overflow: auto;}#sk-container-id-3 input.sk-toggleable__control:checked~label.sk-toggleable__label-arrow:before {content: \"▾\";}#sk-container-id-3 div.sk-estimator input.sk-toggleable__control:checked~label.sk-toggleable__label {background-color: #d4ebff;}#sk-container-id-3 div.sk-label input.sk-toggleable__control:checked~label.sk-toggleable__label {background-color: #d4ebff;}#sk-container-id-3 input.sk-hidden--visually {border: 0;clip: rect(1px 1px 1px 1px);clip: rect(1px, 1px, 1px, 1px);height: 1px;margin: -1px;overflow: hidden;padding: 0;position: absolute;width: 1px;}#sk-container-id-3 div.sk-estimator {font-family: monospace;background-color: #f0f8ff;border: 1px dotted black;border-radius: 0.25em;box-sizing: border-box;margin-bottom: 0.5em;}#sk-container-id-3 div.sk-estimator:hover {background-color: #d4ebff;}#sk-container-id-3 div.sk-parallel-item::after {content: \"\";width: 100%;border-bottom: 1px solid gray;flex-grow: 1;}#sk-container-id-3 div.sk-label:hover label.sk-toggleable__label {background-color: #d4ebff;}#sk-container-id-3 div.sk-serial::before {content: \"\";position: absolute;border-left: 1px solid gray;box-sizing: border-box;top: 0;bottom: 0;left: 50%;z-index: 0;}#sk-container-id-3 div.sk-serial {display: flex;flex-direction: column;align-items: center;background-color: white;padding-right: 0.2em;padding-left: 0.2em;position: relative;}#sk-container-id-3 div.sk-item {position: relative;z-index: 1;}#sk-container-id-3 div.sk-parallel {display: flex;align-items: stretch;justify-content: center;background-color: white;position: relative;}#sk-container-id-3 div.sk-item::before, #sk-container-id-3 div.sk-parallel-item::before {content: \"\";position: absolute;border-left: 1px solid gray;box-sizing: border-box;top: 0;bottom: 0;left: 50%;z-index: -1;}#sk-container-id-3 div.sk-parallel-item {display: flex;flex-direction: column;z-index: 1;position: relative;background-color: white;}#sk-container-id-3 div.sk-parallel-item:first-child::after {align-self: flex-end;width: 50%;}#sk-container-id-3 div.sk-parallel-item:last-child::after {align-self: flex-start;width: 50%;}#sk-container-id-3 div.sk-parallel-item:only-child::after {width: 0;}#sk-container-id-3 div.sk-dashed-wrapped {border: 1px dashed gray;margin: 0 0.4em 0.5em 0.4em;box-sizing: border-box;padding-bottom: 0.4em;background-color: white;}#sk-container-id-3 div.sk-label label {font-family: monospace;font-weight: bold;display: inline-block;line-height: 1.2em;}#sk-container-id-3 div.sk-label-container {text-align: center;}#sk-container-id-3 div.sk-container {/* jupyter's `normalize.less` sets `[hidden] { display: none; }` but bootstrap.min.css set `[hidden] { display: none !important; }` so we also need the `!important` here to be able to override the default hidden behavior on the sphinx rendered scikit-learn.org. See: https://github.com/scikit-learn/scikit-learn/issues/21755 */display: inline-block !important;position: relative;}#sk-container-id-3 div.sk-text-repr-fallback {display: none;}</style><div id=\"sk-container-id-3\" class=\"sk-top-container\"><div class=\"sk-text-repr-fallback\"><pre>StackingClassifier(estimators=[(&#x27;lr&#x27;, LogisticRegression()),\n",
       "                               (&#x27;rf&#x27;, RandomForestClassifier()),\n",
       "                               (&#x27;gb&#x27;, GradientBoostingClassifier())],\n",
       "                   final_estimator=RandomForestClassifier(n_estimators=10,\n",
       "                                                          random_state=42))</pre><b>In a Jupyter environment, please rerun this cell to show the HTML representation or trust the notebook. <br />On GitHub, the HTML representation is unable to render, please try loading this page with nbviewer.org.</b></div><div class=\"sk-container\" hidden><div class=\"sk-item sk-dashed-wrapped\"><div class=\"sk-label-container\"><div class=\"sk-label sk-toggleable\"><input class=\"sk-toggleable__control sk-hidden--visually\" id=\"sk-estimator-id-5\" type=\"checkbox\" ><label for=\"sk-estimator-id-5\" class=\"sk-toggleable__label sk-toggleable__label-arrow\">StackingClassifier</label><div class=\"sk-toggleable__content\"><pre>StackingClassifier(estimators=[(&#x27;lr&#x27;, LogisticRegression()),\n",
       "                               (&#x27;rf&#x27;, RandomForestClassifier()),\n",
       "                               (&#x27;gb&#x27;, GradientBoostingClassifier())],\n",
       "                   final_estimator=RandomForestClassifier(n_estimators=10,\n",
       "                                                          random_state=42))</pre></div></div></div><div class=\"sk-serial\"><div class=\"sk-item\"><div class=\"sk-parallel\"><div class=\"sk-parallel-item\"><div class=\"sk-item\"><div class=\"sk-label-container\"><div class=\"sk-label sk-toggleable\"><label>lr</label></div></div><div class=\"sk-serial\"><div class=\"sk-item\"><div class=\"sk-estimator sk-toggleable\"><input class=\"sk-toggleable__control sk-hidden--visually\" id=\"sk-estimator-id-6\" type=\"checkbox\" ><label for=\"sk-estimator-id-6\" class=\"sk-toggleable__label sk-toggleable__label-arrow\">LogisticRegression</label><div class=\"sk-toggleable__content\"><pre>LogisticRegression()</pre></div></div></div></div></div></div><div class=\"sk-parallel-item\"><div class=\"sk-item\"><div class=\"sk-label-container\"><div class=\"sk-label sk-toggleable\"><label>rf</label></div></div><div class=\"sk-serial\"><div class=\"sk-item\"><div class=\"sk-estimator sk-toggleable\"><input class=\"sk-toggleable__control sk-hidden--visually\" id=\"sk-estimator-id-7\" type=\"checkbox\" ><label for=\"sk-estimator-id-7\" class=\"sk-toggleable__label sk-toggleable__label-arrow\">RandomForestClassifier</label><div class=\"sk-toggleable__content\"><pre>RandomForestClassifier()</pre></div></div></div></div></div></div><div class=\"sk-parallel-item\"><div class=\"sk-item\"><div class=\"sk-label-container\"><div class=\"sk-label sk-toggleable\"><label>gb</label></div></div><div class=\"sk-serial\"><div class=\"sk-item\"><div class=\"sk-estimator sk-toggleable\"><input class=\"sk-toggleable__control sk-hidden--visually\" id=\"sk-estimator-id-8\" type=\"checkbox\" ><label for=\"sk-estimator-id-8\" class=\"sk-toggleable__label sk-toggleable__label-arrow\">GradientBoostingClassifier</label><div class=\"sk-toggleable__content\"><pre>GradientBoostingClassifier()</pre></div></div></div></div></div></div></div></div><div class=\"sk-item\"><div class=\"sk-parallel\"><div class=\"sk-parallel-item\"><div class=\"sk-item\"><div class=\"sk-label-container\"><div class=\"sk-label sk-toggleable\"><label>final_estimator</label></div></div><div class=\"sk-serial\"><div class=\"sk-item\"><div class=\"sk-estimator sk-toggleable\"><input class=\"sk-toggleable__control sk-hidden--visually\" id=\"sk-estimator-id-9\" type=\"checkbox\" ><label for=\"sk-estimator-id-9\" class=\"sk-toggleable__label sk-toggleable__label-arrow\">RandomForestClassifier</label><div class=\"sk-toggleable__content\"><pre>RandomForestClassifier(n_estimators=10, random_state=42)</pre></div></div></div></div></div></div></div></div></div></div></div></div>"
      ],
      "text/plain": [
       "StackingClassifier(estimators=[('lr', LogisticRegression()),\n",
       "                               ('rf', RandomForestClassifier()),\n",
       "                               ('gb', GradientBoostingClassifier())],\n",
       "                   final_estimator=RandomForestClassifier(n_estimators=10,\n",
       "                                                          random_state=42))"
      ]
     },
     "execution_count": 46,
     "metadata": {},
     "output_type": "execute_result"
    }
   ],
   "source": [
    "from sklearn.ensemble import StackingClassifier\n",
    "from sklearn.linear_model import LogisticRegression\n",
    "from sklearn.ensemble import RandomForestClassifier\n",
    "from sklearn.ensemble import GradientBoostingClassifier\n",
    "\n",
    "estimators = [\n",
    "    ('lr', LogisticRegression()),\n",
    "    ('rf', RandomForestClassifier()),\n",
    "    ('gb', GradientBoostingClassifier())\n",
    "]\n",
    "\n",
    "stacking_clf = StackingClassifier(\n",
    "    estimators=estimators,\n",
    "    final_estimator=RandomForestClassifier(n_estimators=10, random_state=42)\n",
    ")\n",
    "\n",
    "stacking_clf.fit(X_train_scaled, y_train)"
   ]
  },
  {
   "cell_type": "code",
   "execution_count": 47,
   "id": "d2ee3b46",
   "metadata": {},
   "outputs": [
    {
     "name": "stdout",
     "output_type": "stream",
     "text": [
      "f1-score: 0.81\n"
     ]
    }
   ],
   "source": [
    "from sklearn.metrics import f1_score\n",
    "\n",
    "y_pred_stack = stacking_clf.predict(X_test_scaled)\n",
    "print('f1-score:', round(f1_score(y_test, y_pred_stack),2))\n",
    "# Качество лучше не стало, следовательно модель не является предпочтительной"
   ]
  },
  {
   "cell_type": "markdown",
   "id": "12d81ae5",
   "metadata": {},
   "source": [
    "#### Задание 12 (1 балла)\n",
    "\n",
    "Выведите три наиболее важных признака, основываясь на любой обученной модели (на ваш выбор)"
   ]
  },
  {
   "cell_type": "code",
   "execution_count": 48,
   "id": "747436c7",
   "metadata": {},
   "outputs": [
    {
     "name": "stdout",
     "output_type": "stream",
     "text": [
      "             Feature  Importance\n",
      "3           duration    0.441583\n",
      "49  poutcome_success    0.061322\n",
      "0                age    0.046886\n"
     ]
    }
   ],
   "source": [
    "# ваше решение\n",
    "feature_importances = rf.feature_importances_  # rf - наша обученная модель \n",
    "feature_names = X_train.columns  # X_train содержит наши факторы\n",
    "\n",
    "importances_df = pd.DataFrame({'Feature': feature_names, 'Importance': feature_importances})\n",
    "importances_df = importances_df.sort_values('Importance', ascending=False) # поставим значимость по убыванию\n",
    "\n",
    "top3_features = importances_df.head(3)\n",
    "print(top3_features)"
   ]
  }
 ],
 "metadata": {
  "kernelspec": {
   "display_name": "Python 3 (ipykernel)",
   "language": "python",
   "name": "python3"
  },
  "language_info": {
   "codemirror_mode": {
    "name": "ipython",
    "version": 3
   },
   "file_extension": ".py",
   "mimetype": "text/x-python",
   "name": "python",
   "nbconvert_exporter": "python",
   "pygments_lexer": "ipython3",
   "version": "3.11.5"
  }
 },
 "nbformat": 4,
 "nbformat_minor": 5
}
