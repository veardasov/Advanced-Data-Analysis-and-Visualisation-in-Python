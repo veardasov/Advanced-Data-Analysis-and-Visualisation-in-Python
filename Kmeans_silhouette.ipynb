{
 "cells": [
  {
   "cell_type": "markdown",
   "metadata": {},
   "source": [
    "# Еще одна кластеризация и еще одна самостоятельная работа\n"
   ]
  },
  {
   "cell_type": "markdown",
   "metadata": {},
   "source": [
    "### Кластеризация политических режимов\n",
    "\n",
    "У нас имеется датасет, содержащий данные о странах и теория, что все страны можно отнести к одному из четырех видов, так называемая теория Даля. Попробуйте применить ее на практике и постараться выделить 4 кластера в данных по политическому устройству стран. Подробнее прочитать про датасет можно по [ссылке](https://www3.nd.edu/~mcoppedg/crd/Codebook.doc).\n",
    "\n",
    "Импортируем модуль pandas."
   ]
  },
  {
   "cell_type": "code",
   "execution_count": 1,
   "metadata": {},
   "outputs": [],
   "source": [
    "import pandas as pd\n",
    "import numpy as np\n",
    "import seaborn as sns\n",
    "import matplotlib.pyplot as plt\n",
    "from sklearn.metrics import silhouette_score\n",
    "\n",
    "import warnings\n",
    "warnings.filterwarnings('ignore')"
   ]
  },
  {
   "cell_type": "markdown",
   "metadata": {},
   "source": [
    "Загрузим наш датасет и посмотрим что находится внутри."
   ]
  },
  {
   "cell_type": "code",
   "execution_count": 2,
   "metadata": {},
   "outputs": [
    {
     "data": {
      "text/html": [
       "<div>\n",
       "<style scoped>\n",
       "    .dataframe tbody tr th:only-of-type {\n",
       "        vertical-align: middle;\n",
       "    }\n",
       "\n",
       "    .dataframe tbody tr th {\n",
       "        vertical-align: top;\n",
       "    }\n",
       "\n",
       "    .dataframe thead th {\n",
       "        text-align: right;\n",
       "    }\n",
       "</style>\n",
       "<table border=\"1\" class=\"dataframe\">\n",
       "  <thead>\n",
       "    <tr style=\"text-align: right;\">\n",
       "      <th></th>\n",
       "      <th>cname</th>\n",
       "      <th>abbr</th>\n",
       "      <th>year</th>\n",
       "      <th>yr</th>\n",
       "      <th>CONTEST</th>\n",
       "      <th>INCLUS</th>\n",
       "      <th>CONTESTstd</th>\n",
       "      <th>INCLUSstd</th>\n",
       "      <th>ContestationA</th>\n",
       "      <th>INCLUSA</th>\n",
       "      <th>...</th>\n",
       "      <th>ALTINF</th>\n",
       "      <th>POLY</th>\n",
       "      <th>ccode</th>\n",
       "      <th>ccodecow</th>\n",
       "      <th>ccodealp</th>\n",
       "      <th>ccodewb</th>\n",
       "      <th>f1mean</th>\n",
       "      <th>f2mean</th>\n",
       "      <th>f1sd</th>\n",
       "      <th>f2sd</th>\n",
       "    </tr>\n",
       "  </thead>\n",
       "  <tbody>\n",
       "    <tr>\n",
       "      <th>0</th>\n",
       "      <td>Afghanistan</td>\n",
       "      <td>AFGN</td>\n",
       "      <td>1950</td>\n",
       "      <td>50</td>\n",
       "      <td>-1.150339342</td>\n",
       "      <td>-1.013598554</td>\n",
       "      <td>-1.011842735</td>\n",
       "      <td>-0.741150814</td>\n",
       "      <td>-1.150339342</td>\n",
       "      <td>-1.013598554</td>\n",
       "      <td>...</td>\n",
       "      <td></td>\n",
       "      <td></td>\n",
       "      <td>4</td>\n",
       "      <td>700</td>\n",
       "      <td>AFG</td>\n",
       "      <td>AFG</td>\n",
       "      <td>0.15</td>\n",
       "      <td>0.09</td>\n",
       "      <td>1.01</td>\n",
       "      <td>0.82</td>\n",
       "    </tr>\n",
       "    <tr>\n",
       "      <th>1</th>\n",
       "      <td>Afghanistan</td>\n",
       "      <td>AFGN</td>\n",
       "      <td>1951</td>\n",
       "      <td>51</td>\n",
       "      <td>-1.109144219</td>\n",
       "      <td>-0.956002727</td>\n",
       "      <td>-0.990235662</td>\n",
       "      <td>-0.790842427</td>\n",
       "      <td>-1.109144219</td>\n",
       "      <td>-0.956002727</td>\n",
       "      <td>...</td>\n",
       "      <td></td>\n",
       "      <td></td>\n",
       "      <td>4</td>\n",
       "      <td>700</td>\n",
       "      <td>AFG</td>\n",
       "      <td>AFG</td>\n",
       "      <td>0.13</td>\n",
       "      <td>0.06</td>\n",
       "      <td>1.01</td>\n",
       "      <td>0.89</td>\n",
       "    </tr>\n",
       "    <tr>\n",
       "      <th>2</th>\n",
       "      <td>Afghanistan</td>\n",
       "      <td>AFGN</td>\n",
       "      <td>1952</td>\n",
       "      <td>52</td>\n",
       "      <td>-1.106897206</td>\n",
       "      <td>-0.839698187</td>\n",
       "      <td>-1.011173094</td>\n",
       "      <td>-0.804507241</td>\n",
       "      <td>-1.106897206</td>\n",
       "      <td>-0.839698187</td>\n",
       "      <td>...</td>\n",
       "      <td></td>\n",
       "      <td></td>\n",
       "      <td>4</td>\n",
       "      <td>700</td>\n",
       "      <td>AFG</td>\n",
       "      <td>AFG</td>\n",
       "      <td>0.14</td>\n",
       "      <td>0.01</td>\n",
       "      <td>1.04</td>\n",
       "      <td>0.97</td>\n",
       "    </tr>\n",
       "    <tr>\n",
       "      <th>3</th>\n",
       "      <td>Afghanistan</td>\n",
       "      <td>AFGN</td>\n",
       "      <td>1953</td>\n",
       "      <td>53</td>\n",
       "      <td>-1.104317508</td>\n",
       "      <td>-0.675316224</td>\n",
       "      <td>-1.018490208</td>\n",
       "      <td>-0.547784602</td>\n",
       "      <td>-1.104317508</td>\n",
       "      <td>-0.675316224</td>\n",
       "      <td>...</td>\n",
       "      <td></td>\n",
       "      <td></td>\n",
       "      <td>4</td>\n",
       "      <td>700</td>\n",
       "      <td>AFG</td>\n",
       "      <td>AFG</td>\n",
       "      <td>0.13</td>\n",
       "      <td>0.06</td>\n",
       "      <td>1.04</td>\n",
       "      <td>0.90</td>\n",
       "    </tr>\n",
       "    <tr>\n",
       "      <th>4</th>\n",
       "      <td>Afghanistan</td>\n",
       "      <td>AFGN</td>\n",
       "      <td>1954</td>\n",
       "      <td>54</td>\n",
       "      <td>-1.107440167</td>\n",
       "      <td>-0.497937884</td>\n",
       "      <td>-1.061737774</td>\n",
       "      <td>-0.453082232</td>\n",
       "      <td>-1.107440167</td>\n",
       "      <td>-0.497937884</td>\n",
       "      <td>...</td>\n",
       "      <td></td>\n",
       "      <td></td>\n",
       "      <td>4</td>\n",
       "      <td>700</td>\n",
       "      <td>AFG</td>\n",
       "      <td>AFG</td>\n",
       "      <td>0.09</td>\n",
       "      <td>0.01</td>\n",
       "      <td>1.04</td>\n",
       "      <td>0.93</td>\n",
       "    </tr>\n",
       "  </tbody>\n",
       "</table>\n",
       "<p>5 rows × 28 columns</p>\n",
       "</div>"
      ],
      "text/plain": [
       "         cname  abbr  year  yr       CONTEST        INCLUS    CONTESTstd  \\\n",
       "0  Afghanistan  AFGN  1950  50  -1.150339342  -1.013598554  -1.011842735   \n",
       "1  Afghanistan  AFGN  1951  51  -1.109144219  -0.956002727  -0.990235662   \n",
       "2  Afghanistan  AFGN  1952  52  -1.106897206  -0.839698187  -1.011173094   \n",
       "3  Afghanistan  AFGN  1953  53  -1.104317508  -0.675316224  -1.018490208   \n",
       "4  Afghanistan  AFGN  1954  54  -1.107440167  -0.497937884  -1.061737774   \n",
       "\n",
       "      INCLUSstd ContestationA       INCLUSA  ... ALTINF POLY ccode ccodecow  \\\n",
       "0  -0.741150814  -1.150339342  -1.013598554  ...                 4      700   \n",
       "1  -0.790842427  -1.109144219  -0.956002727  ...                 4      700   \n",
       "2  -0.804507241  -1.106897206  -0.839698187  ...                 4      700   \n",
       "3  -0.547784602  -1.104317508  -0.675316224  ...                 4      700   \n",
       "4  -0.453082232  -1.107440167  -0.497937884  ...                 4      700   \n",
       "\n",
       "  ccodealp ccodewb f1mean f2mean  f1sd  f2sd  \n",
       "0      AFG     AFG   0.15   0.09  1.01  0.82  \n",
       "1      AFG     AFG   0.13   0.06  1.01  0.89  \n",
       "2      AFG     AFG   0.14   0.01  1.04  0.97  \n",
       "3      AFG     AFG   0.13   0.06  1.04  0.90  \n",
       "4      AFG     AFG   0.09   0.01  1.04  0.93  \n",
       "\n",
       "[5 rows x 28 columns]"
      ]
     },
     "execution_count": 2,
     "metadata": {},
     "output_type": "execute_result"
    }
   ],
   "source": [
    "data = pd.read_csv('DahlDims.csv')\n",
    "data.head()"
   ]
  },
  {
   "cell_type": "markdown",
   "metadata": {},
   "source": [
    "В нашем датасете есть 28 колонок, но работать мы будем с 2 из них. Это колонки CONTEST и INCLUS.\n",
    "Строить мы будем распределение стран по этим параметрам за определенные год, например за 2000."
   ]
  },
  {
   "cell_type": "markdown",
   "metadata": {},
   "source": [
    "### Задание 1. (0.5 балла). Сохраните отдельно наблюдения за 2000 год"
   ]
  },
  {
   "cell_type": "code",
   "execution_count": 3,
   "metadata": {},
   "outputs": [
    {
     "data": {
      "text/html": [
       "<div>\n",
       "<style scoped>\n",
       "    .dataframe tbody tr th:only-of-type {\n",
       "        vertical-align: middle;\n",
       "    }\n",
       "\n",
       "    .dataframe tbody tr th {\n",
       "        vertical-align: top;\n",
       "    }\n",
       "\n",
       "    .dataframe thead th {\n",
       "        text-align: right;\n",
       "    }\n",
       "</style>\n",
       "<table border=\"1\" class=\"dataframe\">\n",
       "  <thead>\n",
       "    <tr style=\"text-align: right;\">\n",
       "      <th></th>\n",
       "      <th>cname</th>\n",
       "      <th>abbr</th>\n",
       "      <th>year</th>\n",
       "      <th>yr</th>\n",
       "      <th>CONTEST</th>\n",
       "      <th>INCLUS</th>\n",
       "      <th>CONTESTstd</th>\n",
       "      <th>INCLUSstd</th>\n",
       "      <th>ContestationA</th>\n",
       "      <th>INCLUSA</th>\n",
       "      <th>...</th>\n",
       "      <th>ALTINF</th>\n",
       "      <th>POLY</th>\n",
       "      <th>ccode</th>\n",
       "      <th>ccodecow</th>\n",
       "      <th>ccodealp</th>\n",
       "      <th>ccodewb</th>\n",
       "      <th>f1mean</th>\n",
       "      <th>f2mean</th>\n",
       "      <th>f1sd</th>\n",
       "      <th>f2sd</th>\n",
       "    </tr>\n",
       "  </thead>\n",
       "  <tbody>\n",
       "    <tr>\n",
       "      <th>50</th>\n",
       "      <td>Afghanistan</td>\n",
       "      <td>AFGN</td>\n",
       "      <td>2000</td>\n",
       "      <td>2000</td>\n",
       "      <td>-1.860250763</td>\n",
       "      <td>-3.632547535</td>\n",
       "      <td>-1.177129448</td>\n",
       "      <td>-1.956969586</td>\n",
       "      <td></td>\n",
       "      <td></td>\n",
       "      <td>...</td>\n",
       "      <td></td>\n",
       "      <td></td>\n",
       "      <td>4</td>\n",
       "      <td>700</td>\n",
       "      <td>AFG</td>\n",
       "      <td>AFG</td>\n",
       "      <td>0.525</td>\n",
       "      <td>0.495</td>\n",
       "      <td>0.915</td>\n",
       "      <td>0.675</td>\n",
       "    </tr>\n",
       "    <tr>\n",
       "      <th>101</th>\n",
       "      <td>Albania</td>\n",
       "      <td>ALBN</td>\n",
       "      <td>2000</td>\n",
       "      <td>2000</td>\n",
       "      <td>-0.055792334</td>\n",
       "      <td>0.529475222</td>\n",
       "      <td>0.473950014</td>\n",
       "      <td>0.852395775</td>\n",
       "      <td></td>\n",
       "      <td></td>\n",
       "      <td>...</td>\n",
       "      <td></td>\n",
       "      <td></td>\n",
       "      <td>8</td>\n",
       "      <td>339</td>\n",
       "      <td>ALB</td>\n",
       "      <td>ALB</td>\n",
       "      <td>0.525</td>\n",
       "      <td>0.495</td>\n",
       "      <td>0.915</td>\n",
       "      <td>0.675</td>\n",
       "    </tr>\n",
       "    <tr>\n",
       "      <th>140</th>\n",
       "      <td>Algeria</td>\n",
       "      <td>ALGR</td>\n",
       "      <td>2000</td>\n",
       "      <td>2000</td>\n",
       "      <td>-1.021945168</td>\n",
       "      <td>0.513831312</td>\n",
       "      <td>-0.410079829</td>\n",
       "      <td>0.841836136</td>\n",
       "      <td></td>\n",
       "      <td></td>\n",
       "      <td>...</td>\n",
       "      <td></td>\n",
       "      <td></td>\n",
       "      <td>12</td>\n",
       "      <td>615</td>\n",
       "      <td>DZA</td>\n",
       "      <td>DZA</td>\n",
       "      <td>0.525</td>\n",
       "      <td>0.495</td>\n",
       "      <td>0.915</td>\n",
       "      <td>0.675</td>\n",
       "    </tr>\n",
       "    <tr>\n",
       "      <th>191</th>\n",
       "      <td>Andorra</td>\n",
       "      <td>ANDO</td>\n",
       "      <td>2000</td>\n",
       "      <td>2000</td>\n",
       "      <td>0.400964891</td>\n",
       "      <td>-0.173187886</td>\n",
       "      <td>0.891882876</td>\n",
       "      <td>0.378098177</td>\n",
       "      <td></td>\n",
       "      <td></td>\n",
       "      <td>...</td>\n",
       "      <td></td>\n",
       "      <td></td>\n",
       "      <td>20</td>\n",
       "      <td>232</td>\n",
       "      <td>AND</td>\n",
       "      <td>ADO</td>\n",
       "      <td>0.525</td>\n",
       "      <td>0.495</td>\n",
       "      <td>0.915</td>\n",
       "      <td>0.675</td>\n",
       "    </tr>\n",
       "    <tr>\n",
       "      <th>217</th>\n",
       "      <td>Angola</td>\n",
       "      <td>ANGL</td>\n",
       "      <td>2000</td>\n",
       "      <td>2000</td>\n",
       "      <td>-1.36415187</td>\n",
       "      <td>-0.021909254</td>\n",
       "      <td>-0.723198961</td>\n",
       "      <td>0.480211254</td>\n",
       "      <td></td>\n",
       "      <td></td>\n",
       "      <td>...</td>\n",
       "      <td></td>\n",
       "      <td></td>\n",
       "      <td>24</td>\n",
       "      <td>540</td>\n",
       "      <td>AGO</td>\n",
       "      <td>AGO</td>\n",
       "      <td>0.525</td>\n",
       "      <td>0.495</td>\n",
       "      <td>0.915</td>\n",
       "      <td>0.675</td>\n",
       "    </tr>\n",
       "  </tbody>\n",
       "</table>\n",
       "<p>5 rows × 28 columns</p>\n",
       "</div>"
      ],
      "text/plain": [
       "           cname  abbr  year    yr       CONTEST        INCLUS    CONTESTstd  \\\n",
       "50   Afghanistan  AFGN  2000  2000  -1.860250763  -3.632547535  -1.177129448   \n",
       "101      Albania  ALBN  2000  2000  -0.055792334   0.529475222   0.473950014   \n",
       "140      Algeria  ALGR  2000  2000  -1.021945168   0.513831312  -0.410079829   \n",
       "191      Andorra  ANDO  2000  2000   0.400964891  -0.173187886   0.891882876   \n",
       "217       Angola  ANGL  2000  2000   -1.36415187  -0.021909254  -0.723198961   \n",
       "\n",
       "        INCLUSstd ContestationA INCLUSA  ... ALTINF POLY ccode ccodecow  \\\n",
       "50   -1.956969586                        ...                 4      700   \n",
       "101   0.852395775                        ...                 8      339   \n",
       "140   0.841836136                        ...                12      615   \n",
       "191   0.378098177                        ...                20      232   \n",
       "217   0.480211254                        ...                24      540   \n",
       "\n",
       "    ccodealp ccodewb f1mean f2mean   f1sd   f2sd  \n",
       "50       AFG     AFG  0.525  0.495  0.915  0.675  \n",
       "101      ALB     ALB  0.525  0.495  0.915  0.675  \n",
       "140      DZA     DZA  0.525  0.495  0.915  0.675  \n",
       "191      AND     ADO  0.525  0.495  0.915  0.675  \n",
       "217      AGO     AGO  0.525  0.495  0.915  0.675  \n",
       "\n",
       "[5 rows x 28 columns]"
      ]
     },
     "execution_count": 3,
     "metadata": {},
     "output_type": "execute_result"
    }
   ],
   "source": [
    "data_2000 = data[data['year'] == 2000]\n",
    "data_2000.head()"
   ]
  },
  {
   "cell_type": "markdown",
   "metadata": {},
   "source": [
    "### Задание 2. (0.5 балла). Сколько всего стран представлено для 2000 года?"
   ]
  },
  {
   "cell_type": "code",
   "execution_count": 4,
   "metadata": {},
   "outputs": [
    {
     "name": "stdout",
     "output_type": "stream",
     "text": [
      "192 страны представлены для 2000 года\n"
     ]
    }
   ],
   "source": [
    "print(f'{len(np.unique(data_2000.cname))} страны представлены для 2000 года')"
   ]
  },
  {
   "cell_type": "markdown",
   "metadata": {},
   "source": [
    "### Задание 3. (0.5 балла). Переведите признаки INCLUS и CONTEST в числовой вид."
   ]
  },
  {
   "cell_type": "code",
   "execution_count": 5,
   "metadata": {},
   "outputs": [
    {
     "name": "stdout",
     "output_type": "stream",
     "text": [
      "<class 'pandas.core.series.Series'>\n",
      "Index: 192 entries, 50 to 7562\n",
      "Series name: INCLUS\n",
      "Non-Null Count  Dtype  \n",
      "--------------  -----  \n",
      "192 non-null    float64\n",
      "dtypes: float64(1)\n",
      "memory usage: 3.0 KB\n",
      "<class 'pandas.core.series.Series'>\n",
      "Index: 192 entries, 50 to 7562\n",
      "Series name: CONTEST\n",
      "Non-Null Count  Dtype  \n",
      "--------------  -----  \n",
      "192 non-null    float64\n",
      "dtypes: float64(1)\n",
      "memory usage: 3.0 KB\n"
     ]
    }
   ],
   "source": [
    "data_2000.INCLUS = data_2000.INCLUS.astype(float)\n",
    "data_2000.CONTEST = data_2000.CONTEST.astype(float)\n",
    "data_2000.INCLUS.info()\n",
    "data_2000.CONTEST.info()"
   ]
  },
  {
   "cell_type": "markdown",
   "metadata": {},
   "source": [
    "### Задание 4. (1 балл). Постройте график, где на оси X у нас колонка INCLUS, а по y - CONTEST"
   ]
  },
  {
   "cell_type": "code",
   "execution_count": 6,
   "metadata": {},
   "outputs": [
    {
     "data": {
      "text/plain": [
       "<Axes: xlabel='INCLUS', ylabel='CONTEST'>"
      ]
     },
     "execution_count": 6,
     "metadata": {},
     "output_type": "execute_result"
    },
    {
     "data": {
      "image/png": "[encoded data removed]",
      "text/plain": [
       "<Figure size 640x480 with 1 Axes>"
      ]
     },
     "metadata": {},
     "output_type": "display_data"
    }
   ],
   "source": [
    "sns.scatterplot(x = data_2000.INCLUS, y = data_2000.CONTEST, s = 20)"
   ]
  },
  {
   "cell_type": "markdown",
   "metadata": {},
   "source": [
    "### Кластеризация с помощью KMeans\n",
    "\n",
    "Кластеризатор KMeans разбивает множество элементов векторного пространства на заранее известное число кластеров k. Он стремится минимизировать суммарное квадратичное отклонение точек кластеров от центров этих кластеров. Основная идея заключается в том, что на каждой итерации перевычисляется центр масс для каждого кластера, полученного на предыдущем шаге, затем векторы разбиваются на кластеры вновь в соответствии с тем, какой из новых центров оказался ближе по выбранной метрике.\n",
    "\n",
    "Алгоритм завершается, когда на какой-то итерации не происходит изменения внутрикластерного расстояния. Это происходит за конечное число итераций, так как количество возможных разбиений конечного множества конечно, а на каждом шаге суммарное квадратичное отклонение V уменьшается, поэтому зацикливание невозможно.\n",
    "\n",
    "Импортируем модуль KMeans из sklearn."
   ]
  },
  {
   "cell_type": "code",
   "execution_count": 7,
   "metadata": {},
   "outputs": [],
   "source": [
    "from sklearn.cluster import KMeans"
   ]
  },
  {
   "cell_type": "markdown",
   "metadata": {},
   "source": [
    "### Задание 5. (2,5 балла). Возьмите два признака: INCLUS и CONTEST и обучите кластеризатор для 4 кластеров (как сказано в теории)"
   ]
  },
  {
   "cell_type": "code",
   "execution_count": 8,
   "metadata": {},
   "outputs": [],
   "source": [
    "X = data_2000[['INCLUS', 'CONTEST']]"
   ]
  },
  {
   "cell_type": "code",
   "execution_count": 9,
   "metadata": {},
   "outputs": [
    {
     "data": {
      "text/plain": [
       "0    74\n",
       "3    58\n",
       "2    43\n",
       "1    17\n",
       "Name: count, dtype: int64"
      ]
     },
     "execution_count": 9,
     "metadata": {},
     "output_type": "execute_result"
    }
   ],
   "source": [
    "kmeans = KMeans(n_clusters = 4)\n",
    "model = kmeans.fit(X)\n",
    "\n",
    "# Из любопытства посмотрим, сколько значений в каждой группе кластеров\n",
    "labels = pd.Series(model.labels_)\n",
    "labels.value_counts()"
   ]
  },
  {
   "cell_type": "markdown",
   "metadata": {},
   "source": [
    "Посмотрим как наши данные пометились."
   ]
  },
  {
   "cell_type": "code",
   "execution_count": 10,
   "metadata": {},
   "outputs": [
    {
     "data": {
      "text/plain": [
       "array([1, 0, 2, 0, 2, 0, 3, 0, 3, 3, 2, 0, 1, 0, 0, 2, 3, 0, 3, 2, 3, 0,\n",
       "       3, 3, 1, 0, 2, 1, 2, 2, 3, 0, 0, 2, 3, 2, 0, 1, 1, 2, 3, 0, 0, 2,\n",
       "       3, 3, 3, 0, 0, 3, 0, 2, 3, 2, 2, 3, 0, 2, 3, 3, 2, 2, 0, 3, 0, 3,\n",
       "       0, 0, 0, 2, 3, 0, 3, 3, 3, 0, 0, 2, 2, 3, 3, 3, 3, 3, 2, 2, 2, 0,\n",
       "       2, 3, 1, 2, 2, 3, 0, 0, 2, 1, 0, 3, 3, 0, 0, 0, 0, 0, 0, 0, 0, 2,\n",
       "       3, 3, 0, 3, 0, 3, 2, 0, 1, 0, 0, 0, 3, 3, 3, 0, 0, 3, 1, 1, 0, 3,\n",
       "       3, 0, 0, 0, 3, 3, 1, 3, 0, 1, 0, 0, 0, 1, 0, 0, 0, 0, 2, 3, 3, 0,\n",
       "       1, 3, 3, 0, 0, 0, 0, 2, 0, 2, 3, 3, 2, 3, 2, 0, 0, 0, 2, 1, 3, 2,\n",
       "       0, 2, 0, 2, 0, 1, 3, 3, 3, 2, 0, 0, 2, 2, 0, 2], dtype=int32)"
      ]
     },
     "execution_count": 10,
     "metadata": {},
     "output_type": "execute_result"
    }
   ],
   "source": [
    "kmeans.labels_"
   ]
  },
  {
   "cell_type": "markdown",
   "metadata": {},
   "source": [
    "Всем нашим данным были присвоены лейблы от 0 до 3.\n",
    "\n",
    "Создадим новый Датафрейм, в который поместим столбцы INCLUS, CONTEST и новый столбец Labels в котором мы будем хранить помеченные кластерезатором данные."
   ]
  },
  {
   "cell_type": "code",
   "execution_count": 11,
   "metadata": {},
   "outputs": [
    {
     "data": {
      "text/plain": [
       "4"
      ]
     },
     "execution_count": 11,
     "metadata": {},
     "output_type": "execute_result"
    }
   ],
   "source": [
    "draw = pd.DataFrame({'INCLUS': X.INCLUS,\n",
    "                   'CONTEST': X.CONTEST,\n",
    "                   'Labels': kmeans.labels_})\n",
    "\n",
    "len(np.unique(draw.Labels)) # Проверяем нет ли ошибки"
   ]
  },
  {
   "cell_type": "markdown",
   "metadata": {},
   "source": [
    "Теперь давайте построим тот же график что и в начале, но уже с окраской кластеров. Для этого используем seaborn."
   ]
  },
  {
   "cell_type": "code",
   "execution_count": 12,
   "metadata": {},
   "outputs": [
    {
     "data": {
      "image/png": "[encoded data removed]",
      "text/plain": [
       "<Figure size 358.875x300 with 1 Axes>"
      ]
     },
     "metadata": {},
     "output_type": "display_data"
    }
   ],
   "source": [
    "sns.FacetGrid(draw, hue=\"Labels\").map(plt.scatter, \"INCLUS\", \"CONTEST\").add_legend()\n",
    "\n",
    "plt.title('K Means. Country Data Year 2000')\n",
    "plt.xlabel('Inclusiveness')\n",
    "plt.ylabel('Contestation')\n",
    "plt.yticks((-3,-2,-1,0,1,2), (\"-3\",\"-2\",\"-1\",\"0\",\"1\",\"2\"))\n",
    "plt.xticks((-4,-2,0,2,4), (\"-4\",\"-2\",\"0\",\"2\",\"4\"))\n",
    "plt.axvline(x=0, linestyle='--', color = 'black', linewidth = 0.7)\n",
    "plt.axhline(y=0, linestyle='--', color = 'black', linewidth = 0.7)\n",
    "plt.show()"
   ]
  },
  {
   "cell_type": "markdown",
   "metadata": {},
   "source": [
    "### Задание 6. (2,5 балла). С помощью любого известного Вам способа (мы их знаем всего 2) найдите оптимальное количество кластеров с математической точки зрения. Обучите кластеризатор для этой ситуации. Визуализируйте результат"
   ]
  },
  {
   "cell_type": "code",
   "execution_count": 13,
   "metadata": {},
   "outputs": [
    {
     "data": {
      "text/plain": [
       "<Axes: xlabel='cluster', ylabel='silhouette'>"
      ]
     },
     "execution_count": 13,
     "metadata": {},
     "output_type": "execute_result"
    },
    {
     "data": {
      "image/png": "[encoded data removed]",
      "text/plain": [
       "<Figure size 640x480 with 1 Axes>"
      ]
     },
     "metadata": {},
     "output_type": "display_data"
    }
   ],
   "source": [
    "def get_silhouette(cluster_num, X): \n",
    "    k_means =  KMeans(n_clusters=cluster_num, init='k-means++', n_init=10, random_state=42)\n",
    "    k_means.fit(X)\n",
    "    silhouette = silhouette_score(X, k_means.predict(X))\n",
    "    return silhouette\n",
    "\n",
    "silhouette_res = {\"silhouette\": [], \"cluster\": []}\n",
    "\n",
    "for cluster_num in range(2, 10):\n",
    "    silhouette_res[\"silhouette\"].append(get_silhouette(cluster_num, X))\n",
    "    silhouette_res[\"cluster\"].append(cluster_num)\n",
    "    \n",
    "silhouette_df = pd.DataFrame(silhouette_res)\n",
    "\n",
    "sns.set_style(\"darkgrid\")\n",
    "sns.lineplot(data=silhouette_df, x=\"cluster\", y=\"silhouette\", marker= \"o\")"
   ]
  },
  {
   "cell_type": "code",
   "execution_count": 14,
   "metadata": {},
   "outputs": [
    {
     "data": {
      "text/plain": [
       "0    119\n",
       "2     56\n",
       "1     17\n",
       "Name: count, dtype: int64"
      ]
     },
     "execution_count": 14,
     "metadata": {},
     "output_type": "execute_result"
    }
   ],
   "source": [
    "kmeans = KMeans(n_clusters = 3)\n",
    "model = kmeans.fit(X)\n",
    "\n",
    "# Из любопытства посмотрим, сколько значений в каждой группе кластеров\n",
    "labels = pd.Series(model.labels_)\n",
    "labels.value_counts()"
   ]
  },
  {
   "cell_type": "code",
   "execution_count": 15,
   "metadata": {},
   "outputs": [
    {
     "data": {
      "text/plain": [
       "array([1, 0, 2, 0, 2, 0, 0, 0, 0, 0, 2, 0, 1, 0, 0, 2, 0, 0, 0, 2, 0, 0,\n",
       "       0, 0, 1, 0, 2, 1, 2, 2, 0, 0, 0, 2, 0, 2, 0, 1, 1, 2, 0, 2, 0, 2,\n",
       "       0, 0, 0, 2, 0, 0, 0, 2, 0, 2, 2, 0, 2, 2, 0, 0, 2, 2, 0, 0, 0, 0,\n",
       "       0, 0, 0, 2, 0, 2, 0, 0, 0, 0, 0, 2, 2, 0, 0, 0, 0, 0, 2, 2, 2, 0,\n",
       "       2, 0, 1, 2, 2, 0, 2, 0, 2, 1, 0, 0, 0, 0, 0, 0, 2, 2, 0, 0, 0, 2,\n",
       "       0, 0, 0, 0, 0, 0, 2, 0, 1, 0, 0, 0, 0, 0, 0, 2, 2, 0, 1, 1, 0, 0,\n",
       "       0, 0, 0, 0, 0, 0, 1, 0, 0, 1, 0, 0, 0, 1, 0, 2, 0, 2, 2, 0, 0, 0,\n",
       "       1, 0, 0, 0, 0, 0, 0, 2, 0, 2, 0, 0, 2, 0, 2, 2, 0, 0, 2, 1, 0, 2,\n",
       "       0, 2, 0, 2, 0, 1, 0, 0, 0, 2, 0, 0, 2, 2, 2, 2], dtype=int32)"
      ]
     },
     "execution_count": 15,
     "metadata": {},
     "output_type": "execute_result"
    }
   ],
   "source": [
    "kmeans.labels_"
   ]
  },
  {
   "cell_type": "code",
   "execution_count": 16,
   "metadata": {},
   "outputs": [
    {
     "data": {
      "text/plain": [
       "3"
      ]
     },
     "execution_count": 16,
     "metadata": {},
     "output_type": "execute_result"
    }
   ],
   "source": [
    "draw_3 = pd.DataFrame({'INCLUS': X.INCLUS,\n",
    "                   'CONTEST': X.CONTEST,\n",
    "                   'Labels': kmeans.labels_})\n",
    "\n",
    "len(np.unique(draw_3.Labels)) # Проверяем нет ли ошибки"
   ]
  },
  {
   "cell_type": "code",
   "execution_count": 17,
   "metadata": {},
   "outputs": [
    {
     "data": {
      "image/png": "[encoded data removed]",
      "text/plain": [
       "<Figure size 357.75x300 with 1 Axes>"
      ]
     },
     "metadata": {},
     "output_type": "display_data"
    }
   ],
   "source": [
    "sns.FacetGrid(draw_3, hue=\"Labels\").map(plt.scatter, \"INCLUS\", \"CONTEST\").add_legend()\n",
    "\n",
    "plt.title('K Means. Country Data Year 2000')\n",
    "plt.xlabel('Inclusiveness')\n",
    "plt.ylabel('Contestation')\n",
    "plt.yticks((-3,-2,-1,0,1,2), (\"-3\",\"-2\",\"-1\",\"0\",\"1\",\"2\"))\n",
    "plt.xticks((-4,-2,0,2,4), (\"-4\",\"-2\",\"0\",\"2\",\"4\"))\n",
    "plt.axvline(x=0, linestyle='--', color = 'black', linewidth = 0.7)\n",
    "plt.axhline(y=0, linestyle='--', color = 'black', linewidth = 0.7)\n",
    "plt.show()"
   ]
  },
  {
   "cell_type": "markdown",
   "metadata": {},
   "source": [
    "### Задание 7. (2,5 балла). Повторите все то же самое для 1950 года. Произошли ли какие-то изменения?"
   ]
  },
  {
   "cell_type": "code",
   "execution_count": 18,
   "metadata": {},
   "outputs": [
    {
     "data": {
      "text/html": [
       "<div>\n",
       "<style scoped>\n",
       "    .dataframe tbody tr th:only-of-type {\n",
       "        vertical-align: middle;\n",
       "    }\n",
       "\n",
       "    .dataframe tbody tr th {\n",
       "        vertical-align: top;\n",
       "    }\n",
       "\n",
       "    .dataframe thead th {\n",
       "        text-align: right;\n",
       "    }\n",
       "</style>\n",
       "<table border=\"1\" class=\"dataframe\">\n",
       "  <thead>\n",
       "    <tr style=\"text-align: right;\">\n",
       "      <th></th>\n",
       "      <th>cname</th>\n",
       "      <th>abbr</th>\n",
       "      <th>year</th>\n",
       "      <th>yr</th>\n",
       "      <th>CONTEST</th>\n",
       "      <th>INCLUS</th>\n",
       "      <th>CONTESTstd</th>\n",
       "      <th>INCLUSstd</th>\n",
       "      <th>ContestationA</th>\n",
       "      <th>INCLUSA</th>\n",
       "      <th>...</th>\n",
       "      <th>ALTINF</th>\n",
       "      <th>POLY</th>\n",
       "      <th>ccode</th>\n",
       "      <th>ccodecow</th>\n",
       "      <th>ccodealp</th>\n",
       "      <th>ccodewb</th>\n",
       "      <th>f1mean</th>\n",
       "      <th>f2mean</th>\n",
       "      <th>f1sd</th>\n",
       "      <th>f2sd</th>\n",
       "    </tr>\n",
       "  </thead>\n",
       "  <tbody>\n",
       "    <tr>\n",
       "      <th>0</th>\n",
       "      <td>Afghanistan</td>\n",
       "      <td>AFGN</td>\n",
       "      <td>1950</td>\n",
       "      <td>50</td>\n",
       "      <td>-1.150339342</td>\n",
       "      <td>-1.013598554</td>\n",
       "      <td>-1.011842735</td>\n",
       "      <td>-0.741150814</td>\n",
       "      <td>-1.150339342</td>\n",
       "      <td>-1.013598554</td>\n",
       "      <td>...</td>\n",
       "      <td></td>\n",
       "      <td></td>\n",
       "      <td>4</td>\n",
       "      <td>700</td>\n",
       "      <td>AFG</td>\n",
       "      <td>AFG</td>\n",
       "      <td>0.15</td>\n",
       "      <td>0.09</td>\n",
       "      <td>1.01</td>\n",
       "      <td>0.82</td>\n",
       "    </tr>\n",
       "    <tr>\n",
       "      <th>51</th>\n",
       "      <td>Albania</td>\n",
       "      <td>ALBN</td>\n",
       "      <td>1950</td>\n",
       "      <td>50</td>\n",
       "      <td>-1.188960776</td>\n",
       "      <td>0.959032625</td>\n",
       "      <td>-1.050850384</td>\n",
       "      <td>0.876406753</td>\n",
       "      <td>-1.188960776</td>\n",
       "      <td>0.959032625</td>\n",
       "      <td>...</td>\n",
       "      <td></td>\n",
       "      <td></td>\n",
       "      <td>8</td>\n",
       "      <td>339</td>\n",
       "      <td>ALB</td>\n",
       "      <td>ALB</td>\n",
       "      <td>0.15</td>\n",
       "      <td>0.09</td>\n",
       "      <td>1.01</td>\n",
       "      <td>0.82</td>\n",
       "    </tr>\n",
       "    <tr>\n",
       "      <th>141</th>\n",
       "      <td>Andorra</td>\n",
       "      <td>ANDO</td>\n",
       "      <td>1950</td>\n",
       "      <td>50</td>\n",
       "      <td>0</td>\n",
       "      <td>0</td>\n",
       "      <td>0.15</td>\n",
       "      <td>0.09</td>\n",
       "      <td>0</td>\n",
       "      <td>0</td>\n",
       "      <td>...</td>\n",
       "      <td></td>\n",
       "      <td></td>\n",
       "      <td>20</td>\n",
       "      <td>232</td>\n",
       "      <td>AND</td>\n",
       "      <td>ADO</td>\n",
       "      <td>0.15</td>\n",
       "      <td>0.09</td>\n",
       "      <td>1.01</td>\n",
       "      <td>0.82</td>\n",
       "    </tr>\n",
       "    <tr>\n",
       "      <th>238</th>\n",
       "      <td>Argentina</td>\n",
       "      <td>ARGN</td>\n",
       "      <td>1950</td>\n",
       "      <td>50</td>\n",
       "      <td>-0.316937701</td>\n",
       "      <td>0.418327978</td>\n",
       "      <td>-0.170107078</td>\n",
       "      <td>0.433028942</td>\n",
       "      <td>-0.316937701</td>\n",
       "      <td>0.418327978</td>\n",
       "      <td>...</td>\n",
       "      <td></td>\n",
       "      <td></td>\n",
       "      <td>32</td>\n",
       "      <td>160</td>\n",
       "      <td>ARG</td>\n",
       "      <td>ARG</td>\n",
       "      <td>0.15</td>\n",
       "      <td>0.09</td>\n",
       "      <td>1.01</td>\n",
       "      <td>0.82</td>\n",
       "    </tr>\n",
       "    <tr>\n",
       "      <th>301</th>\n",
       "      <td>Australia</td>\n",
       "      <td>AUSL</td>\n",
       "      <td>1950</td>\n",
       "      <td>50</td>\n",
       "      <td>1.362703768</td>\n",
       "      <td>0.870069914</td>\n",
       "      <td>1.526330806</td>\n",
       "      <td>0.803457329</td>\n",
       "      <td>1.362703768</td>\n",
       "      <td>0.870069914</td>\n",
       "      <td>...</td>\n",
       "      <td></td>\n",
       "      <td></td>\n",
       "      <td>36</td>\n",
       "      <td>900</td>\n",
       "      <td>AUS</td>\n",
       "      <td>AUS</td>\n",
       "      <td>0.15</td>\n",
       "      <td>0.09</td>\n",
       "      <td>1.01</td>\n",
       "      <td>0.82</td>\n",
       "    </tr>\n",
       "  </tbody>\n",
       "</table>\n",
       "<p>5 rows × 28 columns</p>\n",
       "</div>"
      ],
      "text/plain": [
       "           cname  abbr  year  yr       CONTEST        INCLUS    CONTESTstd  \\\n",
       "0    Afghanistan  AFGN  1950  50  -1.150339342  -1.013598554  -1.011842735   \n",
       "51       Albania  ALBN  1950  50  -1.188960776   0.959032625  -1.050850384   \n",
       "141      Andorra  ANDO  1950  50             0             0          0.15   \n",
       "238    Argentina  ARGN  1950  50  -0.316937701   0.418327978  -0.170107078   \n",
       "301    Australia  AUSL  1950  50   1.362703768   0.870069914   1.526330806   \n",
       "\n",
       "        INCLUSstd ContestationA       INCLUSA  ... ALTINF POLY ccode ccodecow  \\\n",
       "0    -0.741150814  -1.150339342  -1.013598554  ...                 4      700   \n",
       "51    0.876406753  -1.188960776   0.959032625  ...                 8      339   \n",
       "141          0.09             0             0  ...                20      232   \n",
       "238   0.433028942  -0.316937701   0.418327978  ...                32      160   \n",
       "301   0.803457329   1.362703768   0.870069914  ...                36      900   \n",
       "\n",
       "    ccodealp ccodewb f1mean f2mean  f1sd  f2sd  \n",
       "0        AFG     AFG   0.15   0.09  1.01  0.82  \n",
       "51       ALB     ALB   0.15   0.09  1.01  0.82  \n",
       "141      AND     ADO   0.15   0.09  1.01  0.82  \n",
       "238      ARG     ARG   0.15   0.09  1.01  0.82  \n",
       "301      AUS     AUS   0.15   0.09  1.01  0.82  \n",
       "\n",
       "[5 rows x 28 columns]"
      ]
     },
     "execution_count": 18,
     "metadata": {},
     "output_type": "execute_result"
    }
   ],
   "source": [
    "data_1950 = data[data['year'] == 1950]\n",
    "data_1950.head()"
   ]
  },
  {
   "cell_type": "code",
   "execution_count": 19,
   "metadata": {},
   "outputs": [
    {
     "name": "stdout",
     "output_type": "stream",
     "text": [
      "86 стран представлены для 1950 года\n"
     ]
    }
   ],
   "source": [
    "print(f'{len(np.unique(data_1950.cname))} стран представлены для 1950 года')"
   ]
  },
  {
   "cell_type": "code",
   "execution_count": 20,
   "metadata": {},
   "outputs": [
    {
     "name": "stdout",
     "output_type": "stream",
     "text": [
      "<class 'pandas.core.series.Series'>\n",
      "Index: 86 entries, 0 to 7448\n",
      "Series name: INCLUS\n",
      "Non-Null Count  Dtype  \n",
      "--------------  -----  \n",
      "86 non-null     float64\n",
      "dtypes: float64(1)\n",
      "memory usage: 1.3 KB\n",
      "<class 'pandas.core.series.Series'>\n",
      "Index: 86 entries, 0 to 7448\n",
      "Series name: CONTEST\n",
      "Non-Null Count  Dtype  \n",
      "--------------  -----  \n",
      "86 non-null     float64\n",
      "dtypes: float64(1)\n",
      "memory usage: 1.3 KB\n"
     ]
    }
   ],
   "source": [
    "data_1950.INCLUS = data_1950.INCLUS.astype(float)\n",
    "data_1950.CONTEST = data_1950.CONTEST.astype(float)\n",
    "data_1950.INCLUS.info()\n",
    "data_1950.CONTEST.info()"
   ]
  },
  {
   "cell_type": "code",
   "execution_count": 21,
   "metadata": {},
   "outputs": [
    {
     "data": {
      "text/plain": [
       "<Axes: xlabel='INCLUS', ylabel='CONTEST'>"
      ]
     },
     "execution_count": 21,
     "metadata": {},
     "output_type": "execute_result"
    },
    {
     "data": {
      "image/png": "[encoded data removed]",
      "text/plain": [
       "<Figure size 640x480 with 1 Axes>"
      ]
     },
     "metadata": {},
     "output_type": "display_data"
    }
   ],
   "source": [
    "sns.scatterplot(x = data_1950.INCLUS, y = data_1950.CONTEST, s = 50)"
   ]
  },
  {
   "cell_type": "code",
   "execution_count": 22,
   "metadata": {},
   "outputs": [
    {
     "data": {
      "text/html": [
       "<div>\n",
       "<style scoped>\n",
       "    .dataframe tbody tr th:only-of-type {\n",
       "        vertical-align: middle;\n",
       "    }\n",
       "\n",
       "    .dataframe tbody tr th {\n",
       "        vertical-align: top;\n",
       "    }\n",
       "\n",
       "    .dataframe thead th {\n",
       "        text-align: right;\n",
       "    }\n",
       "</style>\n",
       "<table border=\"1\" class=\"dataframe\">\n",
       "  <thead>\n",
       "    <tr style=\"text-align: right;\">\n",
       "      <th></th>\n",
       "      <th>INCLUS</th>\n",
       "      <th>CONTEST</th>\n",
       "    </tr>\n",
       "  </thead>\n",
       "  <tbody>\n",
       "    <tr>\n",
       "      <th>0</th>\n",
       "      <td>-1.013599</td>\n",
       "      <td>-1.150339</td>\n",
       "    </tr>\n",
       "    <tr>\n",
       "      <th>51</th>\n",
       "      <td>0.959033</td>\n",
       "      <td>-1.188961</td>\n",
       "    </tr>\n",
       "    <tr>\n",
       "      <th>141</th>\n",
       "      <td>0.000000</td>\n",
       "      <td>0.000000</td>\n",
       "    </tr>\n",
       "    <tr>\n",
       "      <th>238</th>\n",
       "      <td>0.418328</td>\n",
       "      <td>-0.316938</td>\n",
       "    </tr>\n",
       "    <tr>\n",
       "      <th>301</th>\n",
       "      <td>0.870070</td>\n",
       "      <td>1.362704</td>\n",
       "    </tr>\n",
       "  </tbody>\n",
       "</table>\n",
       "</div>"
      ],
      "text/plain": [
       "       INCLUS   CONTEST\n",
       "0   -1.013599 -1.150339\n",
       "51   0.959033 -1.188961\n",
       "141  0.000000  0.000000\n",
       "238  0.418328 -0.316938\n",
       "301  0.870070  1.362704"
      ]
     },
     "execution_count": 22,
     "metadata": {},
     "output_type": "execute_result"
    }
   ],
   "source": [
    "X_1950 = data_1950[['INCLUS', 'CONTEST']]\n",
    "X_1950.head()"
   ]
  },
  {
   "cell_type": "code",
   "execution_count": 23,
   "metadata": {},
   "outputs": [
    {
     "data": {
      "text/plain": [
       "1    36\n",
       "3    22\n",
       "0    20\n",
       "2     8\n",
       "Name: count, dtype: int64"
      ]
     },
     "execution_count": 23,
     "metadata": {},
     "output_type": "execute_result"
    }
   ],
   "source": [
    "kmeans = KMeans(n_clusters = 4)\n",
    "model = kmeans.fit(X_1950)\n",
    "\n",
    "# Из любопытства посмотрим, сколько значений в каждой группе кластеров\n",
    "labels = pd.Series(model.labels_)\n",
    "labels.value_counts()"
   ]
  },
  {
   "cell_type": "code",
   "execution_count": 24,
   "metadata": {},
   "outputs": [
    {
     "data": {
      "text/plain": [
       "array([3, 0, 3, 0, 1, 1, 1, 2, 3, 1, 0, 1, 1, 2, 3, 1, 1, 0, 1, 0, 1, 3,\n",
       "       0, 3, 1, 1, 0, 1, 1, 1, 0, 3, 0, 1, 1, 3, 3, 2, 1, 1, 1, 1, 3, 0,\n",
       "       0, 1, 0, 3, 1, 3, 3, 3, 1, 2, 1, 1, 0, 1, 3, 3, 0, 3, 3, 1, 0, 3,\n",
       "       0, 3, 2, 1, 2, 1, 1, 1, 3, 0, 0, 1, 1, 1, 1, 0, 2, 3, 2, 0],\n",
       "      dtype=int32)"
      ]
     },
     "execution_count": 24,
     "metadata": {},
     "output_type": "execute_result"
    }
   ],
   "source": [
    "kmeans.labels_"
   ]
  },
  {
   "cell_type": "code",
   "execution_count": 25,
   "metadata": {},
   "outputs": [
    {
     "data": {
      "text/plain": [
       "4"
      ]
     },
     "execution_count": 25,
     "metadata": {},
     "output_type": "execute_result"
    }
   ],
   "source": [
    "draw_1950 = pd.DataFrame({'INCLUS': X_1950.INCLUS,\n",
    "                   'CONTEST': X_1950.CONTEST,\n",
    "                   'Labels': kmeans.labels_})\n",
    "\n",
    "len(np.unique(draw_1950.Labels)) # Проверяем нет ли ошибки"
   ]
  },
  {
   "cell_type": "code",
   "execution_count": 26,
   "metadata": {},
   "outputs": [
    {
     "data": {
      "image/png": "[encoded data removed]",
      "text/plain": [
       "<Figure size 357.75x300 with 1 Axes>"
      ]
     },
     "metadata": {},
     "output_type": "display_data"
    }
   ],
   "source": [
    "sns.FacetGrid(draw_1950, hue=\"Labels\").map(plt.scatter, \"INCLUS\", \"CONTEST\").add_legend()\n",
    "\n",
    "plt.title('K Means. Country Data Year 1950')\n",
    "plt.xlabel('Inclusiveness')\n",
    "plt.ylabel('Contestation')\n",
    "plt.yticks((-3,-2,-1,0,1,2), (\"-3\",\"-2\",\"-1\",\"0\",\"1\",\"2\"))\n",
    "plt.xticks((-4,-2,0,2,4), (\"-4\",\"-2\",\"0\",\"2\",\"4\"))\n",
    "plt.axvline(x=0, linestyle='--', color = 'black', linewidth = 0.7)\n",
    "plt.axhline(y=0, linestyle='--', color = 'black', linewidth = 0.7)\n",
    "plt.show()"
   ]
  },
  {
   "cell_type": "code",
   "execution_count": 27,
   "metadata": {},
   "outputs": [
    {
     "data": {
      "text/plain": [
       "<Axes: xlabel='cluster', ylabel='silhouette'>"
      ]
     },
     "execution_count": 27,
     "metadata": {},
     "output_type": "execute_result"
    },
    {
     "data": {
      "image/png": "[encoded data removed]",
      "text/plain": [
       "<Figure size 640x480 with 1 Axes>"
      ]
     },
     "metadata": {},
     "output_type": "display_data"
    }
   ],
   "source": [
    "def get_silhouette(cluster_num, X): \n",
    "    k_means =  KMeans(n_clusters=cluster_num, init='k-means++', n_init=10, random_state=42)\n",
    "    k_means.fit(X_1950)\n",
    "    silhouette = silhouette_score(X_1950, k_means.predict(X_1950))\n",
    "    return silhouette\n",
    "\n",
    "silhouette_res = {\"silhouette\": [], \"cluster\": []}\n",
    "\n",
    "for cluster_num in range(2, 10):\n",
    "    silhouette_res[\"silhouette\"].append(get_silhouette(cluster_num, X_1950))\n",
    "    silhouette_res[\"cluster\"].append(cluster_num)\n",
    "    \n",
    "silhouette_df = pd.DataFrame(silhouette_res)\n",
    "\n",
    "sns.set_style(\"darkgrid\")\n",
    "sns.lineplot(data=silhouette_df, x=\"cluster\", y=\"silhouette\", marker= \"o\")"
   ]
  }
 ],
 "metadata": {
  "kernelspec": {
   "display_name": "Python 3 (ipykernel)",
   "language": "python",
   "name": "python3"
  },
  "language_info": {
   "codemirror_mode": {
    "name": "ipython",
    "version": 3
   },
   "file_extension": ".py",
   "mimetype": "text/x-python",
   "name": "python",
   "nbconvert_exporter": "python",
   "pygments_lexer": "ipython3",
   "version": "3.11.5"
  }
 },
 "nbformat": 4,
 "nbformat_minor": 4
}
